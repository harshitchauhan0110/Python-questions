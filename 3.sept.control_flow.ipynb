{
 "cells": [
  {
   "cell_type": "markdown",
   "id": "88b0fb78-16e8-492a-ace7-7d096a88a81b",
   "metadata": {},
   "source": [
    "#ANSWER NO 1"
   ]
  },
  {
   "cell_type": "code",
   "execution_count": 4,
   "id": "c0cbe6b4-c975-4095-a83e-2f83951a5695",
   "metadata": {},
   "outputs": [
    {
     "name": "stdin",
     "output_type": "stream",
     "text": [
      " 12\n"
     ]
    },
    {
     "name": "stdout",
     "output_type": "stream",
     "text": [
      "its a positive number\n"
     ]
    }
   ],
   "source": [
    "n = float(input())\n",
    "if n>0 :\n",
    "    print('its a positive number')\n",
    "elif n < 0:\n",
    "    print('its a negative number')\n",
    "else:\n",
    "    print('its zero')"
   ]
  },
  {
   "cell_type": "markdown",
   "id": "b6dcccb3-8dc8-4071-83bc-bc830486aa0b",
   "metadata": {},
   "source": [
    "#ANSWER NO 2"
   ]
  },
  {
   "cell_type": "code",
   "execution_count": 6,
   "id": "e094d146-d2de-4c3a-b8e7-5c53d73a25b2",
   "metadata": {},
   "outputs": [
    {
     "name": "stdin",
     "output_type": "stream",
     "text": [
      "enter the age 19\n"
     ]
    },
    {
     "name": "stdout",
     "output_type": "stream",
     "text": [
      "he is eligible for voting\n"
     ]
    }
   ],
   "source": [
    "n = int(input('enter the age'))\n",
    "if n >= 18:\n",
    "    print('he is eligible for voting')\n",
    "elif n< 18:\n",
    "    print('he is not eligible')"
   ]
  },
  {
   "cell_type": "markdown",
   "id": "b25d4012-27a7-4efc-b121-756832ea1281",
   "metadata": {},
   "source": [
    "#ANSWER NO 3"
   ]
  },
  {
   "cell_type": "code",
   "execution_count": 8,
   "id": "0a675964-6b2d-4f06-a34f-5590a4dd3995",
   "metadata": {},
   "outputs": [
    {
     "name": "stdin",
     "output_type": "stream",
     "text": [
      " 10\n",
      " 11\n"
     ]
    },
    {
     "name": "stdout",
     "output_type": "stream",
     "text": [
      "11  is greater than 10\n"
     ]
    }
   ],
   "source": [
    "num1 = int(input())\n",
    "num2 = int(input())\n",
    "if num1 > num2:\n",
    "    print(num1, ' is greater than ', num2)\n",
    "else:\n",
    "    print(num2, ' is greater than', num1)"
   ]
  },
  {
   "cell_type": "markdown",
   "id": "2a4f84c7-ecd1-44da-9f56-3c24565dd684",
   "metadata": {},
   "source": [
    "#ANSWER NO 4 "
   ]
  },
  {
   "cell_type": "code",
   "execution_count": 1,
   "id": "9b9b3bcc-88e7-4d9c-9e5a-23abf98ac5db",
   "metadata": {},
   "outputs": [
    {
     "name": "stdin",
     "output_type": "stream",
     "text": [
      "enter the year 2004\n"
     ]
    },
    {
     "name": "stdout",
     "output_type": "stream",
     "text": [
      "its a leap year\n"
     ]
    }
   ],
   "source": [
    "year = int(input('enter the year'))\n",
    "if year%4 == 0:\n",
    "    print('its a leap year')\n",
    "else:\n",
    "    print('its not a leap year')"
   ]
  },
  {
   "cell_type": "markdown",
   "id": "f2bec01f-73ad-40f1-acaf-28a811bfa308",
   "metadata": {},
   "source": [
    "#ANSWER NO 5 "
   ]
  },
  {
   "cell_type": "code",
   "execution_count": null,
   "id": "06854e91-ac4e-4d8d-833e-26f46994e2b1",
   "metadata": {},
   "outputs": [
    {
     "name": "stdin",
     "output_type": "stream",
     "text": [
      " harshit\n"
     ]
    },
    {
     "name": "stdout",
     "output_type": "stream",
     "text": [
      "its a constant\n"
     ]
    }
   ],
   "source": [
    "char = input()\n",
    "char = char.lower()\n",
    "if char[0] == 'a' or  char == 'e' or char == 'i' or char=='o' or char == 'u':\n",
    "    print('its a vowel')\n",
    "\n",
    "else:\n",
    "    print('its a constant')"
   ]
  },
  {
   "cell_type": "markdown",
   "id": "c3af0ccb-ee39-4c89-b609-a4d9499e3884",
   "metadata": {},
   "source": [
    "#ANSWER NO 6"
   ]
  },
  {
   "cell_type": "code",
   "execution_count": 19,
   "id": "f214ef7d-0a81-41c3-977a-4670531a8199",
   "metadata": {},
   "outputs": [
    {
     "name": "stdin",
     "output_type": "stream",
     "text": [
      " 19\n"
     ]
    },
    {
     "name": "stdout",
     "output_type": "stream",
     "text": [
      "its a odd number\n"
     ]
    }
   ],
   "source": [
    "num = int(input())\n",
    "if num%2 == 0:\n",
    "    print('its a even number')\n",
    "else :\n",
    "    print('its a odd number')"
   ]
  },
  {
   "cell_type": "markdown",
   "id": "59298cb3-283a-49a8-af39-d775a147c49a",
   "metadata": {},
   "source": [
    "#ANSWER NO 7"
   ]
  },
  {
   "cell_type": "code",
   "execution_count": 1,
   "id": "c4c05a9d-ce87-4b7d-af38-18fc4c1003c2",
   "metadata": {},
   "outputs": [
    {
     "name": "stdout",
     "output_type": "stream",
     "text": [
      "The absolute value of -5 is 5\n"
     ]
    }
   ],
   "source": [
    "def calculate_absolute_value(number):\n",
    "    if number < 0:\n",
    "        return -number\n",
    "    else:\n",
    "        return number\n",
    "\n",
    "# Example usage:\n",
    "num = -5\n",
    "absolute_num = calculate_absolute_value(num)\n",
    "print(f\"The absolute value of {num} is {absolute_num}\")"
   ]
  },
  {
   "cell_type": "markdown",
   "id": "d04d3ef9-14c8-4d64-985a-c14a8a745482",
   "metadata": {},
   "source": [
    "#ANSWER NO 8"
   ]
  },
  {
   "cell_type": "code",
   "execution_count": 17,
   "id": "e65980dd-e1e0-4b02-a144-cbd1a5e6ccfc",
   "metadata": {},
   "outputs": [
    {
     "name": "stdin",
     "output_type": "stream",
     "text": [
      " 12\n",
      " 25\n",
      " 45\n"
     ]
    },
    {
     "name": "stdout",
     "output_type": "stream",
     "text": [
      "45 is the greatest\n"
     ]
    }
   ],
   "source": [
    "num1 = int(input())\n",
    "num2 = int(input())\n",
    "num3 = int(input())\n",
    "if num1 > num2 and num1 > num3:\n",
    "    print(num1, 'is gratest')\n",
    "elif num2 > num1 and num2> num3:\n",
    "    print(num2, 'is the greatest')\n",
    "else:\n",
    "    if num3>num1 and num3 > num2:\n",
    "        print(num3, 'is the greatest')"
   ]
  },
  {
   "cell_type": "markdown",
   "id": "165fe6ae-7b26-449d-83fa-dc5fb2070f3e",
   "metadata": {},
   "source": [
    "#ANSWER NO 9"
   ]
  },
  {
   "cell_type": "code",
   "execution_count": 22,
   "id": "46f68674-8394-44e9-8605-6d6ddab9fb7b",
   "metadata": {},
   "outputs": [
    {
     "name": "stdin",
     "output_type": "stream",
     "text": [
      " madam\n"
     ]
    },
    {
     "name": "stdout",
     "output_type": "stream",
     "text": [
      "its a palindrome\n"
     ]
    }
   ],
   "source": [
    "str1 = input()\n",
    "str2 = str1.lower()\n",
    "if str1 == str1[::-1]:\n",
    "    print('its a palindrome')\n",
    "else :\n",
    "    print('its not a palindrome')"
   ]
  },
  {
   "cell_type": "markdown",
   "id": "7b332a9f-b076-4d54-b5f6-257f91fc1dd4",
   "metadata": {},
   "source": [
    "#ANSWER NO 10"
   ]
  },
  {
   "cell_type": "code",
   "execution_count": 28,
   "id": "8cc8025a-ed16-42ac-b27a-70d4a9049740",
   "metadata": {},
   "outputs": [
    {
     "name": "stdin",
     "output_type": "stream",
     "text": [
      " 96.1\n"
     ]
    },
    {
     "name": "stdout",
     "output_type": "stream",
     "text": [
      "your grade is A+\n"
     ]
    }
   ],
   "source": [
    "grade = float(input())\n",
    "if grade >= 90  :\n",
    "    print('your grade is A+')\n",
    "elif 90 > grade >= 80 :\n",
    "    print('your grade is A')\n",
    "elif 80 > grade >= 70:\n",
    "    print('your grade is B+')\n",
    "elif 70> grade >= 60 :\n",
    "    print('your grade is B')\n",
    "else:\n",
    "    print('your grade is C')"
   ]
  },
  {
   "cell_type": "markdown",
   "id": "be350c2c-c217-46af-b50e-b5a12089921c",
   "metadata": {},
   "source": [
    "#ANSWER NO 11"
   ]
  },
  {
   "cell_type": "code",
   "execution_count": 3,
   "id": "6f4f4c70-c1a1-419e-87c4-bb501a8acf65",
   "metadata": {},
   "outputs": [
    {
     "name": "stdin",
     "output_type": "stream",
     "text": [
      " 12\n",
      " 13\n",
      " 14\n"
     ]
    },
    {
     "name": "stdout",
     "output_type": "stream",
     "text": [
      "14 is the largest number\n"
     ]
    }
   ],
   "source": [
    "num1 = int(input())\n",
    "num2 = int(input())\n",
    "num3 = int(input())\n",
    "\n",
    "if num1 >= num2:\n",
    "    if num1 >= num3:\n",
    "        largest = num1\n",
    "    else:\n",
    "        largest = num3\n",
    "else:\n",
    "    if num2 >= num3:\n",
    "        largest = num2\n",
    "    else:\n",
    "        largest = num3\n",
    "print(largest,'is the largest number')"
   ]
  },
  {
   "cell_type": "markdown",
   "id": "6c4703a4-1c65-45da-94e0-40e9aa99fd6b",
   "metadata": {},
   "source": [
    "#ANSWER NO 12"
   ]
  },
  {
   "cell_type": "code",
   "execution_count": 7,
   "id": "648780c5-ca95-4399-a6e0-de651f401bf5",
   "metadata": {},
   "outputs": [
    {
     "name": "stdin",
     "output_type": "stream",
     "text": [
      " 3\n",
      " 3\n",
      " 3\n"
     ]
    },
    {
     "name": "stdout",
     "output_type": "stream",
     "text": [
      "its is a equilateral triangle\n"
     ]
    }
   ],
   "source": [
    "len1 = int(input())\n",
    "len2 = int(input())\n",
    "len3 = int(input())\n",
    "if len1 == len2 and len2 == len3:\n",
    "    print('its is a equilateral triangle')\n",
    "elif len1 == len2 or len1 == len3 or len2 == len3:\n",
    "    print('its is a isosceles triangle')\n",
    "else :\n",
    "    print('its is a scalene triangle')"
   ]
  },
  {
   "cell_type": "markdown",
   "id": "b53d7daa-d27c-4905-944c-213e031c35ca",
   "metadata": {},
   "source": [
    "#ANSWER NO 13"
   ]
  },
  {
   "cell_type": "code",
   "execution_count": 11,
   "id": "b6d0904c-76c2-47bf-a121-4efcc2a9a310",
   "metadata": {},
   "outputs": [
    {
     "name": "stdin",
     "output_type": "stream",
     "text": [
      " 2000\n"
     ]
    },
    {
     "name": "stdout",
     "output_type": "stream",
     "text": [
      "its a leap year\n",
      "its also a century year\n"
     ]
    }
   ],
   "source": [
    "year = int(input())\n",
    "if year%2 == 0 :\n",
    "    print('its a leap year')\n",
    "    if year%100 == 0 :\n",
    "        print('its also a century year')"
   ]
  },
  {
   "cell_type": "markdown",
   "id": "9590a31f-696e-4d3d-8672-9a7c73860c0a",
   "metadata": {},
   "source": [
    "#ANSWER NO 14"
   ]
  },
  {
   "cell_type": "code",
   "execution_count": 12,
   "id": "e4895a3b-716b-41dd-8438-3aadfdc2b7f8",
   "metadata": {},
   "outputs": [
    {
     "name": "stdin",
     "output_type": "stream",
     "text": [
      " 10\n"
     ]
    },
    {
     "name": "stdout",
     "output_type": "stream",
     "text": [
      "its a positive number\n"
     ]
    }
   ],
   "source": [
    "n = float(input())\n",
    "if n>0 :\n",
    "    print('its a positive number')\n",
    "elif n < 0:\n",
    "    print('its a negative number')\n",
    "else:\n",
    "    print('its zero')"
   ]
  },
  {
   "cell_type": "code",
   "execution_count": 13,
   "id": "88c317ba-253a-4ba9-a9b8-a3d3a5922baa",
   "metadata": {},
   "outputs": [],
   "source": [
    "#ANSWER NO 15"
   ]
  },
  {
   "cell_type": "code",
   "execution_count": 15,
   "id": "45f27991-021e-4139-a6c1-8f29ac0717b3",
   "metadata": {},
   "outputs": [
    {
     "name": "stdin",
     "output_type": "stream",
     "text": [
      "enter your age 11\n"
     ]
    },
    {
     "name": "stdout",
     "output_type": "stream",
     "text": [
      "you are not a teenager\n"
     ]
    }
   ],
   "source": [
    "age = float(input('enter your age'))\n",
    "if age >=13 and age <= 18:\n",
    "    print('you are a teenager')\n",
    "else:\n",
    "    print('you are not a teenager')\n",
    "    \n"
   ]
  },
  {
   "cell_type": "markdown",
   "id": "d2276db8-e761-4c27-9f51-28b07ac47fde",
   "metadata": {},
   "source": [
    "#ANSWER NO 16"
   ]
  },
  {
   "cell_type": "code",
   "execution_count": 3,
   "id": "c5c06cd8-cf69-4039-9a41-9bbec09bbd6b",
   "metadata": {},
   "outputs": [
    {
     "name": "stdin",
     "output_type": "stream",
     "text": [
      " 90\n"
     ]
    },
    {
     "name": "stdout",
     "output_type": "stream",
     "text": [
      "its a right angle\n"
     ]
    }
   ],
   "source": [
    "angle = float(input())\n",
    "if 180 >angle > 90 :\n",
    "    print('its a obtuse angle')\n",
    "elif angle<90:\n",
    "    print('its a acute angle')\n",
    "else:\n",
    "    if angle == 90:\n",
    "        print('its a right angle')"
   ]
  },
  {
   "cell_type": "markdown",
   "id": "ed77dee8-b2db-4dde-a9c9-61a6af564cea",
   "metadata": {},
   "source": [
    "#ANSWER NO 17"
   ]
  },
  {
   "cell_type": "code",
   "execution_count": 8,
   "id": "c9529cf4-6915-4d5a-be83-27d1b08d2bdc",
   "metadata": {},
   "outputs": [
    {
     "name": "stdin",
     "output_type": "stream",
     "text": [
      " 2\n",
      " 5\n",
      " 1\n"
     ]
    },
    {
     "name": "stdout",
     "output_type": "stream",
     "text": [
      "there are to root : %f and %f (-0.21922359359558485, -2.2807764064044154)\n"
     ]
    }
   ],
   "source": [
    "import math\n",
    "\n",
    "a = float(input())\n",
    "b = float(input())\n",
    "c = float(input())\n",
    "\n",
    "delta = (b**2)-(4*a*c)\n",
    "\n",
    "if delta > 0:\n",
    "    x1 = (((-b) + math.sqrt(delta)) / (2*a))\n",
    "    x2 = (((-b) - math.sqrt(delta)) / (2*a))\n",
    "    print('there are to root : %f and %f', (x1,x2))\n",
    "elif delta == 0 :\n",
    "    x = (-b)/2*a\n",
    "    print('there are one root', x)\n",
    "else :\n",
    "    print('no root available delta is < 0 ')\n",
    "    "
   ]
  },
  {
   "cell_type": "markdown",
   "id": "2231ad82-ec1c-4c13-ae6d-37f26c9168e3",
   "metadata": {},
   "source": [
    "#ANSWER NO 18"
   ]
  },
  {
   "cell_type": "code",
   "execution_count": 22,
   "id": "8524dd3b-e914-4f19-abff-304cb62bb675",
   "metadata": {},
   "outputs": [
    {
     "name": "stdin",
     "output_type": "stream",
     "text": [
      "enter the number 3\n"
     ]
    },
    {
     "name": "stdout",
     "output_type": "stream",
     "text": [
      "WEDNESDAY\n"
     ]
    }
   ],
   "source": [
    "num = int(input('enter the number'))\n",
    "\n",
    "days = ['MONDAY' , 'TUESDAY', 'WEDNESDAY' ,  'THURSDAY' , 'FRIDAY' , 'SATURDAY' , 'SUNDAY' ]\n",
    "\n",
    "if num == 0 or num > 7 :\n",
    "    print('please enter the number between 1 to 7 ')\n",
    "elif 7 >= num and num > 0:\n",
    "    print(days[num-1])\n"
   ]
  },
  {
   "cell_type": "markdown",
   "id": "2bc59cea-2503-42d0-b232-12ca28d207ec",
   "metadata": {},
   "source": [
    "#ANSWER NO 19"
   ]
  },
  {
   "cell_type": "code",
   "execution_count": 2,
   "id": "731820be-476d-4404-8cd6-b0b75cb42480",
   "metadata": {},
   "outputs": [
    {
     "name": "stdin",
     "output_type": "stream",
     "text": [
      " 2000\n"
     ]
    },
    {
     "name": "stdout",
     "output_type": "stream",
     "text": [
      "its a leap year\n",
      "its also divisible by 400\n"
     ]
    }
   ],
   "source": [
    "year = int(input())\n",
    "if year%2 == 0 :\n",
    "    print('its a leap year')\n",
    "    if year%400 == 0 :\n",
    "        print('its also divisible by 400')"
   ]
  },
  {
   "cell_type": "markdown",
   "id": "78cdbf00-01de-46d9-aece-1556931fb66d",
   "metadata": {},
   "source": [
    "#ANSWER NO 20"
   ]
  },
  {
   "cell_type": "code",
   "execution_count": 2,
   "id": "2e0bfb19-4ce6-4649-bb7e-cdab6499a1d3",
   "metadata": {},
   "outputs": [
    {
     "name": "stdin",
     "output_type": "stream",
     "text": [
      " 79\n"
     ]
    },
    {
     "name": "stdout",
     "output_type": "stream",
     "text": [
      "its a prime number\n"
     ]
    }
   ],
   "source": [
    "num = int(input())\n",
    "for i in range(2,num):\n",
    "    if num%i== 0:\n",
    "        print('its not a prime number')\n",
    "        break\n",
    "else :\n",
    "    print('its a prime number')\n",
    "    "
   ]
  },
  {
   "cell_type": "markdown",
   "id": "4b973d3b-6fdf-403d-ab4b-306db8af0ae1",
   "metadata": {},
   "source": [
    "#ANSWER NO 21"
   ]
  },
  {
   "cell_type": "code",
   "execution_count": 15,
   "id": "71195b84-8eac-4c2f-833f-8fed13e8c370",
   "metadata": {},
   "outputs": [
    {
     "name": "stdin",
     "output_type": "stream",
     "text": [
      " 12\n"
     ]
    },
    {
     "name": "stdout",
     "output_type": "stream",
     "text": [
      "your grade is C\n"
     ]
    }
   ],
   "source": [
    "grade = float(input())\n",
    "if grade >= 90  :\n",
    "    print('your grade is A+')\n",
    "elif 90 > grade >= 80 :\n",
    "    print('your grade is A')\n",
    "elif 80 > grade >= 70:\n",
    "    print('your grade is B+')\n",
    "elif 70> grade >= 60 :\n",
    "    print('your grade is B')\n",
    "else:\n",
    "    print('your grade is C')"
   ]
  },
  {
   "cell_type": "markdown",
   "id": "df798e75-130c-4242-8252-b0b4f396d569",
   "metadata": {},
   "source": [
    "#ANSWER NO 22"
   ]
  },
  {
   "cell_type": "code",
   "execution_count": 17,
   "id": "013bca83-29ad-4509-bfda-26d5cadadeb5",
   "metadata": {},
   "outputs": [
    {
     "name": "stdin",
     "output_type": "stream",
     "text": [
      " 1\n",
      " 2\n",
      " 1\n"
     ]
    },
    {
     "name": "stdout",
     "output_type": "stream",
     "text": [
      "its is a isosceles triangle\n"
     ]
    }
   ],
   "source": [
    "len1 = int(input())\n",
    "len2 = int(input())\n",
    "len3 = int(input())\n",
    "if len1 == len2 and len2 == len3:\n",
    "    print('its is a equilateral triangle')\n",
    "elif len1 == len2 or len1 == len3 or len2 == len3:\n",
    "    print('its is a isosceles triangle')\n",
    "else :\n",
    "    print('its is a scalene triangle')"
   ]
  },
  {
   "cell_type": "markdown",
   "id": "d3c7e07d-2f38-4870-8435-02fde3948fed",
   "metadata": {},
   "source": [
    "#ANSWER NO 23"
   ]
  },
  {
   "cell_type": "code",
   "execution_count": 1,
   "id": "2350915a-3e9c-4f17-8740-404ac50bee5b",
   "metadata": {},
   "outputs": [
    {
     "name": "stdin",
     "output_type": "stream",
     "text": [
      "enter your weight in kilograms 61\n",
      "enter your height in meters 1.6\n"
     ]
    },
    {
     "name": "stdout",
     "output_type": "stream",
     "text": [
      "you are in healthy weight range\n"
     ]
    }
   ],
   "source": [
    "weight = float(input('enter your weight in kilograms'))\n",
    "height = float(input('enter your height in meters'))\n",
    "\n",
    "bmi = weight/height**2\n",
    "\n",
    "if bmi <18.5:\n",
    "    print('you are in under weight range')\n",
    "elif 18.5<= bmi <=24.9:\n",
    "    print('you are in healthy weight range')\n",
    "elif 25 <=bmi <=24.9:\n",
    "    print('you are in over weight range')\n",
    "else:\n",
    "    print('you are obese')\n",
    "    \n",
    "    "
   ]
  },
  {
   "cell_type": "markdown",
   "id": "9345f57b-030f-4a66-9ba8-faea0abb013e",
   "metadata": {},
   "source": [
    "#ANSWER NO 24"
   ]
  },
  {
   "cell_type": "code",
   "execution_count": 2,
   "id": "947f7839-9e81-40d4-be11-f6ddf94428a4",
   "metadata": {},
   "outputs": [
    {
     "name": "stdin",
     "output_type": "stream",
     "text": [
      " 0\n"
     ]
    },
    {
     "name": "stdout",
     "output_type": "stream",
     "text": [
      "its zero\n"
     ]
    }
   ],
   "source": [
    "n = float(input())\n",
    "if n>0 :\n",
    "    print('its a positive number')\n",
    "elif n < 0:\n",
    "    print('its a negative number')\n",
    "else:\n",
    "    print('its zero')"
   ]
  },
  {
   "cell_type": "markdown",
   "id": "890a2dda-4970-4df8-a7ba-1f1ea549e57d",
   "metadata": {},
   "source": [
    "#ANSWER NO 25"
   ]
  },
  {
   "cell_type": "code",
   "execution_count": 64,
   "id": "08ca2386-a4cd-4e21-ba56-00c29b088f7b",
   "metadata": {},
   "outputs": [
    {
     "name": "stdin",
     "output_type": "stream",
     "text": [
      "enter the string @\n"
     ]
    },
    {
     "name": "stdout",
     "output_type": "stream",
     "text": [
      "its a special character\n"
     ]
    }
   ],
   "source": [
    "char = input('enter the string')\n",
    "if len(char) > 1 :\n",
    "    print('enter a single character')\n",
    "elif char.islower() == True:\n",
    "    print('character is lowercase')\n",
    "elif char.isupper()== True :\n",
    "    print('character is uppercase')\n",
    "elif not char.isalpha()== True:\n",
    "    print('its a special character')\n"
   ]
  },
  {
   "cell_type": "markdown",
   "id": "e23ffc82-1003-4613-bf66-b29a530a12d1",
   "metadata": {},
   "source": [
    "#ANSWER NO 26"
   ]
  },
  {
   "cell_type": "code",
   "execution_count": 48,
   "id": "2a9be894-c458-4998-b2e0-69f5cba0d5a6",
   "metadata": {},
   "outputs": [
    {
     "name": "stdin",
     "output_type": "stream",
     "text": [
      " 5000\n"
     ]
    },
    {
     "name": "stdout",
     "output_type": "stream",
     "text": [
      "actual price after discount :  2500.0\n"
     ]
    }
   ],
   "source": [
    "amount = float(input())\n",
    "if 500 < amount <= 1000:\n",
    "    minus = (0.2*amount)\n",
    "    print('actual price after discount:',amount - minus)\n",
    "elif 1000< amount<=5000:\n",
    "    minus1 = (0.5 * amount)\n",
    "    print('actual price after discount : ',amount - minus1)\n",
    "elif amount>=10000:\n",
    "    minus2 = (0.7*amount)\n",
    "    print('actual amount after price : ', amount - minus2)\n",
    "else:\n",
    "    print('disount after price of shopping is greater than 500 : ',amount)\n",
    "\n"
   ]
  },
  {
   "cell_type": "markdown",
   "id": "64a6b83e-16bf-4f33-8df6-c9cd845da137",
   "metadata": {},
   "source": [
    "#ANSWER NO 27"
   ]
  },
  {
   "cell_type": "code",
   "execution_count": 11,
   "id": "d22a9eaf-d98a-4dde-b724-7e144cdbb4bf",
   "metadata": {},
   "outputs": [
    {
     "name": "stdin",
     "output_type": "stream",
     "text": [
      "enter the unit comsumption 300\n"
     ]
    },
    {
     "name": "stdout",
     "output_type": "stream",
     "text": [
      "825.0\n"
     ]
    }
   ],
   "source": [
    "unit = float(input('enter the unit comsumption'))\n",
    "if 0 < unit <=100:\n",
    "    bill = unit*1.5\n",
    "    fixedcharge = 25\n",
    "elif 100<unit <=100:\n",
    "    bill = (100*1.5) + (unit-100)*2.5\n",
    "    fixedcharge = 50\n",
    "elif 200<unit<=300:\n",
    "    bill = (100*1.5)+(100*2.5)+(unit-200)*3.5\n",
    "    fixedcharge = 75\n",
    "elif 300<unit<=400:\n",
    "    bill = (100*1.5)+(100*2.5)+(100*3.5)+(unit-300)*5\n",
    "    fixedcharge = 100\n",
    "elif 400<unit>550:\n",
    "    bill = (100*1.5)+(100*2.5)+(100*3.5)+(100*5)+(unit-400)*6.5\n",
    "    fixedcharge = 150\n",
    "print(bill+fixedcharge)\n",
    "    "
   ]
  },
  {
   "cell_type": "markdown",
   "id": "3488df2b-fe1a-4217-bffa-172fc80e0db0",
   "metadata": {},
   "source": [
    "#ANSWER NO 28"
   ]
  },
  {
   "cell_type": "code",
   "execution_count": 27,
   "id": "b0ca7426-45fa-4cce-b481-c3fc35e90b2a",
   "metadata": {},
   "outputs": [
    {
     "name": "stdin",
     "output_type": "stream",
     "text": [
      "enter the first angle 100\n",
      "enter the second angle 95\n",
      "enter the third angle 60\n",
      "enter the fourth angle 105\n"
     ]
    },
    {
     "name": "stdout",
     "output_type": "stream",
     "text": [
      "It's a quadrilateral\n"
     ]
    }
   ],
   "source": [
    "ang1 = int(input('enter the first angle'))\n",
    "ang2 = int(input('enter the second angle'))\n",
    "ang3 = int(input('enter the third angle'))\n",
    "ang4 = int(input('enter the fourth angle'))\n",
    "if ang1 == ang2 == ang3 == ang4:\n",
    "    print('its a square')\n",
    "elif ang1==ang2 and ang2==ang3:\n",
    "    print('its a rectangle')\n",
    "elif ang1 + ang2 + ang3 + ang4 == 360:\n",
    "    if ang1 == ang2 == ang3 != ang4:\n",
    "        print(\"It's an isosceles trapezoid\")\n",
    "    elif ang1 == ang3 != ang2 == ang4:\n",
    "        print(\"It's a kite\")\n",
    "    else:\n",
    "        print(\"It's a quadrilateral\")\n",
    "else:\n",
    "        print(\"It's not a valid quadrilateral\")"
   ]
  },
  {
   "cell_type": "markdown",
   "id": "d4d8e88a-ec21-4e85-a9f4-f7cccfd0b4dc",
   "metadata": {},
   "source": [
    "#ANSWER NO 29"
   ]
  },
  {
   "cell_type": "code",
   "execution_count": 44,
   "id": "7834f958-9b1c-4a5a-90c2-20d81bc32939",
   "metadata": {},
   "outputs": [
    {
     "name": "stdin",
     "output_type": "stream",
     "text": [
      "enter the name of month september\n"
     ]
    },
    {
     "name": "stdout",
     "output_type": "stream",
     "text": [
      "the season is monsoon\n",
      "the climate is humid,wet or hot\n"
     ]
    }
   ],
   "source": [
    "month = input('enter the name of month')\n",
    "m = month.lower()\n",
    "if m == 'december' or m ==  'january':\n",
    "    print('''the season is winter\n",
    "the climate is very cold''')\n",
    "elif m == 'february' or m == 'march' :\n",
    "    print('''the season is spring\n",
    "the climate if sunny and pleasant''')\n",
    "elif m == 'april' or m== 'may' or m == 'june' :\n",
    "    print('''the season is summer\n",
    "the climate is hot''')\n",
    "elif m == 'july' or m == 'august' or m =='september':\n",
    "    print('''the season is monsoon\n",
    "the climate is humid,wet or hot''')\n",
    "elif m == 'octuber' or m == 'november':\n",
    "    print('''the season is autumun\n",
    "the climate is pleasanat''')\n",
    "else:\n",
    "    print('please enter the right month name')\n",
    "    \n",
    "    "
   ]
  },
  {
   "cell_type": "markdown",
   "id": "6cd62bee-7e7c-46e9-9388-4785290339b9",
   "metadata": {},
   "source": [
    "#ANSWER NO 30 "
   ]
  },
  {
   "cell_type": "code",
   "execution_count": 55,
   "id": "705342df-b8b3-49fb-a311-d78cbf532986",
   "metadata": {},
   "outputs": [
    {
     "name": "stdin",
     "output_type": "stream",
     "text": [
      "year 2000\n",
      "month february\n"
     ]
    },
    {
     "name": "stdout",
     "output_type": "stream",
     "text": [
      "days in month is 29\n"
     ]
    }
   ],
   "source": [
    "year = int(input('year'))\n",
    "month = input('month')\n",
    "m = month.lower()\n",
    "if year % 4 == 0 :\n",
    "    yeartype = 'leap year'\n",
    "else:\n",
    "    yeartype1 = 'common year'\n",
    "    \n",
    "if m in['january', 'march','may','july','august','octuber','december']:\n",
    "    print('days in month is 31')\n",
    "elif m in ['april','june','september','november']:\n",
    "    print('days in month is 30')\n",
    "elif m == 'february':\n",
    "    if  yeartype == 'leap year':\n",
    "        \n",
    "        print('days in month is 29')\n",
    "else:\n",
    "    print('days in month is 28')\n",
    "    \n"
   ]
  },
  {
   "cell_type": "markdown",
   "id": "d73cd8fe-9df9-4df2-bb03-42b19733b3e2",
   "metadata": {},
   "source": [
    "#BASIC LEVEL QUESTIONS"
   ]
  },
  {
   "cell_type": "markdown",
   "id": "23ff648f-76a1-415a-ba4b-2689fd2f2c03",
   "metadata": {},
   "source": [
    "ANSWER NO 1"
   ]
  },
  {
   "cell_type": "code",
   "execution_count": 2,
   "id": "8474fe0c-0a10-4dfc-b6f6-174a2be583a8",
   "metadata": {},
   "outputs": [
    {
     "name": "stdin",
     "output_type": "stream",
     "text": [
      " 0\n"
     ]
    },
    {
     "name": "stdout",
     "output_type": "stream",
     "text": [
      "its zero\n"
     ]
    }
   ],
   "source": [
    "n = float(input())\n",
    "if n>0 :\n",
    "    print('its a positive number')\n",
    "elif n < 0:\n",
    "    print('its a negative number')\n",
    "else:\n",
    "    print('its zero')"
   ]
  },
  {
   "cell_type": "markdown",
   "id": "4d01e590-b068-4771-af75-6a09c90d62e9",
   "metadata": {},
   "source": [
    "ANSWER NO 2"
   ]
  },
  {
   "cell_type": "code",
   "execution_count": 4,
   "id": "d0632ad3-4219-4348-be91-8063f57a3b94",
   "metadata": {},
   "outputs": [
    {
     "name": "stdin",
     "output_type": "stream",
     "text": [
      "enter the age 19\n"
     ]
    },
    {
     "name": "stdout",
     "output_type": "stream",
     "text": [
      "he is eligible for voting\n"
     ]
    }
   ],
   "source": [
    "n = int(input('enter the age'))\n",
    "if n >= 18:\n",
    "    print('he is eligible for voting')\n",
    "elif n< 18:\n",
    "    print('he is not eligible')"
   ]
  },
  {
   "cell_type": "markdown",
   "id": "61a5ecc3-3f6b-4290-a002-503b20312931",
   "metadata": {},
   "source": [
    "ANSWER NO 3"
   ]
  },
  {
   "cell_type": "code",
   "execution_count": 5,
   "id": "260cd538-6129-449f-ae98-ebec6c87a5e4",
   "metadata": {},
   "outputs": [
    {
     "name": "stdin",
     "output_type": "stream",
     "text": [
      " 10\n",
      " 14\n"
     ]
    },
    {
     "name": "stdout",
     "output_type": "stream",
     "text": [
      "14  is greater than 10\n"
     ]
    }
   ],
   "source": [
    "num1 = int(input())\n",
    "num2 = int(input())\n",
    "if num1 > num2:\n",
    "    print(num1, ' is greater than ', num2)\n",
    "else:\n",
    "    print(num2, ' is greater than', num1)"
   ]
  },
  {
   "cell_type": "markdown",
   "id": "babeb883-bfb0-4245-a962-7b06dbdf6ae6",
   "metadata": {},
   "source": [
    "ANSWER NO 4"
   ]
  },
  {
   "cell_type": "code",
   "execution_count": 8,
   "id": "a5402915-4d43-44ee-9545-c4589377960d",
   "metadata": {},
   "outputs": [
    {
     "name": "stdin",
     "output_type": "stream",
     "text": [
      " 70\n"
     ]
    },
    {
     "name": "stdout",
     "output_type": "stream",
     "text": [
      "your grade is B+\n"
     ]
    }
   ],
   "source": [
    "grade = float(input())\n",
    "if grade >= 90  :\n",
    "    print('your grade is A+')\n",
    "elif 90 > grade >= 80 :\n",
    "    print('your grade is A')\n",
    "elif 80 > grade >= 70:\n",
    "    print('your grade is B+')\n",
    "elif 70> grade >= 60 :\n",
    "    print('your grade is B')\n",
    "else:\n",
    "    print('your grade is C')"
   ]
  },
  {
   "cell_type": "markdown",
   "id": "aceb2fcc-ebb9-4f9d-905c-afb1d6339346",
   "metadata": {},
   "source": [
    "ANSWER NO 5"
   ]
  },
  {
   "cell_type": "code",
   "execution_count": 9,
   "id": "a5788ddb-647c-4480-8810-6286abc0134a",
   "metadata": {},
   "outputs": [
    {
     "name": "stdin",
     "output_type": "stream",
     "text": [
      "enter the year 2008\n"
     ]
    },
    {
     "name": "stdout",
     "output_type": "stream",
     "text": [
      "its a leap year\n"
     ]
    }
   ],
   "source": [
    "year = int(input('enter the year'))\n",
    "if year%4 == 0:\n",
    "    print('its a leap year')\n",
    "else:\n",
    "    print('its not a leap year')"
   ]
  },
  {
   "cell_type": "markdown",
   "id": "9eb0716b-5e72-4c97-8e28-ece7f939bcc6",
   "metadata": {},
   "source": [
    "ANSWER NO 6"
   ]
  },
  {
   "cell_type": "code",
   "execution_count": 10,
   "id": "f45d0386-85be-412e-89e6-d88348c99793",
   "metadata": {},
   "outputs": [
    {
     "name": "stdin",
     "output_type": "stream",
     "text": [
      " 10\n",
      " 10\n",
      " 12\n"
     ]
    },
    {
     "name": "stdout",
     "output_type": "stream",
     "text": [
      "its is a isosceles triangle\n"
     ]
    }
   ],
   "source": [
    "len1 = int(input())\n",
    "len2 = int(input())\n",
    "len3 = int(input())\n",
    "if len1 == len2 and len2 == len3:\n",
    "    print('its is a equilateral triangle')\n",
    "elif len1 == len2 or len1 == len3 or len2 == len3:\n",
    "    print('its is a isosceles triangle')\n",
    "else :\n",
    "    print('its is a scalene triangle')"
   ]
  },
  {
   "cell_type": "markdown",
   "id": "3049b0db-8f41-4525-848f-a1c6894dd7b2",
   "metadata": {},
   "source": [
    "ANSWER NO 7"
   ]
  },
  {
   "cell_type": "code",
   "execution_count": 11,
   "id": "38a7e591-48c5-4e09-b6a0-5ce6751c0467",
   "metadata": {},
   "outputs": [
    {
     "name": "stdin",
     "output_type": "stream",
     "text": [
      " 45\n",
      " 56\n",
      " 78\n"
     ]
    },
    {
     "name": "stdout",
     "output_type": "stream",
     "text": [
      "78 is the largest number\n"
     ]
    }
   ],
   "source": [
    "num1 = int(input())\n",
    "num2 = int(input())\n",
    "num3 = int(input())\n",
    "\n",
    "if num1 >= num2:\n",
    "    if num1 >= num3:\n",
    "        largest = num1\n",
    "    else:\n",
    "        largest = num3\n",
    "else:\n",
    "    if num2 >= num3:\n",
    "        largest = num2\n",
    "    else:\n",
    "        largest = num3\n",
    "print(largest,'is the largest number')"
   ]
  },
  {
   "cell_type": "markdown",
   "id": "4493cc8c-fe74-4602-9ff3-8534c64c4167",
   "metadata": {},
   "source": [
    "ANSWER NO 8"
   ]
  },
  {
   "cell_type": "code",
   "execution_count": 32,
   "id": "368e9a9a-71a5-424e-86da-7c51bd243c51",
   "metadata": {},
   "outputs": [
    {
     "name": "stdin",
     "output_type": "stream",
     "text": [
      " elephant\n"
     ]
    },
    {
     "name": "stdout",
     "output_type": "stream",
     "text": [
      "its a vowel\n"
     ]
    }
   ],
   "source": [
    "char = input()\n",
    "char = char.lower()\n",
    "if char[0] in 'aeiou':\n",
    "    print('its a vowel')\n",
    "else :\n",
    "    print('its a constant')"
   ]
  },
  {
   "cell_type": "markdown",
   "id": "41823094-7f17-488a-a776-0f891afc337f",
   "metadata": {},
   "source": [
    "ANSWER NO 9"
   ]
  },
  {
   "cell_type": "code",
   "execution_count": 47,
   "id": "fd557852-07db-4179-a4e1-f71c7886d253",
   "metadata": {},
   "outputs": [
    {
     "name": "stdin",
     "output_type": "stream",
     "text": [
      " 400\n"
     ]
    },
    {
     "name": "stdout",
     "output_type": "stream",
     "text": [
      "disount after price of shopping is greater than 500 :  400.0\n"
     ]
    }
   ],
   "source": [
    "amount = float(input())\n",
    "if 500 < amount <= 1000:\n",
    "    minus = (0.2*amount)\n",
    "    print('actual price after discount:',amount - minus)\n",
    "elif 1000< amount<=5000:\n",
    "    minus1 = (0.5 * amount)\n",
    "    print('actual price after discount : ',amount - minus1)\n",
    "elif amount>=10000:\n",
    "    minus2 = (0.7*amount)\n",
    "    print('actual amount after price : ', amount - minus2)\n",
    "else:\n",
    "    print('disount after price of shopping is greater than 500 : ',amount)\n",
    "\n"
   ]
  },
  {
   "cell_type": "markdown",
   "id": "9eedb7ea-9228-4350-b4f7-07e3f3e9c058",
   "metadata": {},
   "source": [
    "ANSWER NO 10"
   ]
  },
  {
   "cell_type": "code",
   "execution_count": 52,
   "id": "0e8d21fb-d3be-41c6-aac6-2aa827c7bee2",
   "metadata": {},
   "outputs": [
    {
     "name": "stdin",
     "output_type": "stream",
     "text": [
      " 7\n"
     ]
    },
    {
     "name": "stdout",
     "output_type": "stream",
     "text": [
      "odd number\n"
     ]
    }
   ],
   "source": [
    "num = int(input())\n",
    "if num%2== 0 :\n",
    "    print('even number')\n",
    "else:\n",
    "    print('odd number')"
   ]
  },
  {
   "cell_type": "markdown",
   "id": "33941de5-f0ae-4ffd-abc5-8ed7c73f1b1d",
   "metadata": {},
   "source": [
    "ANSWER NO 11"
   ]
  },
  {
   "cell_type": "code",
   "execution_count": 1,
   "id": "8afe32ec-817f-4692-9d44-a6cbada74b3d",
   "metadata": {},
   "outputs": [
    {
     "name": "stdin",
     "output_type": "stream",
     "text": [
      " 3\n",
      " 4\n",
      " 4\n"
     ]
    },
    {
     "name": "stdout",
     "output_type": "stream",
     "text": [
      "no root available delta is < 0 \n"
     ]
    }
   ],
   "source": [
    "import math\n",
    "\n",
    "a = float(input())\n",
    "b = float(input())\n",
    "c = float(input())\n",
    "\n",
    "delta = (b**2)-(4*a*c)\n",
    "\n",
    "if delta > 0:\n",
    "    x1 = (((-b) + math.sqrt(delta)) / (2*a))\n",
    "    x2 = (((-b) - math.sqrt(delta)) / (2*a))\n",
    "    print('there are to root : %f and %f', (x1,x2))\n",
    "elif delta == 0 :\n",
    "    x = (-b)/2*a\n",
    "    print('there are one root', x)\n",
    "else :\n",
    "    print('no root available delta is < 0 ')\n",
    "    "
   ]
  },
  {
   "cell_type": "markdown",
   "id": "9cba6912-f7c3-4f1d-82ea-111bdcfa6727",
   "metadata": {},
   "source": [
    "ANSWER NO 12"
   ]
  },
  {
   "cell_type": "code",
   "execution_count": 2,
   "id": "5e395df1-0bd0-4b99-ba83-b59d03fc1732",
   "metadata": {},
   "outputs": [
    {
     "name": "stdin",
     "output_type": "stream",
     "text": [
      "enter the number 7\n"
     ]
    },
    {
     "name": "stdout",
     "output_type": "stream",
     "text": [
      "SUNDAY\n"
     ]
    }
   ],
   "source": [
    "num = int(input('enter the number'))\n",
    "\n",
    "days = ['MONDAY' , 'TUESDAY', 'WEDNESDAY' ,  'THURSDAY' , 'FRIDAY' , 'SATURDAY' , 'SUNDAY' ]\n",
    "\n",
    "if num == 0 or num > 7 :\n",
    "    print('please enter the number between 1 to 7 ')\n",
    "elif 7 >= num and num > 0:\n",
    "    print(days[num-1])\n"
   ]
  },
  {
   "cell_type": "markdown",
   "id": "3f4938a1-0c7a-455c-9d91-bab0be1a2cf3",
   "metadata": {},
   "source": [
    "ANSWER NO 13"
   ]
  },
  {
   "cell_type": "code",
   "execution_count": 16,
   "id": "fc425262-406b-41f6-a197-55da202b09d9",
   "metadata": {},
   "outputs": [
    {
     "name": "stdin",
     "output_type": "stream",
     "text": [
      " 5\n"
     ]
    },
    {
     "name": "stdout",
     "output_type": "stream",
     "text": [
      "120\n"
     ]
    }
   ],
   "source": [
    "n = int(input())\n",
    "\n",
    "def fact(n):\n",
    "    if n == 0:\n",
    "        return 1\n",
    "    else :\n",
    "        return n * fact(n-1)\n",
    "print(fact(n))\n",
    "    "
   ]
  },
  {
   "cell_type": "markdown",
   "id": "bc2b3eb9-d147-473a-9f99-ecf7b0311eab",
   "metadata": {},
   "source": [
    "ANSWER NO 14"
   ]
  },
  {
   "cell_type": "code",
   "execution_count": 18,
   "id": "2f868aab-2103-4897-8be0-82647e8ec24d",
   "metadata": {},
   "outputs": [
    {
     "name": "stdin",
     "output_type": "stream",
     "text": [
      " 56\n",
      " 67\n",
      " 70\n"
     ]
    },
    {
     "name": "stdout",
     "output_type": "stream",
     "text": [
      "70 is the largest number\n"
     ]
    }
   ],
   "source": [
    "num1 = int(input())\n",
    "num2 = int(input())\n",
    "num3 = int(input())\n",
    "\n",
    "if num1 >= num2:\n",
    "    if num1 >= num3:\n",
    "        largest = num1\n",
    "    else:\n",
    "        largest = num3\n",
    "else:\n",
    "    if num2 >= num3:\n",
    "        largest = num2\n",
    "    else:\n",
    "        largest = num3\n",
    "print(largest,'is the largest number')"
   ]
  },
  {
   "cell_type": "markdown",
   "id": "de7c21ae-e19b-4c43-ae74-6b2812a19ba2",
   "metadata": {},
   "source": [
    "ANSWER NO 15"
   ]
  },
  {
   "cell_type": "markdown",
   "id": "a4d7d19e-6c1c-432b-83e6-5972019e8f41",
   "metadata": {},
   "source": [
    "print('WELCOME TO THE SBI ATM')\n",
    "trial = 3\n",
    "userpin = 1234\n",
    "\n",
    "while trial == 0 :\n",
    "    pin = int(input('enter your pin'))\n",
    "    if pin != userpin :\n",
    "    \n",
    "        print('your pin is incorrect')\n",
    "        trial -= 1\n",
    "    elif "
   ]
  },
  {
   "cell_type": "markdown",
   "id": "c76ef375-307a-4309-ad48-fe5582de50c7",
   "metadata": {},
   "source": [
    "ANSWER NO 16"
   ]
  },
  {
   "cell_type": "code",
   "execution_count": 3,
   "id": "7df510ad-6ac4-4043-aef9-06810b82e55a",
   "metadata": {},
   "outputs": [
    {
     "name": "stdin",
     "output_type": "stream",
     "text": [
      " flight\n"
     ]
    },
    {
     "name": "stdout",
     "output_type": "stream",
     "text": [
      "its not a palindrome\n"
     ]
    }
   ],
   "source": [
    "string = input()\n",
    "string.lower()\n",
    "if string.lower()[::-1]==string.lower():\n",
    "    print('its a palindrome')\n",
    "else :\n",
    "    print('its not a palindrome')"
   ]
  },
  {
   "cell_type": "markdown",
   "id": "498b87f9-a526-4059-83ab-b6b575d67886",
   "metadata": {},
   "source": [
    "ANSWER NO 17"
   ]
  },
  {
   "cell_type": "code",
   "execution_count": 1,
   "id": "34919b33-cdab-4549-98cb-cc366d7d8da5",
   "metadata": {},
   "outputs": [
    {
     "name": "stdout",
     "output_type": "stream",
     "text": [
      "The average of a list of numbers, excluding the smallest and largest values is 58.25.\n"
     ]
    }
   ],
   "source": [
    "list_517 = [3, 1, 109, 34, 87, 456]\n",
    "list_517.sort()\n",
    "del list_517[0]\n",
    "len_list_517 = len(list_517)\n",
    "del list_517[len_list_517-1]\n",
    "avg_list_517 = sum(list_517)/len(list_517)\n",
    "print(f'The average of a list of numbers, excluding the smallest and largest values is {avg_list_517}.')"
   ]
  },
  {
   "cell_type": "markdown",
   "id": "2e3a2758-b8de-4f73-ac94-56ed16c6df8a",
   "metadata": {},
   "source": [
    "ANSWER NO 18"
   ]
  },
  {
   "cell_type": "code",
   "execution_count": 4,
   "id": "3ac8cde8-190a-4816-9d58-41dc57a4af0f",
   "metadata": {},
   "outputs": [
    {
     "name": "stdin",
     "output_type": "stream",
     "text": [
      "enter the temperature in celcius 78\n"
     ]
    },
    {
     "name": "stdout",
     "output_type": "stream",
     "text": [
      "temprature in farenhite : 172.4\n"
     ]
    }
   ],
   "source": [
    "celcius = float(input('enter the temperature in celcius'))\n",
    "farenhite = celcius*9/5+ 32\n",
    "\n",
    "print('temprature in farenhite :', farenhite)"
   ]
  },
  {
   "cell_type": "markdown",
   "id": "0099230d-477f-4d7b-84cf-65a0da133ce8",
   "metadata": {},
   "source": [
    "ANSWER NO 19"
   ]
  },
  {
   "cell_type": "code",
   "execution_count": 6,
   "id": "0aa94de3-13d4-4523-a4bc-6d21e6dfa328",
   "metadata": {},
   "outputs": [
    {
     "name": "stdin",
     "output_type": "stream",
     "text": [
      "enter the number 4\n",
      "enter the sign e.g.(*,/,+,-) +\n",
      " 6\n"
     ]
    },
    {
     "name": "stdout",
     "output_type": "stream",
     "text": [
      "10\n"
     ]
    }
   ],
   "source": [
    "no1 = int(input('enter the number'))\n",
    "sign = input('enter the sign e.g.(*,/,+,-)')\n",
    "no2 = int(input())\n",
    "if sign == '*':\n",
    "    print(no1*no2)\n",
    "elif sign == '/':\n",
    "    print(no1/no2)\n",
    "elif sign == '+':\n",
    "    print(no1+no2)\n",
    "elif sign == '-':\n",
    "    print(no1- no2)\n",
    "else:\n",
    "    print('please check and correct the sign you gave')"
   ]
  },
  {
   "cell_type": "markdown",
   "id": "d7a18476-6418-44de-ab59-ca5cbdbbc965",
   "metadata": {},
   "source": [
    "ANSWER NO 20"
   ]
  },
  {
   "cell_type": "code",
   "execution_count": 7,
   "id": "7c3560a4-954a-4d1d-a517-6f7cb1c53f64",
   "metadata": {},
   "outputs": [
    {
     "name": "stdout",
     "output_type": "stream",
     "text": [
      "Please enter the coefficients of cubic equation: \n"
     ]
    },
    {
     "name": "stdin",
     "output_type": "stream",
     "text": [
      "Enter the first coefficient of the cubic equation:  1\n",
      "Enter the second coefficient of the cubic equation:  3\n",
      "Enter the third coefficient of the cubic equation:  4\n",
      "Enter the fourth coefficient of the cubic equation:  5\n"
     ]
    },
    {
     "name": "stdout",
     "output_type": "stream",
     "text": [
      "4\n"
     ]
    }
   ],
   "source": [
    "print('Please enter the coefficients of cubic equation: ')\n",
    "a = int(input('Enter the first coefficient of the cubic equation: '))\n",
    "b = int(input('Enter the second coefficient of the cubic equation: '))\n",
    "c = int(input('Enter the third coefficient of the cubic equation: '))\n",
    "d = int(input('Enter the fourth coefficient of the cubic equation: '))\n",
    "D0 = b**2 - 3*a*c\n",
    "D1 = 2*(b**3) - 9*a*b*c + 27*(a**2)*d\n",
    "C = D1 \n",
    "print(c)"
   ]
  },
  {
   "cell_type": "markdown",
   "id": "24a91a68-38f4-4004-a613-1c10fb78d461",
   "metadata": {},
   "source": [
    "ANSWER NO 21"
   ]
  },
  {
   "cell_type": "code",
   "execution_count": null,
   "id": "5d743f2e-275e-41f7-a95c-e45fe3f338ad",
   "metadata": {},
   "outputs": [],
   "source": []
  },
  {
   "cell_type": "markdown",
   "id": "f864c871-cdb7-4bac-b90a-011bd401ce9c",
   "metadata": {},
   "source": [
    "ANSWER NO 22"
   ]
  },
  {
   "cell_type": "code",
   "execution_count": 11,
   "id": "7c7d3807-3a8f-4cbd-ba31-c0f283b033e9",
   "metadata": {},
   "outputs": [
    {
     "name": "stdin",
     "output_type": "stream",
     "text": [
      "choose your hand r, p ,s : p\n"
     ]
    },
    {
     "name": "stdout",
     "output_type": "stream",
     "text": [
      "s\n",
      "you loose better luck next time\n"
     ]
    }
   ],
   "source": [
    "import random\n",
    "myhand = input('choose your hand r, p ,s :')\n",
    "cho = ['r','p','s']\n",
    "opphan = random.choice(cho)\n",
    "print(opphan)\n",
    "if myhand == opphan:\n",
    "    print('its a tie')\n",
    "elif myhand == 'r' and opphan == 's':\n",
    "    print('you are the winner')\n",
    "elif myhand == 'p' and opphan == 'r':\n",
    "    print('your are the winner')\n",
    "elif myhand == 's' and opphan == 'p':\n",
    "    print('you are the winner')\n",
    "else:\n",
    "    print('you loose better luck next time')"
   ]
  },
  {
   "cell_type": "markdown",
   "id": "3e1e4832-252f-4769-8d9a-78af77894182",
   "metadata": {},
   "source": [
    "ANSWER NO 23"
   ]
  },
  {
   "cell_type": "code",
   "execution_count": 17,
   "id": "e316e8dd-14f8-44a2-95a7-5c1a67736c55",
   "metadata": {},
   "outputs": [
    {
     "name": "stdin",
     "output_type": "stream",
     "text": [
      "enter the length of the password 5\n"
     ]
    },
    {
     "name": "stdout",
     "output_type": "stream",
     "text": [
      "your password is XD+Gg\n"
     ]
    }
   ],
   "source": [
    "import random \n",
    "length = int(input('enter the length of the password'))\n",
    "password = \"123456789ABCDEFGHIJKLMNOPQRSTUVWXYZabcdefghijklmnopqrstuvwxyz!@#$%^&*()_+\"\n",
    "result = ''.join(random.sample(password,length))\n",
    "print(f'your password is {result}')"
   ]
  },
  {
   "cell_type": "markdown",
   "id": "85eacaed-8928-4774-99be-773b91112a5a",
   "metadata": {},
   "source": [
    "ANSWER NO 24"
   ]
  },
  {
   "cell_type": "code",
   "execution_count": null,
   "id": "e40ede24-e249-44c0-ae39-5a6b5c0ae517",
   "metadata": {},
   "outputs": [],
   "source": []
  },
  {
   "cell_type": "markdown",
   "id": "e46b7f8a-8862-47f9-8130-71e9b5109fc5",
   "metadata": {},
   "source": [
    "ANSWER NO 25"
   ]
  },
  {
   "cell_type": "code",
   "execution_count": 22,
   "id": "48540f23-15a5-4065-88e7-da9eff3dcd0b",
   "metadata": {},
   "outputs": [
    {
     "name": "stdout",
     "output_type": "stream",
     "text": [
      "The liner equation is written like : (a/b)*x + (c/d) = (e/f)\n"
     ]
    },
    {
     "name": "stdin",
     "output_type": "stream",
     "text": [
      "a =  1\n",
      "b =  2\n",
      "c =  3\n",
      "d =  4\n",
      "e =  5\n",
      "f =  5\n"
     ]
    },
    {
     "name": "stdout",
     "output_type": "stream",
     "text": [
      "Value of x is 0.5\n"
     ]
    }
   ],
   "source": [
    "print('The liner equation is written like : (a/b)*x + (c/d) = (e/f)')\n",
    "a = int(input('a = '))\n",
    "b = int(input('b = '))\n",
    "c = int(input('c = '))\n",
    "d = int(input('d = '))\n",
    "e = int(input('e = '))\n",
    "f = int(input('f = '))\n",
    "if b == 0 or d == 0 or f == 0:\n",
    "    print('Value of x is not calculatable')\n",
    "elif c == 0 and e == 0 and b != 0 and d != 0 and f != 0:\n",
    "    print('Value of x = 0')\n",
    "elif c == 0 and e == 0 and b == 0 and d == 0 and f == 0:\n",
    "    print('Value of x is not calculatable')\n",
    "else:\n",
    "    print(f'Value of x is {((e/f)-(c/d))/(a/b)}')"
   ]
  },
  {
   "cell_type": "markdown",
   "id": "813f10e1-2f7b-445b-8b54-b720d9868622",
   "metadata": {},
   "source": [
    "ANSWER NO 26"
   ]
  },
  {
   "cell_type": "code",
   "execution_count": 37,
   "id": "165658af-a354-4cdc-92b5-795c6cc3773a",
   "metadata": {},
   "outputs": [
    {
     "name": "stdin",
     "output_type": "stream",
     "text": [
      "enter you name  harsh\n"
     ]
    },
    {
     "name": "stdout",
     "output_type": "stream",
     "text": [
      "welcome to game harsh\n",
      "what is the capital of india\n",
      "a - new delhi\n",
      "b - banglore\n",
      "c - haryana \n",
      "d - punjab\n"
     ]
    },
    {
     "name": "stdin",
     "output_type": "stream",
     "text": [
      "enter your answer a ,b , c , d a\n"
     ]
    },
    {
     "name": "stdout",
     "output_type": "stream",
     "text": [
      "you are correct\n",
      "score is 1\n",
      "which country is hosting the worldcup 2023\n",
      "a - AUSTRALIA\n",
      "b - INDIA\n",
      "c - ENGLAND\n",
      "d - NEW ZALAND\n"
     ]
    },
    {
     "name": "stdin",
     "output_type": "stream",
     "text": [
      "select option a , b , c ,d b\n"
     ]
    },
    {
     "name": "stdout",
     "output_type": "stream",
     "text": [
      "correct answer\n",
      "score 2\n"
     ]
    }
   ],
   "source": [
    "score = 0\n",
    "name = input('enter you name ')\n",
    "print('welcome to game', name)\n",
    "q1 = '''what is the capital of india\n",
    "a - new delhi\n",
    "b - banglore\n",
    "c - haryana \n",
    "d - punjab'''\n",
    "print(q1)\n",
    "ans = input('enter your answer a ,b , c , d')\n",
    "if ans == 'a':\n",
    "    score += 1\n",
    "    print('you are correct')\n",
    "    print('score is', score)\n",
    "else:\n",
    "    print('wrong answer')\n",
    "    print('score is ', score)\n",
    "q2 = '''which country is hosting the worldcup 2023\n",
    "a - AUSTRALIA\n",
    "b - INDIA\n",
    "c - ENGLAND\n",
    "d - NEW ZALAND'''\n",
    "print(q2)\n",
    "ans = input('select option a , b , c ,d')\n",
    "if ans == 'b' :\n",
    "    print('correct answer')\n",
    "    score += 1\n",
    "    print('score 2')\n",
    "else :\n",
    "    print('wrong answer')\n",
    "    print('score is ', score)"
   ]
  },
  {
   "cell_type": "markdown",
   "id": "b00022c8-aa9a-4d13-8d0c-97d16ce02a60",
   "metadata": {},
   "source": [
    "ANSWER NO 27"
   ]
  },
  {
   "cell_type": "code",
   "execution_count": 5,
   "id": "c4dc0d38-ce45-4528-9ab4-09333d2f063c",
   "metadata": {},
   "outputs": [
    {
     "name": "stdin",
     "output_type": "stream",
     "text": [
      "ENTER THE YEAR  2004\n"
     ]
    },
    {
     "name": "stdout",
     "output_type": "stream",
     "text": [
      "its not a prime number\n"
     ]
    }
   ],
   "source": [
    "num = int(input('ENTER THE YEAR '))\n",
    "for i in range(2,num):\n",
    "    if num%i== 0:\n",
    "        print('its not a prime number')\n",
    "        break\n",
    "else :\n",
    "         print('its a prime number')\n",
    "    \n",
    "    "
   ]
  },
  {
   "cell_type": "markdown",
   "id": "e97455f8-10e1-4906-bcbb-0c671f71fb7f",
   "metadata": {},
   "source": [
    "ANSWER NO 28"
   ]
  },
  {
   "cell_type": "code",
   "execution_count": 2,
   "id": "d8ce3f86-a64e-4c14-801c-637749b983a7",
   "metadata": {},
   "outputs": [
    {
     "name": "stdin",
     "output_type": "stream",
     "text": [
      " 76\n",
      " 899\n",
      " 65\n"
     ]
    },
    {
     "name": "stdout",
     "output_type": "stream",
     "text": [
      "[65, 76, 899]\n"
     ]
    }
   ],
   "source": [
    "a = int(input())\n",
    "b = int(input())\n",
    "c = int(input())\n",
    "d = []\n",
    "d.append(a)\n",
    "d.append(b)\n",
    "d.append(c)\n",
    "for i in d :\n",
    "    a = d.sort()\n",
    "print(d)"
   ]
  },
  {
   "cell_type": "markdown",
   "id": "de17ffbc-cc69-481f-ae99-33cd8694580a",
   "metadata": {},
   "source": [
    "ANSWER NO 29"
   ]
  },
  {
   "cell_type": "code",
   "execution_count": null,
   "id": "7ac6cb9f-2a89-49af-bcfa-7f112e602355",
   "metadata": {},
   "outputs": [],
   "source": []
  },
  {
   "cell_type": "markdown",
   "id": "8915bbfd-366a-4d82-9057-e944bf076040",
   "metadata": {},
   "source": [
    "ANSWER NO 30"
   ]
  },
  {
   "cell_type": "code",
   "execution_count": 4,
   "id": "76bcaaca-9649-4526-b5e0-967ce1d3c73c",
   "metadata": {},
   "outputs": [
    {
     "name": "stdin",
     "output_type": "stream",
     "text": [
      "enter your weight in kilograms 60\n",
      "enter your height in meters 1.60\n"
     ]
    },
    {
     "name": "stdout",
     "output_type": "stream",
     "text": [
      "you are in healthy weight range\n"
     ]
    }
   ],
   "source": [
    "weight = float(input('enter your weight in kilograms'))\n",
    "height = float(input('enter your height in meters'))\n",
    "\n",
    "bmi = weight/height**2\n",
    "\n",
    "if bmi <18.5:\n",
    "    print('you are in under weight range')\n",
    "elif 18.5<= bmi <=24.9:\n",
    "    print('you are in healthy weight range')\n",
    "elif 25 <=bmi <=24.9:\n",
    "    print('you are in over weight range')\n",
    "else:\n",
    "    print('you are obese')\n",
    "    \n",
    "    "
   ]
  },
  {
   "cell_type": "markdown",
   "id": "333c4dad-7cb7-454a-963e-95cd644c0133",
   "metadata": {},
   "source": [
    "ANSWER NO 31"
   ]
  },
  {
   "cell_type": "code",
   "execution_count": 1,
   "id": "02a394a7-eebe-44ca-80d6-ce8d4e5603d2",
   "metadata": {},
   "outputs": [
    {
     "name": "stdin",
     "output_type": "stream",
     "text": [
      "enter your password harshitc\n"
     ]
    },
    {
     "name": "stdout",
     "output_type": "stream",
     "text": [
      "your password strength is to weak\n"
     ]
    },
    {
     "name": "stdin",
     "output_type": "stream",
     "text": [
      "please retype your password harshitc\n"
     ]
    },
    {
     "name": "stdout",
     "output_type": "stream",
     "text": [
      "your password is generated successfully\n"
     ]
    }
   ],
   "source": [
    "password = input('enter your password')\n",
    "if len(password)<10:\n",
    "    print('your password strength is to weak')\n",
    "    pass1 = input('please retype your password')\n",
    "    if pass1 == password :\n",
    "        print('your password is generated successfully') \n",
    "    else :\n",
    "        print('please retry again')\n",
    "else :\n",
    "    print('plese enter a strong password')\n",
    "    \n"
   ]
  },
  {
   "cell_type": "markdown",
   "id": "eb3fce00-65ef-4a84-9fc7-f0a760a3dabf",
   "metadata": {},
   "source": [
    "ANSWER NO 32"
   ]
  },
  {
   "cell_type": "code",
   "execution_count": 16,
   "id": "3c983226-4847-424f-a90a-0d828298921c",
   "metadata": {},
   "outputs": [
    {
     "name": "stdin",
     "output_type": "stream",
     "text": [
      "enter the number 5\n",
      "enter the sign e.g.(*,/,+,-) -\n",
      " 6\n"
     ]
    },
    {
     "name": "stdout",
     "output_type": "stream",
     "text": [
      "-1\n"
     ]
    }
   ],
   "source": [
    "no1 = int(input('enter the number'))\n",
    "sign = input('enter the sign e.g.(*,/,+,-)')\n",
    "no2 = int(input())\n",
    "if sign == '*':\n",
    "    print(no1*no2)\n",
    "elif sign == '/':\n",
    "    print(no1/no2)\n",
    "elif sign == '+':\n",
    "    print(no1+no2)\n",
    "elif sign == '-':\n",
    "    print(no1- no2)\n",
    "else:\n",
    "    print('please check and correct the sign you gave')"
   ]
  },
  {
   "cell_type": "markdown",
   "id": "ec23d8ed-5ab8-485c-a207-b0d46f4ab7ef",
   "metadata": {},
   "source": [
    "ANSWER NO 33"
   ]
  },
  {
   "cell_type": "code",
   "execution_count": null,
   "id": "1ea0f8ca-bdcf-4a38-8897-7b6658eaf5cc",
   "metadata": {},
   "outputs": [],
   "source": []
  },
  {
   "cell_type": "markdown",
   "id": "46b2194d-3b03-4260-a7f3-f177df98ff40",
   "metadata": {},
   "source": [
    "ANSWER NO 34"
   ]
  },
  {
   "cell_type": "code",
   "execution_count": null,
   "id": "0c72f6ee-504f-4420-9ea7-f9f972537a24",
   "metadata": {},
   "outputs": [],
   "source": []
  },
  {
   "cell_type": "markdown",
   "id": "eceb2696-9fe3-4dc7-bf2c-b7acd42a4d82",
   "metadata": {},
   "source": [
    "ANSWER NO 35"
   ]
  },
  {
   "cell_type": "code",
   "execution_count": null,
   "id": "33c6b804-551c-46c2-8817-da5e9f49c810",
   "metadata": {},
   "outputs": [],
   "source": []
  },
  {
   "cell_type": "markdown",
   "id": "d7c18f7c-bbae-42f3-bd9e-e93291a4a969",
   "metadata": {},
   "source": [
    "ANSWER NO 36"
   ]
  },
  {
   "cell_type": "code",
   "execution_count": 23,
   "id": "c233eda8-2658-448d-8f96-45628900fb30",
   "metadata": {},
   "outputs": [
    {
     "name": "stdin",
     "output_type": "stream",
     "text": [
      " 10\n"
     ]
    },
    {
     "name": "stdout",
     "output_type": "stream",
     "text": [
      "0,1,1,2,3,5,8,13,21,34,"
     ]
    }
   ],
   "source": [
    "num = int(input())\n",
    "a = 0\n",
    "b = 1\n",
    "counter = 0\n",
    "while counter < num :\n",
    "    print(a , end= ',')\n",
    "    c = a+b\n",
    "    a = b\n",
    "    b = c\n",
    "    counter = counter + 1\n",
    "\n",
    "    "
   ]
  },
  {
   "cell_type": "markdown",
   "id": "64eac04e-95b8-45c4-abbc-5d1691136084",
   "metadata": {},
   "source": [
    "ANSWER NO 37"
   ]
  },
  {
   "cell_type": "code",
   "execution_count": 31,
   "id": "cd3e9365-fb1f-4050-af06-be6bcbd98a43",
   "metadata": {},
   "outputs": [
    {
     "name": "stdin",
     "output_type": "stream",
     "text": [
      "Enter the nth term for fibonacci sequence:  4\n"
     ]
    },
    {
     "data": {
      "text/plain": [
       "3"
      ]
     },
     "execution_count": 31,
     "metadata": {},
     "output_type": "execute_result"
    }
   ],
   "source": [
    "def fib(nth):\n",
    "    if (nth <= 1):\n",
    "        return nth\n",
    "    else: \n",
    "        return fib(nth - 1) + fib(nth - 2)\n",
    "n = int(input('Enter the nth term for fibonacci sequence: '))\n",
    "fib(n)"
   ]
  },
  {
   "cell_type": "markdown",
   "id": "9eb61829-72b0-4da0-93d3-f2790f72d3a1",
   "metadata": {},
   "source": [
    "ANSWER NO 38"
   ]
  },
  {
   "cell_type": "code",
   "execution_count": 33,
   "id": "9bb5fe1a-b0e7-42ae-a304-61f6ed7f7aef",
   "metadata": {},
   "outputs": [
    {
     "name": "stdin",
     "output_type": "stream",
     "text": [
      "Enter the year:  2024\n",
      "Enter the month (1-12):  1\n"
     ]
    },
    {
     "name": "stdout",
     "output_type": "stream",
     "text": [
      "Calendar for January 2024:\n",
      "\n",
      "    January 2024\n",
      "Mo Tu We Th Fr Sa Su\n",
      " 1  2  3  4  5  6  7\n",
      " 8  9 10 11 12 13 14\n",
      "15 16 17 18 19 20 21\n",
      "22 23 24 25 26 27 28\n",
      "29 30 31\n",
      "\n"
     ]
    }
   ],
   "source": [
    "import calendar\n",
    "\n",
    "def generate_calendar(year, month):\n",
    "    # Create a calendar object for the specified month and year\n",
    "    cal = calendar.month(year, month)\n",
    "\n",
    "    # Print the calendar\n",
    "    print(f\"Calendar for {calendar.month_name[month]} {year}:\\n\")\n",
    "    print(cal)\n",
    "\n",
    "if __name__ == \"__main__\":\n",
    "    try:\n",
    "        year = int(input(\"Enter the year: \"))\n",
    "        month = int(input(\"Enter the month (1-12): \"))\n",
    "\n",
    "        if 1 <= month <= 12:\n",
    "            generate_calendar(year, month)\n",
    "        else:\n",
    "            print(\"Invalid month. Please enter a number between 1 and 12.\")\n",
    "    except ValueError:\n",
    "        print(\"Invalid input. Please enter a valid year and month.\")\n"
   ]
  },
  {
   "cell_type": "markdown",
   "id": "08acf9d1-20f4-4db5-b98d-f14483c007a0",
   "metadata": {},
   "source": [
    "ANSWER NO 39\n"
   ]
  },
  {
   "cell_type": "code",
   "execution_count": null,
   "id": "5f2a6ab1-bbe7-4d03-8bb7-932bde855203",
   "metadata": {},
   "outputs": [],
   "source": []
  }
 ],
 "metadata": {
  "kernelspec": {
   "display_name": "Python 3 (ipykernel)",
   "language": "python",
   "name": "python3"
  },
  "language_info": {
   "codemirror_mode": {
    "name": "ipython",
    "version": 3
   },
   "file_extension": ".py",
   "mimetype": "text/x-python",
   "name": "python",
   "nbconvert_exporter": "python",
   "pygments_lexer": "ipython3",
   "version": "3.10.8"
  }
 },
 "nbformat": 4,
 "nbformat_minor": 5
}
