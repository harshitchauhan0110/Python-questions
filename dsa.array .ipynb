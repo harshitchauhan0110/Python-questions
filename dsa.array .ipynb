{
 "cells": [
  {
   "cell_type": "markdown",
   "id": "6c7d0b26-6fca-4ae8-92c4-2feecd92adde",
   "metadata": {},
   "source": [
    "1. Given an array, check if it contains any duplicates or not.\n",
    "\n",
    "arr = [1, 2, 4, 2, 5, 9]"
   ]
  },
  {
   "cell_type": "code",
   "execution_count": 2,
   "id": "3dd6c049-e673-4a77-a8f6-14b88311a4ae",
   "metadata": {},
   "outputs": [
    {
     "name": "stdout",
     "output_type": "stream",
     "text": [
      "the array contains duplicates\n"
     ]
    }
   ],
   "source": [
    "def duplicate(arr):\n",
    "    seen = set()\n",
    "    for i in arr:\n",
    "        if i in seen:\n",
    "            return True\n",
    "        seen.add(i)\n",
    "    return False\n",
    "arr =  [1, 2, 4, 2, 5, 9]\n",
    "if duplicate(arr) == True:\n",
    "    print('the array contains duplicates')\n",
    "else:\n",
    "    print('the array not contains any duplicates')"
   ]
  },
  {
   "cell_type": "markdown",
   "id": "6a50714c-9083-4ac7-bdd2-6bd71594e8f0",
   "metadata": {},
   "source": [
    "3. Reverse the given array in-place, means without using any extra data structure.\n",
    "\n",
    "arr = [2, 4, 5, 7, 9, 12]"
   ]
  },
  {
   "cell_type": "code",
   "execution_count": 6,
   "id": "a6645f37-7092-4c80-b2d7-250533ea0cae",
   "metadata": {},
   "outputs": [
    {
     "name": "stdout",
     "output_type": "stream",
     "text": [
      "Reversed array: [5, 4, 3, 2, 1]\n"
     ]
    }
   ],
   "source": [
    "def reverse_array_in_place(arr):\n",
    "    left = 0\n",
    "    right = len(arr) - 1\n",
    "    \n",
    "    while left < right:\n",
    "        # Swap the elements at the left and right positions\n",
    "        arr[left], arr[right] = arr[right], arr[left]\n",
    "        left += 1\n",
    "        right -= 1\n",
    "\n",
    "arr = [1, 2, 3, 4, 5]\n",
    "reverse_array_in_place(arr)\n",
    "\n",
    "print(\"Reversed array:\", arr)\n"
   ]
  },
  {
   "cell_type": "markdown",
   "id": "161595f7-bcec-4148-b512-dae660e3fe47",
   "metadata": {},
   "source": [
    "2. Given an array and an integer k, rotate the array to the right by k steps. \n",
    "\n",
    "\n",
    "arr = [1, 2, 3, 4, 5, 6, 7] k = 3 "
   ]
  },
  {
   "cell_type": "code",
   "execution_count": 7,
   "id": "8cd6f2d5-a82d-4c4d-8691-2d8c586b41c9",
   "metadata": {},
   "outputs": [
    {
     "name": "stdout",
     "output_type": "stream",
     "text": [
      "[6, 7, 8, 1, 2, 3, 4, 5]\n"
     ]
    }
   ],
   "source": [
    "def rotatearray(arr,k):\n",
    "    n = len(arr)\n",
    "    k = k%n\n",
    "    \n",
    "    rotate = arr[-k:] + arr[:-k]\n",
    "    \n",
    "    return rotate\n",
    "\n",
    "arr = [1,2,3,4,5,6,7,8]\n",
    "k = 3\n",
    "result = rotatearray(arr, k)\n",
    "print(result)"
   ]
  },
  {
   "cell_type": "markdown",
   "id": "f1ea415a-90d5-45e7-939f-eb61ff881284",
   "metadata": {},
   "source": [
    "4. Given an array of integers, find the maximum element in an array\n",
    "\n",
    " arr = [10, 5, 20, 8, 15]"
   ]
  },
  {
   "cell_type": "code",
   "execution_count": 13,
   "id": "f1b452c7-b6a9-42f2-b8bf-ae9754fe2c67",
   "metadata": {},
   "outputs": [
    {
     "data": {
      "text/plain": [
       "20"
      ]
     },
     "execution_count": 13,
     "metadata": {},
     "output_type": "execute_result"
    }
   ],
   "source": [
    "def max_array(arr):\n",
    "    max_a = arr[0]\n",
    "    for i in range(len(arr)):\n",
    "        if arr[i] > max_a:\n",
    "            max_a = arr[i]\n",
    "    return max_a\n",
    "    \n",
    "max_array([10, 5, 20, 8, 15])\n"
   ]
  },
  {
   "cell_type": "markdown",
   "id": "923e0d42-3abb-40d3-a020-a7824c5dc789",
   "metadata": {},
   "source": [
    "5. Given a sorted array, remove the duplicate element without using any extra data structure. \n",
    "\n",
    "\n",
    "arr = [1, 1, 2, 2, 2, 3, 3, 4, 4, 4, 5, 5] "
   ]
  },
  {
   "cell_type": "code",
   "execution_count": null,
   "id": "ed9c8283-7d7c-4143-a8f0-528ed47ce81c",
   "metadata": {},
   "outputs": [],
   "source": []
  }
 ],
 "metadata": {
  "kernelspec": {
   "display_name": "Python 3 (ipykernel)",
   "language": "python",
   "name": "python3"
  },
  "language_info": {
   "codemirror_mode": {
    "name": "ipython",
    "version": 3
   },
   "file_extension": ".py",
   "mimetype": "text/x-python",
   "name": "python",
   "nbconvert_exporter": "python",
   "pygments_lexer": "ipython3",
   "version": "3.10.8"
  }
 },
 "nbformat": 4,
 "nbformat_minor": 5
}
