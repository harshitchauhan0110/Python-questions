{
 "cells": [
  {
   "cell_type": "markdown",
   "id": "052dd301-a55f-4680-9e2d-c5b1b114e201",
   "metadata": {},
   "source": [
    "1. Write a Python program to print the numbers from 1 to 10 using a `for` loop."
   ]
  },
  {
   "cell_type": "code",
   "execution_count": 1,
   "id": "f06374b9-16b0-4d91-b9b1-91edaac53b31",
   "metadata": {},
   "outputs": [
    {
     "name": "stdout",
     "output_type": "stream",
     "text": [
      "1 2 3 4 5 6 7 8 9 10 "
     ]
    }
   ],
   "source": [
    "for i in range(1,11):\n",
    "    print(i,end=' ' )"
   ]
  },
  {
   "cell_type": "markdown",
   "id": "2caa779d-d569-4abc-a04f-c1b3d278cfb8",
   "metadata": {},
   "source": [
    "2. Create a program that calculates the sum of all numbers in a list using a `for` loop."
   ]
  },
  {
   "cell_type": "code",
   "execution_count": 3,
   "id": "03ee2bab-f01c-4525-b22d-f80b1d6c53b4",
   "metadata": {},
   "outputs": [
    {
     "name": "stdout",
     "output_type": "stream",
     "text": [
      "21\n"
     ]
    }
   ],
   "source": [
    "l = [1,2,3,4,5,6]\n",
    "l1 = 0\n",
    "for i in l :\n",
    "    l1 = i + l1\n",
    "print(l1)"
   ]
  },
  {
   "cell_type": "markdown",
   "id": "e90d84d6-d0d7-46f2-a0b9-98a652a2aa43",
   "metadata": {},
   "source": [
    "3. Write a program to print the characters of a string in reverse order using a `for` loop."
   ]
  },
  {
   "cell_type": "code",
   "execution_count": 6,
   "id": "0374925d-3541-4763-a19c-164ba2a674fc",
   "metadata": {},
   "outputs": [
    {
     "name": "stdout",
     "output_type": "stream",
     "text": [
      "tihsrah"
     ]
    }
   ],
   "source": [
    "s = 'harshit'\n",
    "for i in s[::-1] :\n",
    "    print(i,end='')\n",
    "    "
   ]
  },
  {
   "cell_type": "markdown",
   "id": "6abf6b13-08e4-4219-ab9e-7dd024928d97",
   "metadata": {},
   "source": [
    "4. Develop a program that finds the factorial of a given number using a `for` loop."
   ]
  },
  {
   "cell_type": "code",
   "execution_count": 20,
   "id": "8dbeb49a-9b09-40f9-8ae9-820e067c235e",
   "metadata": {},
   "outputs": [
    {
     "name": "stdout",
     "output_type": "stream",
     "text": [
      "120\n"
     ]
    }
   ],
   "source": [
    "num = 5\n",
    "fact = 1\n",
    "for i in range(1,num+1):\n",
    "    fact = fact*i\n",
    "print(fact)\n"
   ]
  },
  {
   "cell_type": "markdown",
   "id": "6cc49162-d9e2-4662-99d9-fedef400d97e",
   "metadata": {},
   "source": [
    "5. Create a program to print the multiplication table of a given number using a `for` loop\n"
   ]
  },
  {
   "cell_type": "code",
   "execution_count": 26,
   "id": "d10a017f-a0e4-43c4-b70f-1048b5649528",
   "metadata": {},
   "outputs": [
    {
     "name": "stdin",
     "output_type": "stream",
     "text": [
      " 2\n"
     ]
    },
    {
     "name": "stdout",
     "output_type": "stream",
     "text": [
      "2 * 1 = 2\n",
      "2 * 2 = 4\n",
      "2 * 3 = 6\n",
      "2 * 4 = 8\n",
      "2 * 5 = 10\n",
      "2 * 6 = 12\n",
      "2 * 7 = 14\n",
      "2 * 8 = 16\n",
      "2 * 9 = 18\n",
      "2 * 10 = 20\n"
     ]
    }
   ],
   "source": [
    "num = int(input())\n",
    "table = 1 \n",
    "for i in range(1,11):\n",
    "    print(num, '*', table, '=', table*num)\n",
    "    table = table+1"
   ]
  },
  {
   "cell_type": "markdown",
   "id": "35fe0753-27e4-4281-ab69-79f3bea10b3a",
   "metadata": {},
   "source": [
    "6. Write a program that counts the number of even and odd numbers in a list using a `for` loop."
   ]
  },
  {
   "cell_type": "code",
   "execution_count": 27,
   "id": "d92aa737-7f72-43f7-b2e5-0e46b83bdcf1",
   "metadata": {},
   "outputs": [
    {
     "name": "stdout",
     "output_type": "stream",
     "text": [
      "2\n",
      "4\n",
      "6\n",
      "8\n"
     ]
    }
   ],
   "source": [
    "l2 = [1,2,3,4,5,6,7,8]\n",
    "for i in l2 :\n",
    "    if i%2 == 0:\n",
    "        print(i)"
   ]
  },
  {
   "cell_type": "markdown",
   "id": "7539bc36-58aa-40fe-8695-5b68be31d902",
   "metadata": {},
   "source": [
    "7. Develop a program that prints the squares of numbers from 1 to 5 using a `for` loop."
   ]
  },
  {
   "cell_type": "code",
   "execution_count": 28,
   "id": "334fe69c-4619-48c5-9969-2c47becac475",
   "metadata": {},
   "outputs": [
    {
     "name": "stdout",
     "output_type": "stream",
     "text": [
      "1\n",
      "4\n",
      "9\n",
      "16\n",
      "25\n"
     ]
    }
   ],
   "source": [
    "l3 = [1,2,3,4,5]\n",
    "for i in l3 :\n",
    "    print(i**2)"
   ]
  },
  {
   "cell_type": "markdown",
   "id": "ec67eeef-b6f6-4233-a6d6-6339f8b14fce",
   "metadata": {},
   "source": [
    "8. Create a program to find the length of a string without using the `len()` function."
   ]
  },
  {
   "cell_type": "code",
   "execution_count": 31,
   "id": "7a8bc8c9-9def-4761-9bd2-63a948528f03",
   "metadata": {},
   "outputs": [
    {
     "name": "stdout",
     "output_type": "stream",
     "text": [
      "7\n"
     ]
    }
   ],
   "source": [
    "s1 = 'harshit'\n",
    "l = 0 \n",
    "for i in s1 :\n",
    "    l = l+1\n",
    "print(l)\n",
    "    "
   ]
  },
  {
   "cell_type": "markdown",
   "id": "ff2d2e68-7bf4-49ab-83df-2e2ffe659e12",
   "metadata": {},
   "source": [
    "9. Write a program that calculates the average of a list of numbers using a `for` loop."
   ]
  },
  {
   "cell_type": "code",
   "execution_count": 32,
   "id": "edd42283-64a9-4055-9647-22606fdd1e1e",
   "metadata": {},
   "outputs": [
    {
     "name": "stdout",
     "output_type": "stream",
     "text": [
      "30.0\n"
     ]
    }
   ],
   "source": [
    "l4 = [10,20,30,40,50]\n",
    "total = 0 \n",
    "count= 0 \n",
    "for i in l4 :\n",
    "    total = i+total\n",
    "    count = count+1\n",
    "if count>0:\n",
    "    average = total/count\n",
    "else :\n",
    "    average = 0\n",
    "print(average)"
   ]
  },
  {
   "cell_type": "markdown",
   "id": "70e71673-47f6-4567-b3fe-34e349104cea",
   "metadata": {},
   "source": [
    "10. Develop a program that prints the first `n` Fibonacci numbers using a `for` loop."
   ]
  },
  {
   "cell_type": "code",
   "execution_count": 33,
   "id": "b872b4d8-30a2-4e68-8bd8-ba4fb8ad3438",
   "metadata": {},
   "outputs": [
    {
     "name": "stdin",
     "output_type": "stream",
     "text": [
      " 10\n"
     ]
    },
    {
     "name": "stdout",
     "output_type": "stream",
     "text": [
      "0\n",
      "1\n",
      "1\n",
      "2\n",
      "3\n",
      "5\n",
      "8\n",
      "13\n",
      "21\n",
      "34\n"
     ]
    }
   ],
   "source": [
    "num = int(input())\n",
    "a = 0 \n",
    "b = 1 \n",
    "for  i in range(1,num+1):\n",
    "    print(a)\n",
    "    c = a+b\n",
    "    a = b\n",
    "    b = c"
   ]
  },
  {
   "cell_type": "markdown",
   "id": "03854050-cd3a-47f2-8853-0ed67bfee4ea",
   "metadata": {},
   "source": [
    "11. Write a program to check if a given list contains any duplicates using a `for` loop."
   ]
  },
  {
   "cell_type": "code",
   "execution_count": 45,
   "id": "201e9a8e-28f4-4bbc-bc11-81bdbaf53bff",
   "metadata": {},
   "outputs": [
    {
     "name": "stdout",
     "output_type": "stream",
     "text": [
      "['was', 'is']\n"
     ]
    }
   ],
   "source": [
    "l5 =['was' , 'and', 'is','was','this', 'is']\n",
    "dup = []\n",
    "org = []\n",
    "for i in l5 :\n",
    "    if i not in org :\n",
    "        org.append(i)\n",
    "    elif i not in dup:\n",
    "        dup.append(i)\n",
    "print(dup)"
   ]
  },
  {
   "cell_type": "markdown",
   "id": "4ed437ae-780f-4685-9d5a-df9be57c5a77",
   "metadata": {},
   "source": [
    "12. Create a program that prints the prime numbers in a given range using a `for` loop."
   ]
  },
  {
   "cell_type": "code",
   "execution_count": 70,
   "id": "7b6a4745-3dcd-423d-9ea8-b2b9c8bc9928",
   "metadata": {},
   "outputs": [
    {
     "name": "stdin",
     "output_type": "stream",
     "text": [
      " 7\n"
     ]
    },
    {
     "name": "stdout",
     "output_type": "stream",
     "text": [
      "prime\n"
     ]
    }
   ],
   "source": [
    "num = int(input())\n",
    "for i in range(2,num):\n",
    "    if num%i == 0:\n",
    "        print('not prime')\n",
    "        break\n",
    "else :\n",
    "    print('prime')"
   ]
  },
  {
   "cell_type": "markdown",
   "id": "e0ebe2d9-d8e6-4a53-a68e-641a75d232b8",
   "metadata": {},
   "source": [
    "13. Develop a program that counts the number of vowels in a string using a `for` loop."
   ]
  },
  {
   "cell_type": "code",
   "execution_count": 78,
   "id": "72cbdae1-d03b-4368-b8cd-37a6a2f5a819",
   "metadata": {},
   "outputs": [
    {
     "name": "stdout",
     "output_type": "stream",
     "text": [
      "5\n"
     ]
    }
   ],
   "source": [
    "s3 = 'harshit chauhan'\n",
    "vowels = 'aeiou'\n",
    "count = 0\n",
    "for i in s3 :\n",
    "    if i in vowels :\n",
    "        count += 1\n",
    "print(count)"
   ]
  },
  {
   "cell_type": "markdown",
   "id": "ebc85c5c-b941-45a9-ab88-5ac1f667d500",
   "metadata": {},
   "source": [
    "14. Write a program to find the maximum element in a 2D list using a nested `for` loop."
   ]
  },
  {
   "cell_type": "code",
   "execution_count": null,
   "id": "0f7e932a-8a5f-47cc-a1b5-5fb23bc03019",
   "metadata": {},
   "outputs": [],
   "source": []
  },
  {
   "cell_type": "markdown",
   "id": "e2b42a59-1522-46e0-84a5-d71fa7077336",
   "metadata": {},
   "source": [
    "15. Create a program that removes all occurrences of a specific element from a list using a `for` loop."
   ]
  },
  {
   "cell_type": "code",
   "execution_count": 5,
   "id": "1f9e12d8-a6c5-4a8f-a1f7-323f82228a98",
   "metadata": {},
   "outputs": [
    {
     "name": "stdin",
     "output_type": "stream",
     "text": [
      " 3\n"
     ]
    },
    {
     "name": "stdout",
     "output_type": "stream",
     "text": [
      "[1, 2, 4, 5, 2, 2]\n"
     ]
    }
   ],
   "source": [
    "l5 = [1,2,3,4,5,2,3,2]\n",
    "rem = int(input())\n",
    "for i in l5 :\n",
    "    if i == rem :\n",
    "        l5.remove(i)\n",
    "print(l5)"
   ]
  },
  {
   "cell_type": "markdown",
   "id": "6c68c6c9-bdbc-4fcf-b952-392ee61ab48b",
   "metadata": {},
   "source": [
    "16. Develop a program that generates a multiplication table for numbers from 1 to 5 using a nested `for` loop."
   ]
  },
  {
   "cell_type": "code",
   "execution_count": 17,
   "id": "0f43772f-6f98-4c24-b6bd-c738c0b5c77a",
   "metadata": {},
   "outputs": [
    {
     "name": "stdout",
     "output_type": "stream",
     "text": [
      "1\t 2\t 3\t 4\t 5\t \n",
      "2\t 4\t 6\t 8\t 10\t \n",
      "3\t 6\t 9\t 12\t 15\t \n",
      "4\t 8\t 12\t 16\t 20\t \n",
      "5\t 10\t 15\t 20\t 25\t \n"
     ]
    }
   ],
   "source": [
    "start = 1\n",
    "end = 5\n",
    "for i in range(start,end+1):\n",
    "    for j in range(start,end+1):\n",
    "        result = i * j \n",
    "        print(result , end = '\\t ' )\n",
    "        \n",
    "    print()"
   ]
  },
  {
   "cell_type": "markdown",
   "id": "ecc00fa5-9c8a-4113-9bf2-4c5a635f353d",
   "metadata": {},
   "source": [
    "17. Write a program that converts a list of Fahrenheit temperatures to Celsius using a `for` loop."
   ]
  },
  {
   "cell_type": "code",
   "execution_count": 26,
   "id": "2fa56829-fe86-49c3-964a-c85573c75371",
   "metadata": {},
   "outputs": [
    {
     "name": "stdout",
     "output_type": "stream",
     "text": [
      "[-6.111111111111111, 61.666666666666664, 100.55555555555556, 57.22222222222222, 65.55555555555556]\n"
     ]
    }
   ],
   "source": [
    "f = [21,143,213,135,150]\n",
    "c = []\n",
    "for i in f :\n",
    "    b = (i -32) * 5/9\n",
    "    c.append(b)\n",
    "print(c)"
   ]
  },
  {
   "cell_type": "markdown",
   "id": "8c171256-c0a1-4388-bcba-6e003e910197",
   "metadata": {},
   "source": [
    "18. Create a program to print the common elements from two lists using a `for` loop."
   ]
  },
  {
   "cell_type": "code",
   "execution_count": 30,
   "id": "7e3a0476-36d3-4832-87fe-6c844c6fa2cc",
   "metadata": {},
   "outputs": [
    {
     "name": "stdout",
     "output_type": "stream",
     "text": [
      "1\n",
      "4\n",
      "6\n"
     ]
    }
   ],
   "source": [
    "l = [1,2,3,4,5,6,7]\n",
    "l1 = [1,12,14,15,6,4]\n",
    "for i in l :\n",
    "    if i in l1:\n",
    "        print(i)"
   ]
  },
  {
   "cell_type": "markdown",
   "id": "274bd43d-08ef-432e-952d-af793abbc849",
   "metadata": {},
   "source": [
    "19. Develop a program that prints the pattern of right-angled triangles using a `for` loop. Use ‘*’ to draw the\n",
    "pattern"
   ]
  },
  {
   "cell_type": "code",
   "execution_count": 32,
   "id": "41f0b23d-b7ed-496d-8c5f-be8106fd264c",
   "metadata": {},
   "outputs": [
    {
     "name": "stdout",
     "output_type": "stream",
     "text": [
      "* \n",
      "* * \n",
      "* * * \n",
      "* * * * \n",
      "* * * * * \n"
     ]
    }
   ],
   "source": [
    "num_rows = 5\n",
    "\n",
    "for i in range(1, num_rows + 1):\n",
    "    for j in range(i):\n",
    "        print('*', end=' ')\n",
    "    print()\n"
   ]
  },
  {
   "cell_type": "markdown",
   "id": "efa704b5-17dd-429b-b785-b08b97bac06d",
   "metadata": {},
   "source": [
    "20. Write a program to find the greatest common divisor (GCD) of two numbers using a `for` loop."
   ]
  },
  {
   "cell_type": "code",
   "execution_count": 40,
   "id": "87540770-7381-4ea9-8a38-83ba6129049e",
   "metadata": {},
   "outputs": [
    {
     "name": "stdin",
     "output_type": "stream",
     "text": [
      " 24\n",
      " 36\n"
     ]
    },
    {
     "name": "stdout",
     "output_type": "stream",
     "text": [
      "12\n"
     ]
    }
   ],
   "source": [
    "num1 = int(input())\n",
    "num2 = int(input())\n",
    "if num1 > num2:\n",
    "    mn = num2\n",
    "else :\n",
    "    mn =num1\n",
    "for i in range(1,mn):\n",
    "    if num1 % i == 0 and num2 % i == 0 :\n",
    "        gcd = i\n",
    "print(gcd)\n",
    "    "
   ]
  },
  {
   "cell_type": "markdown",
   "id": "dc049fac-096c-40da-a9a2-e778f0c41d19",
   "metadata": {},
   "source": [
    "21. Create a program that calculates the sum of the digits of numbers in a list using a list comprehension."
   ]
  },
  {
   "cell_type": "code",
   "execution_count": 8,
   "id": "d25b4f0b-5c04-492c-a91a-133121be5d05",
   "metadata": {},
   "outputs": [],
   "source": [
    "l = [1,2,3,4,5,6]\n",
    "from functools import reduce\n",
    "s = reduce(lambda a,b : a+b, l)"
   ]
  },
  {
   "cell_type": "code",
   "execution_count": 4,
   "id": "f163c161-0ac6-4ac3-b26d-1ce2e0ff6451",
   "metadata": {},
   "outputs": [
    {
     "data": {
      "text/plain": [
       "21"
      ]
     },
     "execution_count": 4,
     "metadata": {},
     "output_type": "execute_result"
    }
   ],
   "source": [
    "s"
   ]
  },
  {
   "cell_type": "markdown",
   "id": "dbb497ae-c956-4684-a5a8-f8cf338dcca1",
   "metadata": {},
   "source": [
    "22. Write a program to find the prime factors of a given number using a `for` loop and list comprehension."
   ]
  },
  {
   "cell_type": "markdown",
   "id": "13b71d79-f507-4768-8cf3-ce4a86949b23",
   "metadata": {},
   "source": [
    "def prime_factors(n):\n",
    "    return [i for i in range(2,n+1) if n % i == 0  ]\n",
    "    \n",
    "\n",
    "# Input\n",
    "number = int(input(\"Enter a number: \"))\n",
    "\n",
    "# Finding prime factors\n",
    "result = prime_factors(number)\n",
    "\n",
    "print(result)\n",
    "\n",
    "\n"
   ]
  },
  {
   "cell_type": "markdown",
   "id": "43c7f64e-f3aa-40b9-904b-afd046b757c9",
   "metadata": {},
   "source": [
    "23. Develop a program that extracts unique elements from a list and stores them in a new list using a list\n",
    "comprehension."
   ]
  },
  {
   "cell_type": "code",
   "execution_count": 28,
   "id": "0f3e39e3-7f1b-43db-a8c7-d77324992428",
   "metadata": {},
   "outputs": [
    {
     "name": "stdout",
     "output_type": "stream",
     "text": [
      "The unique elements in list [1, 2, 3, 0, 9, 9] are [0, 1, 2, 3, 9]\n"
     ]
    }
   ],
   "source": [
    "list_23_1 = [1,2,3,0,9,9]\n",
    "list_23_2 = set()\n",
    "{list_23_2.add(i) for i in list_23_1}            \n",
    "print(f'The unique elements in list {list_23_1} are {list(list_23_2)}')"
   ]
  },
  {
   "cell_type": "markdown",
   "id": "67b8dbc3-e375-415c-87b0-83a09e43f249",
   "metadata": {},
   "source": [
    "24. Create a program that generates a list of all palindromic numbers up to a specified limit using a list\n",
    "comprehension."
   ]
  },
  {
   "cell_type": "code",
   "execution_count": 32,
   "id": "b0ab19bd-14bf-4721-a1c4-ea09a3f047ab",
   "metadata": {},
   "outputs": [
    {
     "name": "stdin",
     "output_type": "stream",
     "text": [
      " 100\n"
     ]
    },
    {
     "data": {
      "text/plain": [
       "[1, 2, 3, 4, 5, 6, 7, 8, 9, 11, 22, 33, 44, 55, 66, 77, 88, 99]"
      ]
     },
     "execution_count": 32,
     "metadata": {},
     "output_type": "execute_result"
    }
   ],
   "source": [
    "number = int(input())\n",
    "[i for i in range(1,number+1) if str(i)==str(i)[::-1]]"
   ]
  },
  {
   "cell_type": "markdown",
   "id": "cc7b91b4-b165-433d-a486-984eab171290",
   "metadata": {},
   "source": [
    "25. Write a program to flatten a nested list using list comprehension."
   ]
  },
  {
   "cell_type": "code",
   "execution_count": 45,
   "id": "d61cf989-edec-4b4a-abbf-77289e986b2c",
   "metadata": {},
   "outputs": [
    {
     "data": {
      "text/plain": [
       "[1, 2, 3, 4, 5, 6, 7, 8]"
      ]
     },
     "execution_count": 45,
     "metadata": {},
     "output_type": "execute_result"
    }
   ],
   "source": [
    "list= [[1,2,3,4],[5,6,7,8]]\n",
    "[j for i in list for j in i]"
   ]
  },
  {
   "cell_type": "markdown",
   "id": "9761d99c-0938-4c65-a461-d814ffbc5ea9",
   "metadata": {},
   "source": [
    "26. Develop a program that computes the sum of even and odd numbers in a list separately using list\n",
    "comprehension."
   ]
  },
  {
   "cell_type": "code",
   "execution_count": 2,
   "id": "0101d3db-4e1f-4b07-8d7e-1345f39f0f42",
   "metadata": {},
   "outputs": [
    {
     "name": "stdout",
     "output_type": "stream",
     "text": [
      "49\n",
      "56\n"
     ]
    }
   ],
   "source": [
    "l = [1,2,3,4,5,6,7,8,9,10,11,12,14,13]\n",
    "sum_odd = sum([i for i in l if i % 2 != 0])\n",
    "sum_even = sum([i for i in l if i %2 == 0])\n",
    "print(sum_odd)\n",
    "print(sum_even)"
   ]
  },
  {
   "cell_type": "markdown",
   "id": "7e53b9ff-799d-406c-9399-ebf137d1917a",
   "metadata": {},
   "source": [
    "27. Create a program that generates a list of squares of odd numbers between 1 and 10 using list\n",
    "comprehension."
   ]
  },
  {
   "cell_type": "code",
   "execution_count": 3,
   "id": "e071c028-29e2-4aa1-b6ae-261d343788d6",
   "metadata": {},
   "outputs": [
    {
     "data": {
      "text/plain": [
       "[1, 9, 25, 49, 81]"
      ]
     },
     "execution_count": 3,
     "metadata": {},
     "output_type": "execute_result"
    }
   ],
   "source": [
    "l = range(1,11)\n",
    "[i**2 for i in l if i%2 != 0]"
   ]
  },
  {
   "cell_type": "markdown",
   "id": "f905817e-7fa5-46d9-98f0-ce89f0b3e967",
   "metadata": {},
   "source": [
    "28. Write a program that combines two lists into a dictionary using list comprehension."
   ]
  },
  {
   "cell_type": "code",
   "execution_count": 14,
   "id": "3f574c7b-e06d-4278-aa88-b05458c0f398",
   "metadata": {},
   "outputs": [
    {
     "data": {
      "text/plain": [
       "{1: 1, 2: 4, 3: 9, 4: 16, 5: 25}"
      ]
     },
     "execution_count": 14,
     "metadata": {},
     "output_type": "execute_result"
    }
   ],
   "source": [
    "l = [1,2,3,4,5]\n",
    "l1 = [1,4,9,16,25]\n",
    "\n",
    "{l[i] : l1[i] for i in range(len(l))}"
   ]
  },
  {
   "cell_type": "markdown",
   "id": "a3d0f70d-e11a-48f9-8cb1-8ae8111f81bb",
   "metadata": {},
   "source": [
    "29. Develop a program that extracts the vowels from a string and stores them in a list using list comprehension."
   ]
  },
  {
   "cell_type": "code",
   "execution_count": 20,
   "id": "681b4eaa-a57b-41ca-bf66-6f1d22272358",
   "metadata": {},
   "outputs": [
    {
     "data": {
      "text/plain": [
       "['a', 'i', 'a', 'u', 'a']"
      ]
     },
     "execution_count": 20,
     "metadata": {},
     "output_type": "execute_result"
    }
   ],
   "source": [
    "l = 'harshit chauhan'\n",
    "vowel = 'aeiou'\n",
    "vowel_list = []\n",
    "[i  for i in l if i in vowel]"
   ]
  },
  {
   "cell_type": "markdown",
   "id": "e7a59e30-a860-4a18-9fbd-ae8be116bb87",
   "metadata": {},
   "source": [
    "30. Create a program that removes all non-numeric characters from a list of strings using list comprehension."
   ]
  },
  {
   "cell_type": "code",
   "execution_count": 22,
   "id": "1183c639-580a-46a7-a103-eee759675e79",
   "metadata": {},
   "outputs": [
    {
     "data": {
      "text/plain": [
       "['str', 'owl', 'mad']"
      ]
     },
     "execution_count": 22,
     "metadata": {},
     "output_type": "execute_result"
    }
   ],
   "source": [
    "l = ['str', 1,3,'owl',5 ,'mad']\n",
    "[i for i in l if type(i) != int]"
   ]
  },
  {
   "cell_type": "markdown",
   "id": "470c1b24-3d1f-4402-956e-9161d97cf9f5",
   "metadata": {},
   "source": [
    "31. Write a program to generate a list of prime numbers using the Sieve of Eratosthenes algorithm and list\n",
    "comprehension."
   ]
  },
  {
   "cell_type": "code",
   "execution_count": null,
   "id": "c0796127-7a01-4da0-8be1-84a32fc5ead5",
   "metadata": {},
   "outputs": [],
   "source": [
    "not a"
   ]
  }
 ],
 "metadata": {
  "kernelspec": {
   "display_name": "Python 3 (ipykernel)",
   "language": "python",
   "name": "python3"
  },
  "language_info": {
   "codemirror_mode": {
    "name": "ipython",
    "version": 3
   },
   "file_extension": ".py",
   "mimetype": "text/x-python",
   "name": "python",
   "nbconvert_exporter": "python",
   "pygments_lexer": "ipython3",
   "version": "3.10.8"
  }
 },
 "nbformat": 4,
 "nbformat_minor": 5
}
