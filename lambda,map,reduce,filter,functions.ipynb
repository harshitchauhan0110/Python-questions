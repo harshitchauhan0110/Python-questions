{
 "cells": [
  {
   "cell_type": "markdown",
   "id": "099dfb12-9a9e-4110-9e21-32cf341494fa",
   "metadata": {},
   "source": [
    "1. Write a Python program to print numbers from 1 to 10 using a for loop."
   ]
  },
  {
   "cell_type": "code",
   "execution_count": 3,
   "id": "f9c4e55a-5d29-4c63-83b9-1b0bbdff2540",
   "metadata": {},
   "outputs": [
    {
     "name": "stdout",
     "output_type": "stream",
     "text": [
      "1 2 3 4 5 6 7 8 9 10 "
     ]
    }
   ],
   "source": [
    "for i in range(1,11):\n",
    "    print(i , end=' ')"
   ]
  },
  {
   "cell_type": "markdown",
   "id": "749aa45d-38ea-4886-ae42-54b41b82e5a3",
   "metadata": {},
   "source": [
    "2. Explain the difference between a for loop and a while loop in Python.\n"
   ]
  },
  {
   "cell_type": "code",
   "execution_count": 5,
   "id": "c020f5fa-8642-4c7c-8eac-2f8ffa8a4fec",
   "metadata": {},
   "outputs": [
    {
     "name": "stdout",
     "output_type": "stream",
     "text": [
      "1 2 3 4 5 6 7 "
     ]
    }
   ],
   "source": [
    "# FOR LOOP :- Use a for loop when you have a known collection of items and want to perform an action on each item.\n",
    "# FOR EXAMPLE :-\n",
    "number = [1,2,3,4,5,6,7]\n",
    "for i in number:\n",
    "    print(i,end=' ')"
   ]
  },
  {
   "cell_type": "code",
   "execution_count": 8,
   "id": "be5ce3ca-52e4-4623-bb0e-acf9c52983b1",
   "metadata": {},
   "outputs": [
    {
     "name": "stdout",
     "output_type": "stream",
     "text": [
      "0 1 2 3 4 5 6 "
     ]
    }
   ],
   "source": [
    "# WHILE LOOP :-  Use a while loop when you want to repeat a block of code until a certain condition is met. \n",
    "# FOR EXAMPLE :-\n",
    "num = 0\n",
    "while num <=6 :\n",
    "    print(num,end=' ' )\n",
    "    num = num +1"
   ]
  },
  {
   "cell_type": "markdown",
   "id": "678775bb-21a4-42ba-9b07-68bc66b812c2",
   "metadata": {},
   "source": [
    "3. Write a Python program to calculate the sum of all numbers from 1 to 100 using a for loop.\n"
   ]
  },
  {
   "cell_type": "code",
   "execution_count": 10,
   "id": "8925d3d0-a8f8-401d-8e5b-36375a667fbd",
   "metadata": {},
   "outputs": [
    {
     "name": "stdout",
     "output_type": "stream",
     "text": [
      "5050\n"
     ]
    }
   ],
   "source": [
    "num = range(1,101)\n",
    "sum = 0\n",
    "for i in num:\n",
    "    sum = i + sum\n",
    "print(sum)"
   ]
  },
  {
   "cell_type": "markdown",
   "id": "b6c25924-ec39-4ece-bfb0-2658940a4bf5",
   "metadata": {},
   "source": [
    "4. How do you iterate through a list using a for loop in Python?"
   ]
  },
  {
   "cell_type": "code",
   "execution_count": 16,
   "id": "e3cdc48e-f673-4842-9eac-20348467ff38",
   "metadata": {},
   "outputs": [
    {
     "name": "stdout",
     "output_type": "stream",
     "text": [
      "cricket, cycling, anime, exercises, "
     ]
    }
   ],
   "source": [
    "hobby = ['cricket','cycling','anime','exercises']\n",
    "for i in hobby:\n",
    "    print(i , end=', ')"
   ]
  },
  {
   "cell_type": "markdown",
   "id": "9d145877-6b9c-42f6-a47c-86fbe35ec359",
   "metadata": {},
   "source": [
    "5. Write a Python program to find the product of all elements in a list using a for loop.\n"
   ]
  },
  {
   "cell_type": "code",
   "execution_count": 5,
   "id": "7269b538-7c60-4acd-b5cd-9fefd8e5a6c0",
   "metadata": {},
   "outputs": [
    {
     "name": "stdout",
     "output_type": "stream",
     "text": [
      "720\n"
     ]
    }
   ],
   "source": [
    "num = [1,2,3,4,5,6]\n",
    "product = 1 \n",
    "for i in num:\n",
    "    product = product*i\n",
    "print(product)"
   ]
  },
  {
   "cell_type": "markdown",
   "id": "cd6357b2-340a-4a0e-9391-eb34f94f27d5",
   "metadata": {},
   "source": [
    "6. Create a Python program that prints all even numbers from 1 to 20 using a for loop.\n"
   ]
  },
  {
   "cell_type": "code",
   "execution_count": 12,
   "id": "2e28d6da-2345-465b-b421-0e3a2c83b505",
   "metadata": {},
   "outputs": [
    {
     "name": "stdout",
     "output_type": "stream",
     "text": [
      "2 4 6 8 10 12 14 16 18 20 "
     ]
    }
   ],
   "source": [
    "num = range(1,21)\n",
    "for i in num :\n",
    "    if i%2== 0 :\n",
    "        print(i,end=' ' )"
   ]
  },
  {
   "cell_type": "markdown",
   "id": "3810d96a-f5b6-4112-9cd7-d4d149348164",
   "metadata": {},
   "source": [
    "7. Write a Python program that calculates the factorial of a number using a for loop.\n"
   ]
  },
  {
   "cell_type": "code",
   "execution_count": 20,
   "id": "c24d7d02-272c-4e23-ac43-0b8730576b48",
   "metadata": {},
   "outputs": [
    {
     "name": "stdin",
     "output_type": "stream",
     "text": [
      " 5\n"
     ]
    },
    {
     "name": "stdout",
     "output_type": "stream",
     "text": [
      "factorial of 5 = 120\n"
     ]
    }
   ],
   "source": [
    "num = int(input())\n",
    "fact = 1\n",
    "if num <0 :\n",
    "    print('no factorial available')\n",
    "elif num == 0 :\n",
    "    print('factorial is 1')\n",
    "else :\n",
    "    for i in range(1,num+1):\n",
    "        fact = fact * i \n",
    "print('factorial of', num, '=', fact)\n",
    "    "
   ]
  },
  {
   "cell_type": "markdown",
   "id": "ed98ceef-3049-4341-ab34-8d2101190ae0",
   "metadata": {},
   "source": [
    "8. How can you iterate through the characters of a string using a for loop in Python?\n"
   ]
  },
  {
   "cell_type": "code",
   "execution_count": 24,
   "id": "f0aa4f4e-21df-4bb5-b46e-8ca02af3ff50",
   "metadata": {},
   "outputs": [
    {
     "name": "stdout",
     "output_type": "stream",
     "text": [
      "H\n",
      "a\n",
      "r\n",
      "s\n",
      "h\n",
      "i\n",
      "t\n",
      " \n",
      "C\n",
      "h\n",
      "a\n",
      "u\n",
      "h\n",
      "a\n",
      "n\n"
     ]
    }
   ],
   "source": [
    "h = 'Harshit Chauhan'\n",
    "for i in h :\n",
    "    print(i)"
   ]
  },
  {
   "cell_type": "markdown",
   "id": "6307e2ec-10a6-4c08-9782-d8d28fae81d5",
   "metadata": {},
   "source": [
    "9. Write a Python program to find the largest number in a list using a for loop.\n"
   ]
  },
  {
   "cell_type": "code",
   "execution_count": 27,
   "id": "b31573c7-da2b-4f92-8728-058df14c54b4",
   "metadata": {},
   "outputs": [
    {
     "name": "stdout",
     "output_type": "stream",
     "text": [
      "73\n"
     ]
    }
   ],
   "source": [
    "l = [3,4,5,73,34,43,9]\n",
    "l1 = 0\n",
    "for i in l :\n",
    "    if i > l1:\n",
    "        l1 = i \n",
    "print(l1)"
   ]
  },
  {
   "cell_type": "markdown",
   "id": "fa4d1368-edb6-4b84-b18b-51a3bea8ad30",
   "metadata": {},
   "source": [
    "10. Create a Python program that prints the Fibonacci sequence up to a specified limit using a for loop."
   ]
  },
  {
   "cell_type": "code",
   "execution_count": 32,
   "id": "07a7b82b-0215-4234-b96e-a5bf74fe425d",
   "metadata": {},
   "outputs": [
    {
     "name": "stdin",
     "output_type": "stream",
     "text": [
      " 10\n"
     ]
    },
    {
     "name": "stdout",
     "output_type": "stream",
     "text": [
      "0 1 1 2 3 5 8 13 21 "
     ]
    }
   ],
   "source": [
    "lim = int(input())\n",
    "a = 0 \n",
    "b = 1\n",
    "for i in range(1,lim):\n",
    "    print(a,end=' ')\n",
    "    c = a+b\n",
    "    a = b\n",
    "    b = c\n"
   ]
  },
  {
   "cell_type": "markdown",
   "id": "c5519b31-0b43-4dfc-9b55-4a05b297d569",
   "metadata": {},
   "source": [
    "11. Write a Python program to count the number of vowels in a given string using a for loop.\n"
   ]
  },
  {
   "cell_type": "code",
   "execution_count": 34,
   "id": "0658f6f3-39ef-4f53-8bdb-99e40e8861d2",
   "metadata": {},
   "outputs": [
    {
     "name": "stdout",
     "output_type": "stream",
     "text": [
      "5\n"
     ]
    }
   ],
   "source": [
    "s = 'i am a student'\n",
    "v = 'aeiou'\n",
    "count = 0\n",
    "for i in s:\n",
    "    if i in v :\n",
    "        count = count+1\n",
    "print(count)"
   ]
  },
  {
   "cell_type": "markdown",
   "id": "7c09f341-d78f-4b1f-b192-e8bf7e31b1f5",
   "metadata": {},
   "source": [
    "12. Create a Python program that generates a multiplication table for a given number using a for loop.\n"
   ]
  },
  {
   "cell_type": "code",
   "execution_count": 46,
   "id": "2cda36c9-e078-4e36-b53c-5da04ab09a0e",
   "metadata": {},
   "outputs": [
    {
     "name": "stdin",
     "output_type": "stream",
     "text": [
      " 2\n"
     ]
    },
    {
     "name": "stdout",
     "output_type": "stream",
     "text": [
      "2\n",
      "4\n",
      "6\n",
      "8\n",
      "10\n",
      "12\n",
      "14\n",
      "16\n",
      "18\n",
      "20\n"
     ]
    }
   ],
   "source": [
    "num = int(input())\n",
    "a = 10\n",
    "for i in range(1,a+1):\n",
    "    print(i * num)\n",
    "    \n",
    "   "
   ]
  },
  {
   "cell_type": "markdown",
   "id": "70de6444-ae80-43a5-952d-7ac8c6d52d7c",
   "metadata": {},
   "source": [
    "13. Write a Python program to reverse a list using a for loop."
   ]
  },
  {
   "cell_type": "code",
   "execution_count": 49,
   "id": "fdf4e52a-0eb4-4078-919f-8bc6ee0352ce",
   "metadata": {},
   "outputs": [
    {
     "name": "stdout",
     "output_type": "stream",
     "text": [
      "nahuahctihsrah"
     ]
    }
   ],
   "source": [
    "s = 'harshitchauhan'\n",
    "for i in s[::-1]:\n",
    "    print(i,end='')"
   ]
  },
  {
   "cell_type": "markdown",
   "id": "8edbec61-0520-4ba3-b99d-51df6b5513ae",
   "metadata": {},
   "source": [
    "14. Write a Python program to find the common elements between two lists using a for loop.\n"
   ]
  },
  {
   "cell_type": "code",
   "execution_count": 52,
   "id": "007b059b-020b-400a-b115-cc2d92d50f6e",
   "metadata": {},
   "outputs": [
    {
     "name": "stdout",
     "output_type": "stream",
     "text": [
      "[4, 4, 6]\n"
     ]
    }
   ],
   "source": [
    "l = [1,2,3,4,6,7,8,9]\n",
    "l1 = [4,54,32,4,5,6,22]\n",
    "l2 = []\n",
    "for i in l:\n",
    "    for j in l1 :\n",
    "        if i==j:\n",
    "            l2.append(i)\n",
    "print(l2)"
   ]
  },
  {
   "cell_type": "markdown",
   "id": "777d6f60-03a9-4a8a-85db-b08e3dd7b2b7",
   "metadata": {},
   "source": [
    "15. Explain how to use a for loop to iterate through the keys and values of a dictionary in Python.\n"
   ]
  },
  {
   "cell_type": "code",
   "execution_count": 62,
   "id": "856bded3-eb2c-41b3-bd39-7b5d15c2312a",
   "metadata": {},
   "outputs": [
    {
     "name": "stdout",
     "output_type": "stream",
     "text": [
      "name : harshit chauhan\n",
      "work : student\n",
      "skills : python\n"
     ]
    }
   ],
   "source": [
    "dic = {'name': 'harshit chauhan','work' : 'student', 'skills' :'python'}\n",
    "for i,e in dic.items():\n",
    "    print(i ,':',e)"
   ]
  },
  {
   "cell_type": "markdown",
   "id": "7e36e60a-5df0-4b49-96d1-d690477200d1",
   "metadata": {},
   "source": [
    "16. Write a Python program to find the GCD (Greatest Common Divisor) of two numbers using a for loop.\n"
   ]
  },
  {
   "cell_type": "code",
   "execution_count": 99,
   "id": "cfe71881-f8b8-4d7c-b1ea-d0b3aea47a90",
   "metadata": {},
   "outputs": [
    {
     "name": "stdin",
     "output_type": "stream",
     "text": [
      " 42\n",
      " 56\n"
     ]
    },
    {
     "name": "stdout",
     "output_type": "stream",
     "text": [
      "the gcd of 42 and 56 14\n"
     ]
    }
   ],
   "source": [
    "num1 = int(input())\n",
    "num2 = int(input())\n",
    "if num2>num1 :\n",
    "    mn = num1\n",
    "else:\n",
    "    mn = num2\n",
    "for i in range(1,mn+1):\n",
    "    if num1%i==0 and num2%i==0:\n",
    "        GCD = i\n",
    "print('the gcd of',num1 ,'and',num2, GCD)"
   ]
  },
  {
   "cell_type": "markdown",
   "id": "4d2e9b1f-06b0-4c16-86cd-6eb63a833233",
   "metadata": {},
   "source": [
    "17. Create a Python program that checks if a string is a palindrome using a for loop.\n"
   ]
  },
  {
   "cell_type": "code",
   "execution_count": null,
   "id": "70542532-dd33-4be0-a17c-d35d704a62c5",
   "metadata": {},
   "outputs": [],
   "source": []
  },
  {
   "cell_type": "markdown",
   "id": "d80f419e-2892-495a-9019-20bbac52b5cc",
   "metadata": {},
   "source": [
    "18. Write a Python program to remove duplicates from a list using a for loop.\n"
   ]
  },
  {
   "cell_type": "code",
   "execution_count": 50,
   "id": "e7ac3ee4-3302-4384-9b9b-d48656745cd1",
   "metadata": {},
   "outputs": [
    {
     "name": "stdout",
     "output_type": "stream",
     "text": [
      "[45, 6, 7]\n"
     ]
    }
   ],
   "source": [
    "l = [1,2,3,4,5]\n",
    "l1 = [2,3,45,6,7]\n",
    "for i in l :\n",
    "    if i in l1:\n",
    "        l1.remove(i)\n",
    "print(l1)\n"
   ]
  },
  {
   "cell_type": "markdown",
   "id": "b7d014d5-8fed-4c56-8227-07a3ac27e5ab",
   "metadata": {},
   "source": [
    "19. Create a Python program that counts the number of words in a sentence using a for loop.\n"
   ]
  },
  {
   "cell_type": "code",
   "execution_count": 58,
   "id": "5d507fa6-8335-41de-b2c5-6feebcbd9249",
   "metadata": {},
   "outputs": [
    {
     "name": "stdin",
     "output_type": "stream",
     "text": [
      " i am student.\n"
     ]
    },
    {
     "name": "stdout",
     "output_type": "stream",
     "text": [
      "11\n"
     ]
    }
   ],
   "source": [
    "s = input()\n",
    "s1 = s.replace(' ','')\n",
    "count = 0\n",
    "for i in s1:\n",
    "    if i in s1:\n",
    "        count = count + 1\n",
    "print(count)"
   ]
  },
  {
   "cell_type": "markdown",
   "id": "0ce4f1b9-c22c-4910-bdb1-8c5e74e433bc",
   "metadata": {},
   "source": [
    "20. Write a Python program to find the sum of all odd numbers from 1 to 50 using a for loop.\n"
   ]
  },
  {
   "cell_type": "code",
   "execution_count": 69,
   "id": "0a9233ee-f952-41a4-a593-57b6c496b65f",
   "metadata": {},
   "outputs": [
    {
     "name": "stdout",
     "output_type": "stream",
     "text": [
      "625\n"
     ]
    }
   ],
   "source": [
    "sum_odd = 0\n",
    "for i in range(1,50):\n",
    "    if i%2 != 0:\n",
    "        sum_odd += i \n",
    "print(sum_odd)"
   ]
  },
  {
   "cell_type": "markdown",
   "id": "dc0d9205-30de-4727-9b34-c50d6e060113",
   "metadata": {},
   "source": [
    "21. Write a Python program that checks if a given year is a leap year using a for loop.\n"
   ]
  },
  {
   "cell_type": "code",
   "execution_count": 96,
   "id": "a3a42fa2-76e0-49d7-a1f2-55b82ad7a3bd",
   "metadata": {},
   "outputs": [
    {
     "name": "stdin",
     "output_type": "stream",
     "text": [
      " 1999\n"
     ]
    },
    {
     "name": "stdout",
     "output_type": "stream",
     "text": [
      "its not a leap year\n"
     ]
    }
   ],
   "source": [
    "year = int(input())\n",
    "if year % 4 == 0:\n",
    "    print('its a leap year')\n",
    "else:\n",
    "    print('its not a leap year')"
   ]
  },
  {
   "cell_type": "markdown",
   "id": "76940ad7-57d3-4bfb-ad85-d115a1d969ed",
   "metadata": {},
   "source": [
    "22. Create a Python program that calculates the square root of a number using a for loop.\n"
   ]
  },
  {
   "cell_type": "code",
   "execution_count": 6,
   "id": "0873b278-bd30-4ceb-9b77-516927be79a6",
   "metadata": {},
   "outputs": [
    {
     "name": "stdin",
     "output_type": "stream",
     "text": [
      " 64\n"
     ]
    },
    {
     "name": "stdout",
     "output_type": "stream",
     "text": [
      "8.0\n"
     ]
    }
   ],
   "source": [
    "sqr = int(input())\n",
    "sqr_r = sqr**0.5\n",
    "print(sqr_r)"
   ]
  },
  {
   "cell_type": "markdown",
   "id": "6faf7481-534c-4445-962a-c326c225b971",
   "metadata": {},
   "source": [
    "23. Write a Python program to find the LCM (Least Common Multiple) of two numbers using a for\n",
    "loop.\n"
   ]
  },
  {
   "cell_type": "code",
   "execution_count": 10,
   "id": "7bde3da6-5979-46b7-958f-4466f87bdc86",
   "metadata": {},
   "outputs": [
    {
     "name": "stdin",
     "output_type": "stream",
     "text": [
      " 24\n",
      " 36\n"
     ]
    },
    {
     "name": "stdout",
     "output_type": "stream",
     "text": [
      "72\n"
     ]
    }
   ],
   "source": [
    "num1 = int(input())\n",
    "num2 = int(input())\n",
    "if num2>num1 :\n",
    "    mn = num1 \n",
    "else:\n",
    "    mn = num2\n",
    "for i in range(1,mn+1):\n",
    "    if num1%i == 0 and num2%i == 0:\n",
    "        gcd = i\n",
    "lcm = num1*num2//gcd\n",
    "print(lcm)"
   ]
  },
  {
   "cell_type": "markdown",
   "id": "4f3b4c85-8744-4558-b532-633ff2018545",
   "metadata": {},
   "source": [
    "If else :"
   ]
  },
  {
   "cell_type": "markdown",
   "id": "ed73ade8-30b9-4f10-ac9f-30b5a2fcbd85",
   "metadata": {},
   "source": [
    "1. Write a Python program to check if a number is positive, negative, or zero using an if-else\n",
    "statement.\n"
   ]
  },
  {
   "cell_type": "code",
   "execution_count": 14,
   "id": "47757379-5914-4c15-b6a5-5259a963bf9e",
   "metadata": {},
   "outputs": [
    {
     "name": "stdin",
     "output_type": "stream",
     "text": [
      " -5\n"
     ]
    },
    {
     "name": "stdout",
     "output_type": "stream",
     "text": [
      "the num is negative\n"
     ]
    }
   ],
   "source": [
    "num = int(input())\n",
    "if num<0 :\n",
    "    print('the num is negative')\n",
    "elif num == 0 :\n",
    "    print('the num is zero')\n",
    "else:\n",
    "    print('the num is positive')"
   ]
  },
  {
   "cell_type": "markdown",
   "id": "5a9614ea-4d0a-413a-8397-73d93fcd2e74",
   "metadata": {},
   "source": [
    "2. Create a Python program that checks if a given number is even or odd using an if-else statement.\n"
   ]
  },
  {
   "cell_type": "code",
   "execution_count": 16,
   "id": "7064261a-1a21-4ec1-a137-431c87f88d1e",
   "metadata": {},
   "outputs": [
    {
     "name": "stdin",
     "output_type": "stream",
     "text": [
      " 5\n"
     ]
    },
    {
     "name": "stdout",
     "output_type": "stream",
     "text": [
      "its a odd number\n"
     ]
    }
   ],
   "source": [
    "num = int(input())\n",
    "if num%2 == 0:\n",
    "    print('its a even number')\n",
    "else :\n",
    "    print('its a odd number')"
   ]
  },
  {
   "cell_type": "markdown",
   "id": "cb344973-c544-4ab0-8410-f50050827cc3",
   "metadata": {},
   "source": [
    "3. How can you use nested if-else statements in Python, and provide an example?\n"
   ]
  },
  {
   "cell_type": "markdown",
   "id": "5d296200-40de-4a53-86b8-6e2ba39c7fdc",
   "metadata": {},
   "source": [
    "Nested if is use in if you have a condition with other condition then this is very usefull to take multiple decision based on\n",
    "thier condition.\n",
    "\n",
    "FOR EXAMPLE :-"
   ]
  },
  {
   "cell_type": "code",
   "execution_count": 17,
   "id": "4a71e19f-24cf-403c-8f33-a7760ff63483",
   "metadata": {},
   "outputs": [
    {
     "name": "stdin",
     "output_type": "stream",
     "text": [
      " 80\n"
     ]
    },
    {
     "name": "stdout",
     "output_type": "stream",
     "text": [
      "Grade : B\n",
      "Feedback : Good job, but there's room for improvement.\n"
     ]
    }
   ],
   "source": [
    "perc = float(input())\n",
    "if perc >=90:\n",
    "    grade = 'A'\n",
    "elif perc >= 80 :\n",
    "    grade = 'B'\n",
    "elif perc>=70:\n",
    "    grade ='C'\n",
    "elif perc>=60 :\n",
    "    grade = 'D'\n",
    "else :\n",
    "    grade = 'F'\n",
    "\n",
    "if grade == 'A':\n",
    "    feedback = \"Excellent! Keep up the good work.\"\n",
    "elif grade == 'B':\n",
    "    feedback = \"Good job, but there's room for improvement.\"\n",
    "elif grade == 'C':\n",
    "    feedback = \"You passed, but more effort is needed.\"\n",
    "elif grade == 'D':\n",
    "    feedback = \"You need to work harder to improve.\"\n",
    "else:\n",
    "    feedback = \"You failed. Seek help and study harder.\"\n",
    "print(f'Grade : {grade}')\n",
    "print(f'Feedback : {feedback}')"
   ]
  },
  {
   "cell_type": "markdown",
   "id": "3018971f-3055-41b9-b0e7-7d1f6dff3cad",
   "metadata": {},
   "source": [
    "4. Write a Python program to determine the largest of three numbers using if-else.\n"
   ]
  },
  {
   "cell_type": "code",
   "execution_count": 18,
   "id": "a5993923-3dc8-4680-a561-f545a4d65694",
   "metadata": {},
   "outputs": [
    {
     "name": "stdin",
     "output_type": "stream",
     "text": [
      " 24\n",
      " 45\n",
      " 67\n"
     ]
    },
    {
     "name": "stdout",
     "output_type": "stream",
     "text": [
      "67 is the greatest\n"
     ]
    }
   ],
   "source": [
    "num1 = int(input())\n",
    "num2 = int(input())\n",
    "num3 = int(input())\n",
    "if num1 > num2 and num1 > num3:\n",
    "    print(num1, 'is gratest')\n",
    "elif num2 > num1 and num2> num3:\n",
    "    print(num2, 'is the greatest')\n",
    "else:\n",
    "    if num3>num1 and num3 > num2:\n",
    "        print(num3, 'is the greatest')"
   ]
  },
  {
   "cell_type": "markdown",
   "id": "adb57fe5-5e43-42c0-a6ec-31f38bbbfa37",
   "metadata": {},
   "source": [
    "5. Write a Python program that calculates the absolute value of a number using if-else."
   ]
  },
  {
   "cell_type": "code",
   "execution_count": 21,
   "id": "2e6e40da-c4f2-463b-9434-d3e1b9f4a4c3",
   "metadata": {},
   "outputs": [
    {
     "name": "stdin",
     "output_type": "stream",
     "text": [
      " 8\n"
     ]
    },
    {
     "name": "stdout",
     "output_type": "stream",
     "text": [
      "8\n"
     ]
    }
   ],
   "source": [
    "num = int(input())\n",
    "if num <0:\n",
    "    ab_v = -num\n",
    "else:\n",
    "    ab_v = num\n",
    "print(ab_v)"
   ]
  },
  {
   "cell_type": "markdown",
   "id": "e00a829f-bdd8-4547-a4b5-65d76d75f3f0",
   "metadata": {},
   "source": [
    "6. Create a Python program that checks if a given character is a vowel or consonant using if-else.\n"
   ]
  },
  {
   "cell_type": "code",
   "execution_count": 24,
   "id": "0e8b0a06-e95d-480f-b2bd-816c92e418c1",
   "metadata": {},
   "outputs": [
    {
     "name": "stdin",
     "output_type": "stream",
     "text": [
      " a\n"
     ]
    },
    {
     "name": "stdout",
     "output_type": "stream",
     "text": [
      "character is a vowel\n"
     ]
    }
   ],
   "source": [
    "char = input()\n",
    "char1 = char.lower()\n",
    "vowel = 'aeiou'\n",
    "if char in vowel:\n",
    "    print('character is a vowel')\n",
    "else:\n",
    "    print('character is a constant')"
   ]
  },
  {
   "cell_type": "markdown",
   "id": "d1a147bb-c7d2-4278-959d-f72383cb96ac",
   "metadata": {},
   "source": [
    "7. Write a Python program to determine if a user is eligible to vote based on their age using if-else.\n"
   ]
  },
  {
   "cell_type": "code",
   "execution_count": 25,
   "id": "475b6580-2f03-4d71-94ff-d78ec0e14a2f",
   "metadata": {},
   "outputs": [
    {
     "name": "stdin",
     "output_type": "stream",
     "text": [
      "enter the age 15\n"
     ]
    },
    {
     "name": "stdout",
     "output_type": "stream",
     "text": [
      "he is not eligible for voting\n"
     ]
    }
   ],
   "source": [
    "n = int(input('enter the age'))\n",
    "if n >= 18:\n",
    "    print('he is eligible for voting')\n",
    "elif n< 18:\n",
    "    print('he is not eligible for voting')"
   ]
  },
  {
   "cell_type": "markdown",
   "id": "31ca091a-aace-46f9-85a3-eb424678a967",
   "metadata": {},
   "source": [
    "8. Create a Python program that calculates the discount amount based on the purchase amount\n",
    "using if-else.\n"
   ]
  },
  {
   "cell_type": "code",
   "execution_count": 28,
   "id": "42e1f68c-5c4a-495b-9117-174dcf5eee98",
   "metadata": {},
   "outputs": [
    {
     "name": "stdin",
     "output_type": "stream",
     "text": [
      " 500\n"
     ]
    },
    {
     "name": "stdout",
     "output_type": "stream",
     "text": [
      "disount apply after price of shopping is greater than 500 :  500.0\n"
     ]
    }
   ],
   "source": [
    "amount = float(input())\n",
    "if 500 < amount <= 1000:\n",
    "    minus = (0.2*amount)\n",
    "    print('actual price after discount:',amount - minus)\n",
    "elif 1000< amount<=5000:\n",
    "    minus1 = (0.5 * amount)\n",
    "    print('actual price after discount : ',amount - minus1)\n",
    "elif amount>=10000:\n",
    "    minus2 = (0.7*amount)\n",
    "    print('actual amount after price : ', amount - minus2)\n",
    "else:\n",
    "    print('disount apply after price of shopping is greater than 500 : ',amount)\n"
   ]
  },
  {
   "cell_type": "markdown",
   "id": "74f96e84-89c8-4fda-9f28-a2694ebecada",
   "metadata": {},
   "source": [
    "9. Write a Python program to check if a number is within a specified range using if-else.\n"
   ]
  },
  {
   "cell_type": "code",
   "execution_count": 30,
   "id": "8023dae8-05b9-4dc1-975d-8d1370ba175f",
   "metadata": {},
   "outputs": [
    {
     "name": "stdin",
     "output_type": "stream",
     "text": [
      "Enter a number:  56\n"
     ]
    },
    {
     "name": "stdout",
     "output_type": "stream",
     "text": [
      "56.0 is outside the range [10, 50].\n"
     ]
    }
   ],
   "source": [
    "min_ = 10\n",
    "max_ = 50\n",
    "number = float(input(\"Enter a number: \"))\n",
    "\n",
    "if number >= minimum and number <= maximum:\n",
    "    print(f\"{number} is within the range [{min_}, {max_}].\")\n",
    "else:\n",
    "    print(f\"{number} is outside the range [{min_}, {max_}].\")\n"
   ]
  },
  {
   "cell_type": "markdown",
   "id": "653c8905-25f5-4eb6-b25a-770236ea7859",
   "metadata": {},
   "source": [
    "10. Create a Python program that determines the grade of a student based on their score using\n",
    "if-else"
   ]
  },
  {
   "cell_type": "code",
   "execution_count": 31,
   "id": "4e60dc3f-df3e-4e0a-9614-ab166770c15a",
   "metadata": {},
   "outputs": [
    {
     "name": "stdin",
     "output_type": "stream",
     "text": [
      " 78\n"
     ]
    },
    {
     "name": "stdout",
     "output_type": "stream",
     "text": [
      "your grade is B+\n"
     ]
    }
   ],
   "source": [
    "grade = float(input())\n",
    "if grade >= 90  :\n",
    "    print('your grade is A+')\n",
    "elif 90 > grade >= 80 :\n",
    "    print('your grade is A')\n",
    "elif 80 > grade >= 70:\n",
    "    print('your grade is B+')\n",
    "elif 70> grade >= 60 :\n",
    "    print('your grade is B')\n",
    "else:\n",
    "    print('your grade is C')"
   ]
  },
  {
   "cell_type": "markdown",
   "id": "2d65acd2-eed5-489a-af27-55b49591d8d4",
   "metadata": {},
   "source": [
    "11. Write a Python program to check if a string is empty or not using if-else.\n"
   ]
  },
  {
   "cell_type": "code",
   "execution_count": 34,
   "id": "aa11b0a0-b872-4e1c-b4f4-6e6ee4b03246",
   "metadata": {},
   "outputs": [
    {
     "name": "stdin",
     "output_type": "stream",
     "text": [
      "Enter a string:  \n"
     ]
    },
    {
     "name": "stdout",
     "output_type": "stream",
     "text": [
      "The string is empty.\n"
     ]
    }
   ],
   "source": [
    "user = input(\"Enter a string: \")\n",
    "\n",
    "if len(user) == 0:\n",
    "    print(\"The string is empty.\")\n",
    "else:\n",
    "    print(\"The string is not empty.\")"
   ]
  },
  {
   "cell_type": "markdown",
   "id": "694a0cae-5aff-4cd1-87ac-59169e00bbd3",
   "metadata": {},
   "source": [
    "12. Create a Python program that identifies the type of a triangle (e.g., equilateral, isosceles, or\n",
    "scalene) based on input values using if-else.\n"
   ]
  },
  {
   "cell_type": "code",
   "execution_count": 35,
   "id": "d8103fc1-7377-4482-b9b1-f75f312913ee",
   "metadata": {},
   "outputs": [
    {
     "name": "stdin",
     "output_type": "stream",
     "text": [
      " 10\n",
      " 10\n",
      " 10\n"
     ]
    },
    {
     "name": "stdout",
     "output_type": "stream",
     "text": [
      "its is a equilateral triangle\n"
     ]
    }
   ],
   "source": [
    "len1 = int(input())\n",
    "len2 = int(input())\n",
    "len3 = int(input())\n",
    "if len1 == len2 and len2 == len3:\n",
    "    print('its is a equilateral triangle')\n",
    "elif len1 == len2 or len1 == len3 or len2 == len3:\n",
    "    print('its is a isosceles triangle')\n",
    "else :\n",
    "    print('its is a scalene triangle')"
   ]
  },
  {
   "cell_type": "markdown",
   "id": "6b320d12-a5e2-4fe0-bd1c-298c7eacfdea",
   "metadata": {},
   "source": [
    "13. Write a Python program to determine the day of the week based on a user-provided number\n",
    "using if-else"
   ]
  },
  {
   "cell_type": "code",
   "execution_count": 39,
   "id": "84621afd-9ef3-433d-b51c-73ca816af83c",
   "metadata": {},
   "outputs": [
    {
     "name": "stdin",
     "output_type": "stream",
     "text": [
      "enter the number 5\n"
     ]
    },
    {
     "name": "stdout",
     "output_type": "stream",
     "text": [
      "FRIDAY\n"
     ]
    }
   ],
   "source": [
    "num = int(input('enter the number'))\n",
    "\n",
    "days = ['MONDAY' , 'TUESDAY', 'WEDNESDAY' ,  'THURSDAY' , 'FRIDAY' , 'SATURDAY' , 'SUNDAY' ]\n",
    "\n",
    "if num == 0 or num > 7 :\n",
    "    print('please enter the number between 1 to 7 ')\n",
    "elif 7 >= num and num > 0:\n",
    "    print(days[num-1])\n",
    "else :\n",
    "    print('please provide a number')\n"
   ]
  },
  {
   "cell_type": "markdown",
   "id": "f55a914c-baf9-4c30-b539-67e96bd54c71",
   "metadata": {},
   "source": [
    "14. Create a Python program that checks if a given year is a leap year using both if-else and a\n",
    "function.\n"
   ]
  },
  {
   "cell_type": "code",
   "execution_count": 40,
   "id": "f473cd2e-5c0d-4ec0-ba3b-45b83dde08da",
   "metadata": {},
   "outputs": [
    {
     "name": "stdin",
     "output_type": "stream",
     "text": [
      "enter the year 2004\n"
     ]
    },
    {
     "name": "stdout",
     "output_type": "stream",
     "text": [
      "its a leap year\n"
     ]
    }
   ],
   "source": [
    "year = int(input('enter the year'))\n",
    "if year%4 == 0:\n",
    "    print('its a leap year')\n",
    "else:\n",
    "    print('its not a leap year')"
   ]
  },
  {
   "cell_type": "markdown",
   "id": "cdad024c-9e1c-49fb-b48f-225401dc1c1d",
   "metadata": {},
   "source": [
    "15. How do you use the \"assert\" statement in Python to add debugging checks within if-else blocks?\n"
   ]
  },
  {
   "cell_type": "code",
   "execution_count": 17,
   "id": "ee02f9b6-2a4a-4b9e-ac37-086e517e7e85",
   "metadata": {},
   "outputs": [
    {
     "name": "stdout",
     "output_type": "stream",
     "text": [
      "Assertion Error: Division by zero is not allowed.\n"
     ]
    }
   ],
   "source": [
    "def divide(x, y):\n",
    "    assert y != 0, \"Division by zero is not allowed.\"\n",
    "    result = x / y\n",
    "    return result\n",
    "\n",
    "numerator = 10\n",
    "denominator = 0\n",
    "\n",
    "try:\n",
    "    result = divide(numerator, denominator)\n",
    "    print(f\"Result of division: {result}\")\n",
    "except AssertionError as e:\n",
    "    print(f\"Assertion Error: {e}\")\n",
    "except ZeroDivisionError as e:\n",
    "    print(f\"Zero Division Error: {e}\")\n"
   ]
  },
  {
   "cell_type": "markdown",
   "id": "539498e7-3238-45b7-bed3-883a447a777a",
   "metadata": {},
   "source": [
    "16. Create a Python program that determines the eligibility of a person for a senior citizen discount\n",
    "based on age using if-else."
   ]
  },
  {
   "cell_type": "code",
   "execution_count": 41,
   "id": "3c227303-8f67-42a2-bf02-925a64fd6f70",
   "metadata": {},
   "outputs": [
    {
     "name": "stdin",
     "output_type": "stream",
     "text": [
      "Enter the age of the person:  67\n"
     ]
    },
    {
     "name": "stdout",
     "output_type": "stream",
     "text": [
      "The person is eligible for a senior citizen discount.\n"
     ]
    }
   ],
   "source": [
    "age = int(input(\"Enter the age of the person: \"))\n",
    "\n",
    "senior_citizen_age = 60\n",
    "\n",
    "if age >= senior_citizen_age:\n",
    "    print(\"The person is eligible for a senior citizen discount.\")\n",
    "else:\n",
    "    print(\"The person is not eligible for a senior citizen discount.\")\n"
   ]
  },
  {
   "cell_type": "markdown",
   "id": "0f8a8f4b-ea07-460f-82ee-659bbb30b327",
   "metadata": {},
   "source": [
    "17. Write a Python program to categorize a given character as uppercase, lowercase, or neither\n",
    "using if-else"
   ]
  },
  {
   "cell_type": "code",
   "execution_count": 45,
   "id": "1b948c5b-3b6a-4b95-b64f-28b8350f77eb",
   "metadata": {},
   "outputs": [
    {
     "name": "stdin",
     "output_type": "stream",
     "text": [
      "Enter a character:  HARSHIT\n"
     ]
    },
    {
     "name": "stdout",
     "output_type": "stream",
     "text": [
      "HARSHIT is an uppercase letter.\n"
     ]
    }
   ],
   "source": [
    "char = input(\"Enter a character: \")\n",
    "if char.isupper():\n",
    "    print(f\"{char} is an uppercase letter.\")\n",
    "elif char.islower():\n",
    "    print(f\"{char} is a lowercase letter.\")\n",
    "else:\n",
    "    print(f\"{char} is neither uppercase nor lowercase.\")\n"
   ]
  },
  {
   "cell_type": "markdown",
   "id": "b8e74a11-a76a-47de-9351-91e4d87bf2f7",
   "metadata": {},
   "source": [
    "18. Write a Python program to determine the roots of a quadratic equation using if-else.\n"
   ]
  },
  {
   "cell_type": "code",
   "execution_count": 51,
   "id": "98c11a1d-2ea6-4829-ba26-7190165d5184",
   "metadata": {},
   "outputs": [
    {
     "name": "stdin",
     "output_type": "stream",
     "text": [
      " 1\n",
      " -7\n",
      " -3\n"
     ]
    },
    {
     "name": "stdout",
     "output_type": "stream",
     "text": [
      "there are two root : %f and %f (7.405124837953327, -0.405124837953327)\n"
     ]
    }
   ],
   "source": [
    "import math\n",
    "\n",
    "a = float(input())\n",
    "b = float(input())\n",
    "c = float(input())\n",
    "\n",
    "delta = b**2-4*a*c\n",
    "\n",
    "if delta > 0:\n",
    "    x1 = (((-b) + math.sqrt(delta)) / (2*a))\n",
    "    x2 = (((-b) - math.sqrt(delta)) / (2*a))\n",
    "    print('there are two root : %f and %f', (x1,x2))\n",
    "elif delta == 0 :\n",
    "    x = (-b)/2*a\n",
    "    print('there are one root', x)\n",
    "else :\n",
    "    print('no root available delta is < 0 ')\n",
    "    "
   ]
  },
  {
   "cell_type": "markdown",
   "id": "9e6bf0cb-871e-478e-aea0-b26831cef721",
   "metadata": {},
   "source": [
    "19. Create a Python program that checks if a given year is a century year or not using if-else.\n"
   ]
  },
  {
   "cell_type": "code",
   "execution_count": 53,
   "id": "ed21f587-b399-457b-8994-4cbde310272d",
   "metadata": {},
   "outputs": [
    {
     "name": "stdin",
     "output_type": "stream",
     "text": [
      "Enter a year:  2000\n"
     ]
    },
    {
     "name": "stdout",
     "output_type": "stream",
     "text": [
      "2000 is a century year.\n"
     ]
    }
   ],
   "source": [
    "year = int(input(\"Enter a year: \"))\n",
    "\n",
    "if year % 100 == 0:\n",
    "    print(f\"{year} is a century year.\")\n",
    "else:\n",
    "    print(f\"{year} is not a century year.\")\n"
   ]
  },
  {
   "cell_type": "markdown",
   "id": "a060611f-011e-4ad6-b4e5-06ba2de7de26",
   "metadata": {},
   "source": [
    "20. Write a Python program to determine if a given number is a perfect square using if-else.\n"
   ]
  },
  {
   "cell_type": "code",
   "execution_count": 75,
   "id": "5e13f8f8-b88c-48f9-93f6-d6cc05ded47d",
   "metadata": {},
   "outputs": [
    {
     "name": "stdin",
     "output_type": "stream",
     "text": [
      "Enter a number:  45\n"
     ]
    },
    {
     "name": "stdout",
     "output_type": "stream",
     "text": [
      "45 is not a perfect square.\n"
     ]
    }
   ],
   "source": [
    "number = int(input(\"Enter a number: \"))\n",
    "\n",
    "square_root = number ** 0.5\n",
    "\n",
    "if square_root**2 == number:\n",
    "    print(f\"{number} is a perfect square.\")\n",
    "else:\n",
    "    print(f\"{number} is not a perfect square.\")\n"
   ]
  },
  {
   "cell_type": "markdown",
   "id": "b1afb99a-6a16-47f5-8f93-c9425879f778",
   "metadata": {},
   "source": [
    "21. Explain the purpose of the \"continue\" and \"break\" statements within if-else loops.\n"
   ]
  },
  {
   "cell_type": "markdown",
   "id": "baaf75dd-414a-46a3-8fb4-18f77504a0d1",
   "metadata": {},
   "source": [
    "Common use cases:\n",
    "To exit a loop early when a specific condition is met, saving computation time.\n",
    "To create a controlled exit from an infinite loop."
   ]
  },
  {
   "cell_type": "code",
   "execution_count": 6,
   "id": "99f6723d-863c-46ce-9166-cd914623d21b",
   "metadata": {},
   "outputs": [
    {
     "name": "stdout",
     "output_type": "stream",
     "text": [
      "1\n",
      "2\n",
      "3\n",
      "4\n"
     ]
    }
   ],
   "source": [
    "for i in range(1,10):\n",
    "    if i == 5:\n",
    "        break\n",
    "    print(i)"
   ]
  },
  {
   "cell_type": "markdown",
   "id": "6ae67c82-c6ac-4be3-a8cb-8e67efeb31bd",
   "metadata": {},
   "source": [
    "Common use cases:\n",
    "To skip certain iterations of a loop based on specific conditions.\n",
    "To avoid executing certain code within an iteration."
   ]
  },
  {
   "cell_type": "code",
   "execution_count": 7,
   "id": "59e4a20e-8d15-4fea-9e65-c76d31407085",
   "metadata": {},
   "outputs": [
    {
     "name": "stdout",
     "output_type": "stream",
     "text": [
      "1\n",
      "3\n",
      "5\n",
      "7\n",
      "9\n"
     ]
    }
   ],
   "source": [
    "for i in range(1,10):\n",
    "    if i%2==0:\n",
    "        continue\n",
    "    print(i)"
   ]
  },
  {
   "cell_type": "markdown",
   "id": "4813c1b1-9f21-4f7c-a12f-5fa6b534201c",
   "metadata": {},
   "source": [
    "22. Create a Python program that calculates the BMI (Body Mass Index) of a person based on their\n",
    "weight and height using if-else.\n"
   ]
  },
  {
   "cell_type": "code",
   "execution_count": 9,
   "id": "dc6487d8-7a27-41fa-85e5-68959e730735",
   "metadata": {},
   "outputs": [
    {
     "name": "stdin",
     "output_type": "stream",
     "text": [
      "enter your weight in kilograms 60\n",
      "enter your height in meters 1.60\n"
     ]
    },
    {
     "name": "stdout",
     "output_type": "stream",
     "text": [
      "you are in healthy weight range\n"
     ]
    }
   ],
   "source": [
    "weight = float(input('enter your weight in kilograms'))\n",
    "height = float(input('enter your height in meters'))\n",
    "\n",
    "bmi = weight/height**2\n",
    "\n",
    "if bmi <18.5:\n",
    "    print('you are in under weight range')\n",
    "elif 18.5<= bmi <=24.9:\n",
    "    print('you are in healthy weight range')\n",
    "elif 25 <=bmi <=24.9:\n",
    "    print('you are in over weight range')\n",
    "else:\n",
    "    print('you are obese')\n",
    "    \n",
    "    "
   ]
  },
  {
   "cell_type": "markdown",
   "id": "026015f1-71fb-42c1-9e9b-f5aaef0a3535",
   "metadata": {},
   "source": [
    "23. How can you use the \"filter()\" function with if-else statements to filter elements from a list?"
   ]
  },
  {
   "cell_type": "code",
   "execution_count": 10,
   "id": "e6ffee20-491f-46aa-adfc-d7da70b432b6",
   "metadata": {},
   "outputs": [
    {
     "name": "stdout",
     "output_type": "stream",
     "text": [
      "[2, 4, 6, 8, 10]\n"
     ]
    }
   ],
   "source": [
    "numbers = [1, 2, 3, 4, 5, 6, 7, 8, 9, 10]\n",
    "\n",
    "def is_even(num):\n",
    "    return num % 2 == 0\n",
    "\n",
    "even_numbers = filter(is_even, numbers)\n",
    "\n",
    "even_numbers_list = list(even_numbers)\n",
    "\n",
    "print(even_numbers_list)\n"
   ]
  },
  {
   "cell_type": "markdown",
   "id": "0afc13ae-3862-4f9a-916e-e80cee4a8f23",
   "metadata": {},
   "source": [
    "24. Write a Python program to determine if a given number is prime or not using if-else.\n"
   ]
  },
  {
   "cell_type": "code",
   "execution_count": 35,
   "id": "3fd55730-7b4b-472b-9909-e6667a48b37b",
   "metadata": {},
   "outputs": [
    {
     "name": "stdin",
     "output_type": "stream",
     "text": [
      " 21\n"
     ]
    },
    {
     "name": "stdout",
     "output_type": "stream",
     "text": [
      "its not a prime number\n"
     ]
    }
   ],
   "source": [
    "num = int(input())\n",
    "for i in range(2,num):\n",
    "    if num % i == 0:\n",
    "        print('its not a prime number')\n",
    "        break\n",
    "else :\n",
    "    print('its a prime number')\n",
    "        \n",
    "    "
   ]
  },
  {
   "cell_type": "markdown",
   "id": "be48e936-1adf-4d05-b9d6-6a7716356f20",
   "metadata": {},
   "source": [
    "Map :-\n"
   ]
  },
  {
   "cell_type": "markdown",
   "id": "c5d7e45c-41a9-467e-811a-4aeb024c99e2",
   "metadata": {},
   "source": [
    "1. Explain the purpose of the `map()` function in Python and provide an example of how it can be\n",
    "used to apply a function to each element of an iterable."
   ]
  },
  {
   "cell_type": "markdown",
   "id": "09bbd2f5-cedd-4159-93d4-95bb69dae0f2",
   "metadata": {},
   "source": [
    "Let's say you have a list of temperatures in Celsius and you want to convert them to Fahrenheit using the formula: Fahrenheit = (Celsius * 9/5) + 32. You can use the map() function to apply this conversion to each temperature in the list."
   ]
  },
  {
   "cell_type": "code",
   "execution_count": 25,
   "id": "60fc4b98-e86c-49d6-9726-c2b2f1bd52f5",
   "metadata": {},
   "outputs": [
    {
     "name": "stdout",
     "output_type": "stream",
     "text": [
      "Fahrenheit Temperatures: [32.0, 59.0, 86.0, 113.0, 140.0]\n"
     ]
    }
   ],
   "source": [
    "celsius_temperatures = [0, 15, 30, 45, 60]\n",
    "\n",
    "fahrenheit_temperatures = list(map(lambda a : a*9/5 +32 , celsius_temperatures))\n",
    "\n",
    "print(\"Fahrenheit Temperatures:\", fahrenheit_temperatures)\n"
   ]
  },
  {
   "cell_type": "markdown",
   "id": "328e623a-30d1-4508-9676-316f1fb85488",
   "metadata": {},
   "source": [
    "2. Write a Python program that uses the `map()` function to square each element of a list of\n",
    "numbers"
   ]
  },
  {
   "cell_type": "code",
   "execution_count": 2,
   "id": "f691c59d-6942-465f-bbf9-723506986ec3",
   "metadata": {},
   "outputs": [
    {
     "name": "stdout",
     "output_type": "stream",
     "text": [
      "[4, 9, 16, 25, 36]\n"
     ]
    }
   ],
   "source": [
    "l = [2,3,4,5,6]\n",
    "l1 = list(map(lambda a : a**2, l))\n",
    "print(l1)"
   ]
  },
  {
   "cell_type": "markdown",
   "id": "63b8027d-b675-4bac-9b3d-584a471f1881",
   "metadata": {},
   "source": [
    "3. How does the `map()` function differ from a list comprehension in Python, and when would you\n",
    "choose one over the other?"
   ]
  },
  {
   "cell_type": "markdown",
   "id": "62dcc049-66d3-4dec-8f6f-cb06075c6205",
   "metadata": {},
   "source": [
    "MAP :- Map is a in bulit function in python which is used for maping of one condition to the each item in a iterable function\n",
    "(such as tuple,list and dict)\n",
    "\n",
    "FOR EXAMPLE :- i have a list and i want to add 2 of each and every element of the list "
   ]
  },
  {
   "cell_type": "code",
   "execution_count": 4,
   "id": "6a204c9a-1331-48bd-be22-42eeb8b6626b",
   "metadata": {},
   "outputs": [
    {
     "name": "stdout",
     "output_type": "stream",
     "text": [
      "[3, 4, 5, 6, 7, 8]\n"
     ]
    }
   ],
   "source": [
    "l2=[1,2,3,4,5,6]\n",
    "l3 = list(map(lambda a : a+2 ,l2))\n",
    "print(l3)\n",
    "              "
   ]
  },
  {
   "cell_type": "markdown",
   "id": "e7ca2de6-98f5-4d1b-ae2c-2291c42b4041",
   "metadata": {},
   "source": [
    "COMPREHENSION :-  You can use list comprehensions to filter and transform elements from an existing iterable into a new list. \n",
    "\n",
    "For example :-"
   ]
  },
  {
   "cell_type": "code",
   "execution_count": 5,
   "id": "8f4d5c17-8752-4b16-b946-b4d982297dc4",
   "metadata": {},
   "outputs": [
    {
     "data": {
      "text/plain": [
       "[2, 4, 6, 8, 10, 104]"
      ]
     },
     "execution_count": 5,
     "metadata": {},
     "output_type": "execute_result"
    }
   ],
   "source": [
    "l4 = [1,2,3,4,5,52]\n",
    "[i*2 for i in l4 ]"
   ]
  },
  {
   "cell_type": "markdown",
   "id": "9a654f3f-a2c4-49db-9824-3b14190c7ab2",
   "metadata": {},
   "source": [
    "4. Create a Python program that uses the `map()` function to convert a list of names to uppercase."
   ]
  },
  {
   "cell_type": "code",
   "execution_count": 7,
   "id": "761380f2-880a-4b15-a58f-441e32b4784e",
   "metadata": {},
   "outputs": [
    {
     "name": "stdout",
     "output_type": "stream",
     "text": [
      "['HARSH', 'VANSH', 'PWSKILLS']\n"
     ]
    }
   ],
   "source": [
    "l5 = ['harsh','vansh','pwskills']\n",
    "l6 = list(map(lambda a : a.upper() ,l5))\n",
    "print(l6)"
   ]
  },
  {
   "cell_type": "markdown",
   "id": "87f16886-f4af-4749-b298-2d9d7c19a9ad",
   "metadata": {},
   "source": [
    "5. Write a Python program that uses the `map()` function to calculate the length of each word in a\n",
    "list of strings."
   ]
  },
  {
   "cell_type": "code",
   "execution_count": 9,
   "id": "60a6aa32-333a-4dc5-af1b-96d0f5f880be",
   "metadata": {},
   "outputs": [
    {
     "name": "stdout",
     "output_type": "stream",
     "text": [
      "[4, 5, 8]\n"
     ]
    }
   ],
   "source": [
    "l7 = ['sudh','harsh','pwskills']\n",
    "l8 = list(map(lambda a : len(a) , l7))\n",
    "print(l8)"
   ]
  },
  {
   "cell_type": "markdown",
   "id": "34dc1055-554e-4413-9884-cb9805ca8f07",
   "metadata": {},
   "source": [
    "6. How can you use the `map()` function to apply a custom function to elements of multiple lists\n",
    "simultaneously in Python?"
   ]
  },
  {
   "cell_type": "code",
   "execution_count": 16,
   "id": "585cdfe4-4051-41c1-bfa2-5ee8a2d5620e",
   "metadata": {},
   "outputs": [
    {
     "name": "stdout",
     "output_type": "stream",
     "text": [
      "[12, 23, 34, 45]\n"
     ]
    }
   ],
   "source": [
    "l9 = [2,3,4,5]\n",
    "l10 = [10,20,30,40]\n",
    "l11 = list(map(lambda x, y : x+y ,l9,l10))\n",
    "print(l11)"
   ]
  },
  {
   "cell_type": "markdown",
   "id": "fdb5cef6-6800-4298-95ed-c6a4eece218d",
   "metadata": {},
   "source": [
    "7. Create a Python program that uses `map()` to convert a list of temperatures from Celsius to\n",
    "Fahrenheit"
   ]
  },
  {
   "cell_type": "code",
   "execution_count": 19,
   "id": "2150d1a2-c2ce-461b-acbd-67516d0220ec",
   "metadata": {},
   "outputs": [
    {
     "name": "stdout",
     "output_type": "stream",
     "text": [
      "temperature into feranheit : [104.0, 73.4, 109.4, 140.0, 122.0]\n"
     ]
    }
   ],
   "source": [
    "l12 = [40,23,43,60,50]\n",
    "l13 = list(map(lambda a : a*9/5 + 32 , l12))\n",
    "print('temperature into feranheit :', l13)"
   ]
  },
  {
   "cell_type": "markdown",
   "id": "d75ddef7-9dd8-43f3-b861-edfa552d17f3",
   "metadata": {},
   "source": [
    "8. Write a Python program that uses the `map()` function to round each element of a list of\n",
    "floating-point numbers to the nearest integer.\n"
   ]
  },
  {
   "cell_type": "code",
   "execution_count": 23,
   "id": "fa5c017f-7b13-41cd-9600-00dd474630c3",
   "metadata": {},
   "outputs": [
    {
     "name": "stdout",
     "output_type": "stream",
     "text": [
      "[23, 42, 35, 36, 50]\n"
     ]
    }
   ],
   "source": [
    "l14 = [23.4,42.34,35.35,35.536,50.3]\n",
    "l15 = list(map(round ,l14))\n",
    "print(l15)\n",
    "           "
   ]
  },
  {
   "cell_type": "markdown",
   "id": "8ec596d1-b16a-47e8-81c1-134f16fd99ee",
   "metadata": {},
   "source": [
    "Reduce :-"
   ]
  },
  {
   "cell_type": "markdown",
   "id": "6b4f96e0-dced-4792-910f-bd49e9c9d1be",
   "metadata": {},
   "source": [
    "1. What is the `reduce()` function in Python, and what module should you import to use it? Provide\n",
    "an example of its basic usage."
   ]
  },
  {
   "cell_type": "markdown",
   "id": "d3e833a6-5c11-42b7-8863-2cf8901a2c65",
   "metadata": {},
   "source": [
    " reduce() is useful when you need to apply a function to an iterable and reduce it to a single cumulative value.\n",
    " \n",
    " FOR EXAMPE :-"
   ]
  },
  {
   "cell_type": "code",
   "execution_count": 2,
   "id": "4687f41c-a050-45f3-a884-483ea8757bb0",
   "metadata": {},
   "outputs": [],
   "source": [
    "from functools import reduce\n",
    "l = [1,2,3,4,5]"
   ]
  },
  {
   "cell_type": "code",
   "execution_count": 3,
   "id": "ade175f7-8813-4bde-8e54-07bc6c15f723",
   "metadata": {},
   "outputs": [
    {
     "data": {
      "text/plain": [
       "120"
      ]
     },
     "execution_count": 3,
     "metadata": {},
     "output_type": "execute_result"
    }
   ],
   "source": [
    "reduce(lambda a , b : a*b , l)"
   ]
  },
  {
   "cell_type": "markdown",
   "id": "944fec7b-7f6e-4a9f-9d5d-09f0724bb57e",
   "metadata": {},
   "source": [
    "2. Write a Python program that uses the `reduce()` function to find the product of all elements in a\n",
    "list."
   ]
  },
  {
   "cell_type": "code",
   "execution_count": 6,
   "id": "5e0713b2-86a8-4c13-aa6a-3bf042a74362",
   "metadata": {},
   "outputs": [
    {
     "data": {
      "text/plain": [
       "20160"
      ]
     },
     "execution_count": 6,
     "metadata": {},
     "output_type": "execute_result"
    }
   ],
   "source": [
    "l1 = [3,4,5,6,7,8]\n",
    "reduce(lambda a , b : a*b , l1)"
   ]
  },
  {
   "cell_type": "markdown",
   "id": "c98d517b-c578-466e-8bfa-1e86b9e25f1c",
   "metadata": {},
   "source": [
    "3. Create a Python program that uses `reduce()` to find the maximum element in a list of numbers."
   ]
  },
  {
   "cell_type": "code",
   "execution_count": 9,
   "id": "f5a3e4a6-3a04-4586-ab07-dac7230fa924",
   "metadata": {},
   "outputs": [
    {
     "data": {
      "text/plain": [
       "23"
      ]
     },
     "execution_count": 9,
     "metadata": {},
     "output_type": "execute_result"
    }
   ],
   "source": [
    "l2 = [3,4,5,6,7,8,23]\n",
    "reduce(lambda a , b : a if a> b else b , l2)"
   ]
  },
  {
   "cell_type": "markdown",
   "id": "d188c531-1a26-47d4-88e6-c62ab142038a",
   "metadata": {},
   "source": [
    "4. How can you use the `reduce()` function to concatenate a list of strings into a single string?"
   ]
  },
  {
   "cell_type": "code",
   "execution_count": 19,
   "id": "5518798b-18a9-4a2f-b0c1-2a9597d5a345",
   "metadata": {},
   "outputs": [
    {
     "data": {
      "text/plain": [
       "'hello how are you'"
      ]
     },
     "execution_count": 19,
     "metadata": {},
     "output_type": "execute_result"
    }
   ],
   "source": [
    "l3 = ['hello' , 'how' ,'are','you']\n",
    "reduce(lambda a , b : a +' '+ b , l3)"
   ]
  },
  {
   "cell_type": "markdown",
   "id": "8095230a-f82f-440f-8732-0000a303746a",
   "metadata": {},
   "source": [
    "5. Write a Python program that calculates the factorial of a number using the `reduce()` function."
   ]
  },
  {
   "cell_type": "code",
   "execution_count": 126,
   "id": "fb7716ce-2487-4858-9ce7-de91714060d9",
   "metadata": {},
   "outputs": [
    {
     "data": {
      "text/plain": [
       "120"
      ]
     },
     "execution_count": 126,
     "metadata": {},
     "output_type": "execute_result"
    }
   ],
   "source": [
    "n = 5\n",
    "reduce(lambda a , b : a*b , range(1,n+1))\n",
    "    "
   ]
  },
  {
   "cell_type": "markdown",
   "id": "2aed2752-bff1-42ae-9bff-a57fe8a41f49",
   "metadata": {},
   "source": [
    "6. Create a Python program that uses `reduce()` to find the GCD (Greatest Common Divisor) of a list\n",
    "of numbers.\n"
   ]
  },
  {
   "cell_type": "code",
   "execution_count": 124,
   "id": "511194c9-d6e1-4103-a408-5a27075c7501",
   "metadata": {},
   "outputs": [],
   "source": [
    "def fact_l(n , x ):\n",
    "    if x> n:\n",
    "        mn = n\n",
    "    else :\n",
    "        mn = x \n",
    "    for i in range(1,mn+1):\n",
    "        if n % i == 0 and x % i == 0 :\n",
    "            gcd = i \n",
    "    return gcd\n",
    "    "
   ]
  },
  {
   "cell_type": "code",
   "execution_count": 134,
   "id": "a96fb847-b2db-406c-a70a-b60cedad5c20",
   "metadata": {},
   "outputs": [
    {
     "data": {
      "text/plain": [
       "12"
      ]
     },
     "execution_count": 134,
     "metadata": {},
     "output_type": "execute_result"
    }
   ],
   "source": [
    "n3 = [24, 36, 48, 60, 72]\n",
    "reduce(fact_l , n3 )"
   ]
  },
  {
   "cell_type": "markdown",
   "id": "913cef03-2640-4f06-9696-9a181dea63d8",
   "metadata": {},
   "source": [
    "7. Write a Python program that uses the `reduce()` function to find the sum of the digits of a given\n",
    "number"
   ]
  },
  {
   "cell_type": "code",
   "execution_count": 135,
   "id": "88dde627-b6c1-4ac5-83fd-6e9e7701ae98",
   "metadata": {},
   "outputs": [
    {
     "data": {
      "text/plain": [
       "45"
      ]
     },
     "execution_count": 135,
     "metadata": {},
     "output_type": "execute_result"
    }
   ],
   "source": [
    "l5 = [1,2,3,4,5,6,7,8,9]\n",
    "reduce(lambda a , b  : a+b , l5)"
   ]
  },
  {
   "cell_type": "markdown",
   "id": "55dc89b4-f997-4ad7-9b35-89b6001b0570",
   "metadata": {},
   "source": [
    "Filter :-\n",
    "\n",
    "\n",
    "1. Explain the purpose of the `filter()` function in Python and provide an example of how it can be\n",
    "used to filter elements from an iterable."
   ]
  },
  {
   "cell_type": "markdown",
   "id": "5441fd0c-4b9e-47f0-86e7-3b3f7981b571",
   "metadata": {},
   "source": [
    "The filter() function in Python is used to filter elements from an iterable (e.g., a list, tuple, or any iterable object) based on a specified condition. It returns a new iterable containing only the elements for which the condition evaluates to True. \n",
    "\n",
    "FOR EXAMPLE :-"
   ]
  },
  {
   "cell_type": "code",
   "execution_count": 3,
   "id": "a8f18d24-2366-4589-942f-5f3716a1e8df",
   "metadata": {},
   "outputs": [
    {
     "data": {
      "text/plain": [
       "[2, 4, 6, 8]"
      ]
     },
     "execution_count": 3,
     "metadata": {},
     "output_type": "execute_result"
    }
   ],
   "source": [
    "l = [1,2,3,4,5,6,7,8]\n",
    "list(filter(lambda a : a%2 == 0 , l))"
   ]
  },
  {
   "cell_type": "markdown",
   "id": "edd9b033-a6ad-46e2-a4a7-636b3d255589",
   "metadata": {},
   "source": [
    "2. Write a Python program that uses the `filter()` function to select even numbers from a list of\n",
    "integers."
   ]
  },
  {
   "cell_type": "code",
   "execution_count": 4,
   "id": "0a3da61f-8669-4bba-9ea1-ed5cbcf6ba2d",
   "metadata": {},
   "outputs": [
    {
     "data": {
      "text/plain": [
       "[3, 55, 7]"
      ]
     },
     "execution_count": 4,
     "metadata": {},
     "output_type": "execute_result"
    }
   ],
   "source": [
    "l = [2,3,4,55,66,7,8]\n",
    "list(filter(lambda a : a%2 != 0, l))"
   ]
  },
  {
   "cell_type": "markdown",
   "id": "d910fc04-c3ea-4937-8a29-621f5df579ad",
   "metadata": {},
   "source": [
    "3. Create a Python program that uses the `filter()` function to select names that start with a specific\n",
    "letter from a list of strings"
   ]
  },
  {
   "cell_type": "code",
   "execution_count": 7,
   "id": "1d37eaf9-f888-46d6-9b98-77b2380267cc",
   "metadata": {},
   "outputs": [
    {
     "data": {
      "text/plain": [
       "['harsh', 'hrithik']"
      ]
     },
     "execution_count": 7,
     "metadata": {},
     "output_type": "execute_result"
    }
   ],
   "source": [
    "l2 = ['harsh','hrithik','subham','sudh']\n",
    "list(filter(lambda a : a.startswith('h') , l2))"
   ]
  },
  {
   "cell_type": "markdown",
   "id": "d176d68d-b4c9-402a-90dd-014279494975",
   "metadata": {},
   "source": [
    "4. Write a Python program that uses the `filter()` function to select prime numbers from a list of\n",
    "integers."
   ]
  },
  {
   "cell_type": "code",
   "execution_count": null,
   "id": "8b7034f2-6592-4bbc-8adc-535d4d647498",
   "metadata": {},
   "outputs": [],
   "source": []
  },
  {
   "cell_type": "markdown",
   "id": "e833a869-7df1-4e02-b2bb-e3306c2b6196",
   "metadata": {},
   "source": [
    "5. How can you use the `filter()` function to remove None values from a list in Python?"
   ]
  },
  {
   "cell_type": "code",
   "execution_count": 38,
   "id": "9412bf0c-c0be-4f0a-ae49-7354cc04f590",
   "metadata": {},
   "outputs": [
    {
     "data": {
      "text/plain": [
       "[1, 3, 34]"
      ]
     },
     "execution_count": 38,
     "metadata": {},
     "output_type": "execute_result"
    }
   ],
   "source": [
    "l5 = [1,None , 3 ,34,None]\n",
    "list(filter(lambda a : a is not None , l5))"
   ]
  },
  {
   "cell_type": "markdown",
   "id": "68751546-5f70-4f0c-b8f5-d8f80a032fbb",
   "metadata": {},
   "source": [
    "6. Create a Python program that uses `filter()` to select words longer than a certain length from a\n",
    "list of strings"
   ]
  },
  {
   "cell_type": "code",
   "execution_count": 44,
   "id": "f968be5b-bdef-4cc6-a113-b7729bf84e47",
   "metadata": {},
   "outputs": [
    {
     "data": {
      "text/plain": [
       "['pwskills', 'harsh']"
      ]
     },
     "execution_count": 44,
     "metadata": {},
     "output_type": "execute_result"
    }
   ],
   "source": [
    "l6 = ['pw', 'pwskills','sudh','harsh']\n",
    "list(filter(lambda a : a if len(a) > 4 else None , l6))"
   ]
  },
  {
   "cell_type": "markdown",
   "id": "2a175d07-8c1b-41ec-9da6-4aba8c8b0480",
   "metadata": {},
   "source": [
    "7. Write a Python program that uses the `filter()` function to select elements greater than a\n",
    "specified threshold from a list of values.\n"
   ]
  },
  {
   "cell_type": "code",
   "execution_count": 48,
   "id": "80bc0ed6-8c06-4f55-9335-a7feb854af1b",
   "metadata": {},
   "outputs": [
    {
     "data": {
      "text/plain": [
       "[21, 23, 45, 66]"
      ]
     },
     "execution_count": 48,
     "metadata": {},
     "output_type": "execute_result"
    }
   ],
   "source": [
    "l7  = [21,23,45,66,12,10,12,11]\n",
    "threshold = 20\n",
    "list(filter(lambda a : a if a > threshold else None , l7))\n"
   ]
  },
  {
   "cell_type": "markdown",
   "id": "fc6b4c8f-d87d-48c8-a435-986fbbee0697",
   "metadata": {},
   "source": [
    "Recursion:-\n"
   ]
  },
  {
   "cell_type": "markdown",
   "id": "a38436a5-902a-4a5b-b66a-d89bc0c4678f",
   "metadata": {},
   "source": [
    "1. Explain the concept of recursion in Python. How does it differ from iteration?\n"
   ]
  },
  {
   "cell_type": "markdown",
   "id": "589ab880-2760-4fa2-a142-5051bc2512f3",
   "metadata": {},
   "source": [
    "Recursion is a programming technique where a function calls itself in order to solve a problem. In Python, a recursive function is a function that, in its definition, refers to itself. "
   ]
  },
  {
   "cell_type": "markdown",
   "id": "64a47603-3778-47bc-a2b0-fe011c95be45",
   "metadata": {},
   "source": [
    "Iteration: Iteration uses loops like for or while, where control flow is explicitly managed by the loop structure."
   ]
  },
  {
   "cell_type": "markdown",
   "id": "13c93585-a2b0-4d50-b8d2-9a41523a960c",
   "metadata": {},
   "source": [
    "2. Write a Python program to calculate the factorial of a number using recursion.\n"
   ]
  },
  {
   "cell_type": "code",
   "execution_count": 2,
   "id": "d937f31b-4fea-4e0a-afbe-5d6d7fabd732",
   "metadata": {},
   "outputs": [],
   "source": [
    "def fact(n):\n",
    "    if n <= 1 :\n",
    "        return 1\n",
    "    else :\n",
    "        return n * fact(n-1)"
   ]
  },
  {
   "cell_type": "code",
   "execution_count": 3,
   "id": "912229d2-24b6-45c2-af67-48b5d9d130ba",
   "metadata": {},
   "outputs": [
    {
     "data": {
      "text/plain": [
       "120"
      ]
     },
     "execution_count": 3,
     "metadata": {},
     "output_type": "execute_result"
    }
   ],
   "source": [
    "fact(5)"
   ]
  },
  {
   "cell_type": "markdown",
   "id": "2600e141-a4eb-4201-be2f-7b3e2e3b7df5",
   "metadata": {},
   "source": [
    "3. Create a recursive Python function to find the nth Fibonacci number.\n"
   ]
  },
  {
   "cell_type": "code",
   "execution_count": 4,
   "id": "725ec1ce-c239-4f4f-9a08-2d6884071603",
   "metadata": {},
   "outputs": [],
   "source": [
    "def fib_n(n):\n",
    "    if n <= 1 :\n",
    "        return 1\n",
    "    else:\n",
    "        return fib_n(n-2) + fib_n(n-1)"
   ]
  },
  {
   "cell_type": "code",
   "execution_count": 9,
   "id": "494cd1ac-caf8-4dfd-bddb-c41b4f12e270",
   "metadata": {},
   "outputs": [
    {
     "data": {
      "text/plain": [
       "5"
      ]
     },
     "execution_count": 9,
     "metadata": {},
     "output_type": "execute_result"
    }
   ],
   "source": [
    "fib_n(4)"
   ]
  },
  {
   "cell_type": "markdown",
   "id": "e505af35-c96b-427d-93f5-430e40e4e54f",
   "metadata": {},
   "source": [
    "4. Write a recursive Python function to calculate the sum of all elements in a list."
   ]
  },
  {
   "cell_type": "code",
   "execution_count": 14,
   "id": "c9b625a2-ad04-4db7-904d-2a09b1ee62d8",
   "metadata": {},
   "outputs": [],
   "source": [
    "def sum_l(n):\n",
    "    if not n :\n",
    "        return 0\n",
    "    else :\n",
    "        return n[0] + sum_l(n[1:])"
   ]
  },
  {
   "cell_type": "code",
   "execution_count": 15,
   "id": "e6f40b9f-02fa-4ecf-96ff-9570219c5ef8",
   "metadata": {},
   "outputs": [
    {
     "data": {
      "text/plain": [
       "21"
      ]
     },
     "execution_count": 15,
     "metadata": {},
     "output_type": "execute_result"
    }
   ],
   "source": [
    "sum_l([1,2,3,4,5,6])"
   ]
  },
  {
   "cell_type": "markdown",
   "id": "0cc4939b-7589-416c-a464-7d6a3dcaf801",
   "metadata": {},
   "source": [
    "5. How can you prevent a recursive function from running indefinitely, causing a stack overflow\n",
    "error?\n"
   ]
  },
  {
   "cell_type": "code",
   "execution_count": null,
   "id": "7afa8f35-3d7f-4e31-801e-65938bba6888",
   "metadata": {},
   "outputs": [],
   "source": []
  },
  {
   "cell_type": "markdown",
   "id": "31772c25-429f-44b5-8eb7-2fefe42c6671",
   "metadata": {},
   "source": [
    "6. Create a recursive Python function to find the greatest common divisor (GCD) of two numbers\n",
    "using the Euclidean algorithm"
   ]
  },
  {
   "cell_type": "code",
   "execution_count": 17,
   "id": "38c9cdaf-088a-469a-b986-80edd4832db1",
   "metadata": {},
   "outputs": [
    {
     "name": "stdout",
     "output_type": "stream",
     "text": [
      "The GCD of 42 and 56 is 14\n"
     ]
    }
   ],
   "source": [
    "def gcd(a, b):\n",
    "    if b == 0:\n",
    "        return a  # Base case: GCD(a, 0) = a\n",
    "    else:\n",
    "        return gcd(b, a % b)  # Recursive case: GCD(a, b) = GCD(b, a % b)\n",
    "\n",
    "# Example usage:\n",
    "num1 = 42\n",
    "num2 = 56\n",
    "result = gcd(num1, num2)\n",
    "print(f\"The GCD of {num1} and {num2} is {result}\")\n"
   ]
  },
  {
   "cell_type": "markdown",
   "id": "62c11ab1-eb32-43c5-8b69-cd77b47d0c8e",
   "metadata": {},
   "source": [
    "7. Write a recursive Python function to reverse a string."
   ]
  },
  {
   "cell_type": "code",
   "execution_count": 22,
   "id": "6a3b25b0-180a-4eab-97cf-6413d726b6e5",
   "metadata": {},
   "outputs": [],
   "source": [
    "def reverse(n):\n",
    "    if len(n) == 1:\n",
    "        return n\n",
    "    else:\n",
    "        return reverse(n[1:]) + n[0]"
   ]
  },
  {
   "cell_type": "code",
   "execution_count": 24,
   "id": "ee09f7ff-0314-424d-9a62-d2c13241ac47",
   "metadata": {},
   "outputs": [
    {
     "data": {
      "text/plain": [
       "'hsrah'"
      ]
     },
     "execution_count": 24,
     "metadata": {},
     "output_type": "execute_result"
    }
   ],
   "source": [
    "reverse('harsh')"
   ]
  },
  {
   "cell_type": "markdown",
   "id": "fb4ab96c-ace4-4d7c-91dd-ac023a006230",
   "metadata": {},
   "source": [
    "8. Create a recursive Python function to calculate the power of a number (x^n)"
   ]
  },
  {
   "cell_type": "code",
   "execution_count": 1,
   "id": "8554d1dc-dcfa-4dbd-8a1b-bcb3700f53ec",
   "metadata": {},
   "outputs": [],
   "source": [
    "def power(n,x):\n",
    "    if x == 1 :\n",
    "        return n \n",
    "    else :\n",
    "        return n**x "
   ]
  },
  {
   "cell_type": "code",
   "execution_count": 4,
   "id": "67b8fff7-ee0b-44b7-a696-6bdc977c0425",
   "metadata": {},
   "outputs": [
    {
     "data": {
      "text/plain": [
       "32"
      ]
     },
     "execution_count": 4,
     "metadata": {},
     "output_type": "execute_result"
    }
   ],
   "source": [
    "power(2,5)"
   ]
  },
  {
   "cell_type": "markdown",
   "id": "b13801a5-dd7c-4b3b-97ae-72acefcc9f21",
   "metadata": {},
   "source": [
    "9. Write a recursive Python function to find all permutations of a given string.\n"
   ]
  },
  {
   "cell_type": "code",
   "execution_count": null,
   "id": "db623b81-7e40-44d9-a4cf-16da5dc40558",
   "metadata": {},
   "outputs": [],
   "source": []
  },
  {
   "cell_type": "markdown",
   "id": "74e73661-152a-4a42-9809-2dd834434a6e",
   "metadata": {},
   "source": [
    "10. Write a recursive Python function to check if a string is a palindrome."
   ]
  },
  {
   "cell_type": "code",
   "execution_count": 35,
   "id": "c190e2b9-d9f2-423a-a078-847831c690b2",
   "metadata": {},
   "outputs": [],
   "source": [
    "def check_palindrome(n):\n",
    "    if len(n) == 1:\n",
    "        return  n\n",
    "    else:\n",
    "        return  check_palindrome(n[1:]) + n[0]"
   ]
  },
  {
   "cell_type": "code",
   "execution_count": 33,
   "id": "f6598de9-f3d5-45ed-b4d4-fdf04122b9eb",
   "metadata": {},
   "outputs": [
    {
     "data": {
      "text/plain": [
       "'madam'"
      ]
     },
     "execution_count": 33,
     "metadata": {},
     "output_type": "execute_result"
    }
   ],
   "source": [
    "check_palindrome('madam')"
   ]
  },
  {
   "cell_type": "markdown",
   "id": "c0606eaa-acdf-40e0-849f-1e7e6bb52d17",
   "metadata": {},
   "source": [
    "11. Create a recursive Python function to generate all possible combinations of a list of elements.\n",
    "\n"
   ]
  },
  {
   "cell_type": "code",
   "execution_count": null,
   "id": "7c5b2728-ca51-4af3-b930-abdb5aeaefd9",
   "metadata": {},
   "outputs": [],
   "source": []
  },
  {
   "cell_type": "markdown",
   "id": "d170a7ad-0862-46c8-9659-d0755fa2686b",
   "metadata": {},
   "source": [
    "Basics of Functions:"
   ]
  },
  {
   "cell_type": "markdown",
   "id": "5a72a488-d096-4d67-bf0e-0a3a04a91a98",
   "metadata": {},
   "source": [
    "1. What is a function in Python, and why is it used?\n"
   ]
  },
  {
   "cell_type": "markdown",
   "id": "211c35d7-1889-43f5-8016-6e18197b6950",
   "metadata": {},
   "source": [
    "A function in Python is a reusable block of code that performs a specific task or set of tasks. It's a fundamental concept in programming and serves several important purposes:"
   ]
  },
  {
   "cell_type": "markdown",
   "id": "55e810d3-1462-4c03-8ff3-cc836e535340",
   "metadata": {},
   "source": [
    "Reusability: Once you define a function, you can use it multiple times throughout your program. This promotes code reuse, reduces redundancy, and simplifies maintenance. You don't need to rewrite the same code for similar tasks; you can simply call the function.\n",
    "\n",
    "For example :-"
   ]
  },
  {
   "cell_type": "code",
   "execution_count": 37,
   "id": "14c41d1a-4673-49eb-99b8-f3e79509ed7e",
   "metadata": {},
   "outputs": [],
   "source": [
    "def plus(n,m):\n",
    "    c = n + m \n",
    "    return c"
   ]
  },
  {
   "cell_type": "code",
   "execution_count": 38,
   "id": "b1f90180-d20a-43a0-8d7d-cc9b32991973",
   "metadata": {},
   "outputs": [
    {
     "data": {
      "text/plain": [
       "11"
      ]
     },
     "execution_count": 38,
     "metadata": {},
     "output_type": "execute_result"
    }
   ],
   "source": [
    "plus(5,6)"
   ]
  },
  {
   "cell_type": "markdown",
   "id": "762b9006-91f1-41db-b8bd-df50b92a09d8",
   "metadata": {},
   "source": [
    "2. How do you define a function in Python? Provide an example.\n"
   ]
  },
  {
   "cell_type": "markdown",
   "id": "3b72b320-685d-401e-a1fc-f5a37317b4f1",
   "metadata": {},
   "source": [
    "In python def is a inbuilt keyword for to create a function. you need to give a name of the function after that you have write the condition for function for how the function will work. the conditions is known as the body of the functions.\n",
    "\n",
    "For Example:-"
   ]
  },
  {
   "cell_type": "code",
   "execution_count": 41,
   "id": "7e9786a3-466d-4fa0-876f-04d37651dee7",
   "metadata": {},
   "outputs": [],
   "source": [
    "def square(number):\n",
    "    \"\"\"This function calculates the square of a number.\"\"\"\n",
    "    result = number ** 2\n",
    "    return result\n"
   ]
  },
  {
   "cell_type": "code",
   "execution_count": 42,
   "id": "d133c891-5bfe-41d3-87fb-50a3d474141d",
   "metadata": {},
   "outputs": [
    {
     "data": {
      "text/plain": [
       "25"
      ]
     },
     "execution_count": 42,
     "metadata": {},
     "output_type": "execute_result"
    }
   ],
   "source": [
    "square(5)"
   ]
  },
  {
   "cell_type": "markdown",
   "id": "7d9f9784-06de-4074-aee1-60b45d801ce2",
   "metadata": {},
   "source": [
    "3. Explain the difference between a function definition and a function call.\n"
   ]
  },
  {
   "cell_type": "markdown",
   "id": "0f966712-1098-42fd-95d7-b8ee640bcb06",
   "metadata": {},
   "source": [
    "A function definition is the process of creating and specifying the behavior of a function.\n",
    "It involves using the def keyword followed by the function name, parameter list (if any), a colon :, and an indented block of code that makes up the function body.\n",
    "The function definition determines what the function does and how it behaves when called."
   ]
  },
  {
   "cell_type": "code",
   "execution_count": 44,
   "id": "0917fc0a-3f9c-44f8-a283-bbfdf7c82a08",
   "metadata": {},
   "outputs": [],
   "source": [
    "def add(a, b):\n",
    "    \"\"\"This function adds two numbers.\"\"\"\n",
    "    result = a + b\n",
    "    return result\n"
   ]
  },
  {
   "cell_type": "markdown",
   "id": "6a25ab79-93c3-4933-a320-a4e2940ed4c3",
   "metadata": {},
   "source": [
    "Function Call:\n",
    "\n",
    "A function call is the process of actually using a defined function in your code to perform a specific task or computation."
   ]
  },
  {
   "cell_type": "code",
   "execution_count": 46,
   "id": "f909cedb-8f1a-427d-a3f5-ba6fd1d25734",
   "metadata": {},
   "outputs": [
    {
     "data": {
      "text/plain": [
       "8"
      ]
     },
     "execution_count": 46,
     "metadata": {},
     "output_type": "execute_result"
    }
   ],
   "source": [
    "add(5, 3)\n"
   ]
  },
  {
   "cell_type": "markdown",
   "id": "67e06a5d-0e09-4f3b-a803-89281afef494",
   "metadata": {},
   "source": [
    "4. Write a Python program that defines a function to calculate the sum of two numbers and then\n",
    "calls the function."
   ]
  },
  {
   "cell_type": "code",
   "execution_count": 47,
   "id": "7816d68a-1d86-4f78-a288-40f6a7d754d2",
   "metadata": {},
   "outputs": [],
   "source": [
    "def sum_(a,b):\n",
    "    return a + b"
   ]
  },
  {
   "cell_type": "code",
   "execution_count": 48,
   "id": "17527f90-c53c-4eab-825e-b383a8a129bb",
   "metadata": {},
   "outputs": [
    {
     "data": {
      "text/plain": [
       "11"
      ]
     },
     "execution_count": 48,
     "metadata": {},
     "output_type": "execute_result"
    }
   ],
   "source": [
    "sum_(5,6)"
   ]
  },
  {
   "cell_type": "markdown",
   "id": "10dd26e9-eeda-40f7-8d08-6e4bd41add32",
   "metadata": {},
   "source": [
    "5. What is a function signature, and what information does it typically include?"
   ]
  },
  {
   "cell_type": "code",
   "execution_count": null,
   "id": "5d1508be-e921-4cd4-b4fb-5a2b1557a4fb",
   "metadata": {},
   "outputs": [],
   "source": []
  },
  {
   "cell_type": "markdown",
   "id": "016fe669-22fb-4117-be86-cf3cb9ea9f83",
   "metadata": {},
   "source": [
    "6. Create a Python function that takes two arguments and returns their product.\n"
   ]
  },
  {
   "cell_type": "code",
   "execution_count": 1,
   "id": "5dde6f69-28eb-49a6-bdb4-da7ef5f7a278",
   "metadata": {},
   "outputs": [],
   "source": [
    "def product(n,m):\n",
    "    return n*m"
   ]
  },
  {
   "cell_type": "code",
   "execution_count": 2,
   "id": "e6c1dbb0-aa49-431a-b00c-82a64003651e",
   "metadata": {},
   "outputs": [
    {
     "data": {
      "text/plain": [
       "8"
      ]
     },
     "execution_count": 2,
     "metadata": {},
     "output_type": "execute_result"
    }
   ],
   "source": [
    "product(2,4)"
   ]
  },
  {
   "cell_type": "markdown",
   "id": "d279d670-2b49-4840-ae81-2e2a263857f4",
   "metadata": {},
   "source": [
    "Function Parameters and Arguments:"
   ]
  },
  {
   "cell_type": "markdown",
   "id": "09f0eda9-bb03-4b6d-ae5d-01f7b12f5d0e",
   "metadata": {},
   "source": [
    "1. Explain the concepts of formal parameters and actual arguments in Python functions.\n"
   ]
  },
  {
   "cell_type": "markdown",
   "id": "94cdf274-ccb2-4f48-816f-20bd2493a427",
   "metadata": {},
   "source": [
    "Formal Parameters:\n",
    "\n",
    "Formal parameters are used to define the function's interface and specify the types and order of arguments it can accept."
   ]
  },
  {
   "cell_type": "code",
   "execution_count": null,
   "id": "54fec3fa-e818-47fa-bad4-7c5afc3188ba",
   "metadata": {},
   "outputs": [],
   "source": [
    "def add(x,y):\n",
    "    return x+y"
   ]
  },
  {
   "cell_type": "markdown",
   "id": "22a65a7e-e004-4f94-8c6a-cb683fac6a91",
   "metadata": {},
   "source": [
    "In this example, x and y are formal parameters. When you call this function, you need to provide actual arguments for x and y."
   ]
  },
  {
   "cell_type": "markdown",
   "id": "ed8997df-8f15-4cff-a402-ff1fa07ff488",
   "metadata": {},
   "source": [
    "Actual Arguments:\n",
    "\n",
    "Actual arguments, often simply referred to as arguments, are the values that you provide when calling a function. These values are assigned to the formal parameters of the function during the function call."
   ]
  },
  {
   "cell_type": "markdown",
   "id": "734d445f-eac9-46a1-a4e9-4f8af5b5f597",
   "metadata": {},
   "source": [
    "2. Write a Python program that defines a function with default argument values.\n"
   ]
  },
  {
   "cell_type": "code",
   "execution_count": 2,
   "id": "c0679ed0-df7a-4939-b06b-11971e9d29a7",
   "metadata": {},
   "outputs": [],
   "source": [
    "def square(x,y=2):\n",
    "    return x**y"
   ]
  },
  {
   "cell_type": "code",
   "execution_count": 3,
   "id": "c1787f80-e270-4869-8116-09ef800c5081",
   "metadata": {},
   "outputs": [
    {
     "data": {
      "text/plain": [
       "4"
      ]
     },
     "execution_count": 3,
     "metadata": {},
     "output_type": "execute_result"
    }
   ],
   "source": [
    "square(2)"
   ]
  },
  {
   "cell_type": "markdown",
   "id": "e668973b-ec51-402d-808f-4d505e114b00",
   "metadata": {},
   "source": [
    "3. How do you use keyword arguments in Python function calls? Provide an example.\n"
   ]
  },
  {
   "cell_type": "markdown",
   "id": "19ee043b-ac8e-445c-943a-9fe069be997b",
   "metadata": {},
   "source": [
    "To use keyword arguments in a function call, you specify the parameter name followed by an equal sign (=) and the value you want to pass.\n",
    "\n",
    "For Example:-"
   ]
  },
  {
   "cell_type": "code",
   "execution_count": 22,
   "id": "c8853a21-bb3e-46f7-a3cf-0e6a3715762d",
   "metadata": {},
   "outputs": [],
   "source": [
    "def display(name,age ,city):\n",
    "    print(f'Name :{name}')\n",
    "    print(f'Age : {age}')\n",
    "    print(f'City : {city}')"
   ]
  },
  {
   "cell_type": "code",
   "execution_count": 23,
   "id": "00fa108c-de46-4de2-b5e0-084a939166df",
   "metadata": {},
   "outputs": [
    {
     "name": "stdout",
     "output_type": "stream",
     "text": [
      "Name :harshit\n",
      "Age : 19\n",
      "City : delhi\n"
     ]
    }
   ],
   "source": [
    "display(name = 'harshit',age = 19 , city = 'delhi')"
   ]
  },
  {
   "cell_type": "markdown",
   "id": "985b2c8a-a8da-4c8d-8b64-8814c9cd53d4",
   "metadata": {},
   "source": [
    "4. Create a Python function that accepts a variable number of arguments and calculates their sum.\n"
   ]
  },
  {
   "cell_type": "code",
   "execution_count": 24,
   "id": "dbf37b7e-d985-4f2e-aeaf-1b1ef5104344",
   "metadata": {},
   "outputs": [],
   "source": [
    "def sum_all(*args):\n",
    "    return sum(args)"
   ]
  },
  {
   "cell_type": "code",
   "execution_count": 25,
   "id": "617b87f7-53bb-47b9-a455-bdd95c134251",
   "metadata": {},
   "outputs": [
    {
     "data": {
      "text/plain": [
       "15"
      ]
     },
     "execution_count": 25,
     "metadata": {},
     "output_type": "execute_result"
    }
   ],
   "source": [
    "sum_all(1,2,3,4,5)"
   ]
  },
  {
   "cell_type": "markdown",
   "id": "b3cebb1f-0242-4476-86af-8ba6c91b6357",
   "metadata": {},
   "source": [
    "5. What is the purpose of the `*args` and `**kwargs` syntax in function parameter lists?\n"
   ]
  },
  {
   "cell_type": "markdown",
   "id": "e381f933-eba4-4c38-ace0-faae7f89629f",
   "metadata": {},
   "source": [
    "*args = its is a syntax for function programe where if you want to pass any number of agruments. just because of using this.\n",
    "with this you can give any number of argument without even passing the variable"
   ]
  },
  {
   "cell_type": "code",
   "execution_count": 26,
   "id": "da6d32ac-b6df-4d8a-bd7e-4ae0259a2a83",
   "metadata": {},
   "outputs": [
    {
     "name": "stdout",
     "output_type": "stream",
     "text": [
      "15\n"
     ]
    }
   ],
   "source": [
    "def add_numbers(*args):\n",
    "    result = 0\n",
    "    for num in args:\n",
    "        result += num\n",
    "    return result\n",
    "\n",
    "total = add_numbers(1, 2, 3, 4, 5)\n",
    "print(total) \n"
   ]
  },
  {
   "cell_type": "markdown",
   "id": "c616c9a5-1643-4535-9888-4bc3c204061f",
   "metadata": {},
   "source": [
    "**kwargs =it is a similar concept, but it allows you to pass a variable number of keyword arguments (key-value pairs) to a function."
   ]
  },
  {
   "cell_type": "code",
   "execution_count": 87,
   "id": "c46939c5-91f6-4857-b6ea-b6c44dbf2d81",
   "metadata": {},
   "outputs": [],
   "source": [
    "def dic(**kwargs):\n",
    "    return kwargs\n",
    "    "
   ]
  },
  {
   "cell_type": "code",
   "execution_count": 90,
   "id": "6347bc74-9551-4a73-a88e-8cc0e0dc9001",
   "metadata": {},
   "outputs": [
    {
     "data": {
      "text/plain": [
       "{'name': 'harshit', 'college': 'DU', 'skills': 'data science'}"
      ]
     },
     "execution_count": 90,
     "metadata": {},
     "output_type": "execute_result"
    }
   ],
   "source": [
    "dic(name = 'harshit', college = 'DU' , skills= 'data science')"
   ]
  },
  {
   "cell_type": "markdown",
   "id": "2703de63-1e1c-48e6-8cc7-e18d2fcc3dde",
   "metadata": {},
   "source": [
    "Return Values and Scoping:\n"
   ]
  },
  {
   "cell_type": "markdown",
   "id": "98e9cf6e-161f-4814-88db-00a2a19ce4d2",
   "metadata": {},
   "source": [
    "1. Describe the role of the `return` statement in Python functions and provide examples.\n"
   ]
  },
  {
   "cell_type": "markdown",
   "id": "0f70a278-d22b-411a-93c7-c5b78a62d675",
   "metadata": {},
   "source": [
    "You can use the return statement to return a single value from a function.\n",
    "Once the return statement is executed, the function terminates, and the returned value is passed back to the caller."
   ]
  },
  {
   "cell_type": "code",
   "execution_count": 91,
   "id": "d94d29e8-64a4-424d-88d7-56c7087c950e",
   "metadata": {},
   "outputs": [],
   "source": [
    "def sum(a,b):\n",
    "    return a+b"
   ]
  },
  {
   "cell_type": "code",
   "execution_count": 92,
   "id": "aaa5d067-5c3d-49fe-92bb-7bf21a93696e",
   "metadata": {},
   "outputs": [
    {
     "data": {
      "text/plain": [
       "4"
      ]
     },
     "execution_count": 92,
     "metadata": {},
     "output_type": "execute_result"
    }
   ],
   "source": [
    "sum(1,3)"
   ]
  },
  {
   "cell_type": "markdown",
   "id": "ad5b6bc9-4ef7-493d-b2e6-1fd3c045bd38",
   "metadata": {},
   "source": [
    "2. Explain the concept of variable scope in Python, including local and global variables.\n"
   ]
  },
  {
   "cell_type": "markdown",
   "id": "1ccda106-d986-4e9b-86cf-0aab5c2c3a30",
   "metadata": {},
   "source": [
    "Local Variables:\n",
    "\n",
    "Local variables are defined within a specific function or block of code.\n",
    "They are only accessible and visible within the function or block in which they are defined.\n",
    "Local variables have a limited lifespan, and they are created when the function is called and destroyed when the function exits."
   ]
  },
  {
   "cell_type": "code",
   "execution_count": 94,
   "id": "f85f264c-aadc-4c04-8939-8da4b370bd7e",
   "metadata": {},
   "outputs": [
    {
     "name": "stdout",
     "output_type": "stream",
     "text": [
      "10\n"
     ]
    }
   ],
   "source": [
    "def my_function():\n",
    "    x = 10  \n",
    "    print(x)\n",
    "\n",
    "my_function()\n"
   ]
  },
  {
   "cell_type": "markdown",
   "id": "db995658-5e20-419d-b4bf-f7156f65d275",
   "metadata": {},
   "source": [
    "Global Variables:\n",
    "\n",
    "Global variables are defined in the main program body or at the module level (outside of any function).\n",
    "They are accessible from anywhere within the program, including functions."
   ]
  },
  {
   "cell_type": "code",
   "execution_count": 97,
   "id": "68818576-321a-4e89-9869-15fe4af32134",
   "metadata": {},
   "outputs": [
    {
     "name": "stdout",
     "output_type": "stream",
     "text": [
      "20\n"
     ]
    }
   ],
   "source": [
    "y = 20  # This is a global variable\n",
    "\n",
    "def my_function():\n",
    "    print(y)  # Accessing the global variable\n",
    "\n",
    "my_function()\n"
   ]
  },
  {
   "cell_type": "markdown",
   "id": "b31af59c-8eea-4af2-be8b-f57415e24459",
   "metadata": {},
   "source": [
    "4. Create a Python function that calculates the factorial of a number and returns it.\n"
   ]
  },
  {
   "cell_type": "code",
   "execution_count": 1,
   "id": "a237e3d4-e095-45ec-8c01-5c0b379ac6b6",
   "metadata": {},
   "outputs": [],
   "source": [
    "def fact_n(n):\n",
    "    a = 1 \n",
    "    for i in range(1,n+1):\n",
    "        a = i*a\n",
    "    return a "
   ]
  },
  {
   "cell_type": "code",
   "execution_count": 4,
   "id": "e4273003-64d5-4dfb-a87b-6224bce0de14",
   "metadata": {},
   "outputs": [
    {
     "data": {
      "text/plain": [
       "120"
      ]
     },
     "execution_count": 4,
     "metadata": {},
     "output_type": "execute_result"
    }
   ],
   "source": [
    "fact_n(5)"
   ]
  },
  {
   "cell_type": "markdown",
   "id": "25d07543-a05c-4948-9d07-a7f438c1aea6",
   "metadata": {},
   "source": [
    "5. How can you access variables defined outside a function from within the function?\n"
   ]
  },
  {
   "cell_type": "code",
   "execution_count": 7,
   "id": "c9c4c788-b209-496c-b0b1-69ae5c3c09f1",
   "metadata": {},
   "outputs": [],
   "source": [
    "greet ='Hello its nice to meet you'\n",
    "\n",
    "def greeting():\n",
    "    return greet"
   ]
  },
  {
   "cell_type": "code",
   "execution_count": 8,
   "id": "45ab42f6-5316-4424-b664-4366db7c2d29",
   "metadata": {},
   "outputs": [
    {
     "data": {
      "text/plain": [
       "'Hello its nice to meet you'"
      ]
     },
     "execution_count": 8,
     "metadata": {},
     "output_type": "execute_result"
    }
   ],
   "source": [
    "greeting()"
   ]
  },
  {
   "cell_type": "markdown",
   "id": "6636c2d2-1fd6-4241-9c93-69887062e04b",
   "metadata": {},
   "source": [
    "Lambda Functions and Higher-Order Functions:\n"
   ]
  },
  {
   "cell_type": "markdown",
   "id": "23c28208-1812-4915-82fb-bec705c66974",
   "metadata": {},
   "source": [
    "1. What are lambda functions in Python, and when are they typically used?\n"
   ]
  },
  {
   "cell_type": "markdown",
   "id": "bcd9d0e6-dbc6-4ada-812a-362436f26731",
   "metadata": {},
   "source": [
    "Lambda functions, also known as anonymous functions .  and one-line functions without the need to define them using the def keyword. Lambda functions are typically used when you need a simple function for a short, specific task, and you don't want to define a separate named function."
   ]
  },
  {
   "cell_type": "code",
   "execution_count": 9,
   "id": "7c4960e1-e517-4a9d-8483-61e066d4bea2",
   "metadata": {},
   "outputs": [],
   "source": [
    "add = lambda a , b : a+b"
   ]
  },
  {
   "cell_type": "code",
   "execution_count": 10,
   "id": "1386d5ae-2f65-4003-85f2-54f1f9a1f690",
   "metadata": {},
   "outputs": [
    {
     "data": {
      "text/plain": [
       "11"
      ]
     },
     "execution_count": 10,
     "metadata": {},
     "output_type": "execute_result"
    }
   ],
   "source": [
    "add(5,6)"
   ]
  },
  {
   "cell_type": "markdown",
   "id": "5337ccc7-cbfd-4179-9a78-fc45dbf658a7",
   "metadata": {},
   "source": [
    "2. Write a Python program that uses lambda functions to sort a list of tuples based on the second\n",
    "element"
   ]
  },
  {
   "cell_type": "code",
   "execution_count": 18,
   "id": "9e7e668e-65ca-4355-95b6-c01e91ba4191",
   "metadata": {},
   "outputs": [],
   "source": [
    "sort = lambda *a : sorted(a)"
   ]
  },
  {
   "cell_type": "code",
   "execution_count": 20,
   "id": "c6937bda-38ef-4591-939b-c6b8828fa4ef",
   "metadata": {},
   "outputs": [
    {
     "data": {
      "text/plain": [
       "[1, 2, 2, 3, 5, 7, 43, 67]"
      ]
     },
     "execution_count": 20,
     "metadata": {},
     "output_type": "execute_result"
    }
   ],
   "source": [
    "sort(2,5,2,1,67,43,7,3)"
   ]
  },
  {
   "cell_type": "markdown",
   "id": "f66bec95-c535-434b-9567-eca02e394374",
   "metadata": {},
   "source": [
    "3. Explain the concept of higher-order functions in Python, and provide an example.\n",
    "\n"
   ]
  },
  {
   "cell_type": "code",
   "execution_count": null,
   "id": "fc6342c9-985e-402d-b65f-9a53ea84e62f",
   "metadata": {},
   "outputs": [],
   "source": []
  },
  {
   "cell_type": "markdown",
   "id": "a90e0f04-f443-4b59-ae59-706805715be2",
   "metadata": {},
   "source": [
    "4. Create a Python function that takes a list of numbers and a function as arguments, applying the\n",
    "function to each element in the list."
   ]
  },
  {
   "cell_type": "code",
   "execution_count": 25,
   "id": "3a669f44-f152-42ca-9103-c76fc102a73c",
   "metadata": {},
   "outputs": [
    {
     "data": {
      "text/plain": [
       "120"
      ]
     },
     "execution_count": 25,
     "metadata": {},
     "output_type": "execute_result"
    }
   ],
   "source": [
    "from functools import reduce\n",
    "l = [1,2,3,4,5]\n",
    "reduce(lambda a, b : a*b, l)"
   ]
  },
  {
   "cell_type": "markdown",
   "id": "7aa32aff-3ce9-4492-8f40-08f66ec6d3d1",
   "metadata": {},
   "source": [
    "Built-in Functions:\n"
   ]
  },
  {
   "cell_type": "markdown",
   "id": "7d40c3df-11e5-47b1-8285-536bed8e6fba",
   "metadata": {},
   "source": [
    "1. Describe the role of built-in functions like `len()`, `max()`, and `min()` in Python.\n"
   ]
  },
  {
   "cell_type": "markdown",
   "id": "24f454ee-aed3-4b5b-8288-44d63f0956dc",
   "metadata": {},
   "source": [
    "len() is the inbuilt function in python.its is used to determine the lenght or the number of items in a list,tuple and dic and set"
   ]
  },
  {
   "cell_type": "code",
   "execution_count": 1,
   "id": "8e02e0ef-cab7-45f1-9c04-48d3e9f7b506",
   "metadata": {},
   "outputs": [
    {
     "name": "stdout",
     "output_type": "stream",
     "text": [
      "13\n"
     ]
    }
   ],
   "source": [
    "text = \"Hello, World!\"\n",
    "length = len(text)\n",
    "print(length)  \n"
   ]
  },
  {
   "cell_type": "markdown",
   "id": "80fc13a2-1a0e-4142-afb4-c4f2bd042b03",
   "metadata": {},
   "source": [
    "max() is a inbuilt function in python that is used for find the maxminum value from a list of a element"
   ]
  },
  {
   "cell_type": "code",
   "execution_count": 2,
   "id": "99af2271-85b5-40a6-839c-00fe8980df4e",
   "metadata": {},
   "outputs": [
    {
     "name": "stdout",
     "output_type": "stream",
     "text": [
      "10\n"
     ]
    }
   ],
   "source": [
    "numbers = [5, 8, 2, 10, 3]\n",
    "max_value = max(numbers)\n",
    "print(max_value)  "
   ]
  },
  {
   "cell_type": "markdown",
   "id": "dba0bb5c-b057-49e5-a1be-3ac806ea3eb4",
   "metadata": {},
   "source": [
    "min() is a inbuilt function in python that is used for find the minimum value number from a collection of element"
   ]
  },
  {
   "cell_type": "code",
   "execution_count": 3,
   "id": "ee79b948-f542-48c6-9851-502527b0a105",
   "metadata": {},
   "outputs": [
    {
     "name": "stdout",
     "output_type": "stream",
     "text": [
      "2\n"
     ]
    }
   ],
   "source": [
    "numbers = [5, 8, 2, 10, 3]\n",
    "min_value = min(numbers)\n",
    "print(min_value)  \n"
   ]
  },
  {
   "cell_type": "markdown",
   "id": "646fc074-f845-4a6f-bda2-8175486c000a",
   "metadata": {},
   "source": [
    "2. Write a Python program that uses the `map()` function to apply a function to each element of a\n",
    "list."
   ]
  },
  {
   "cell_type": "code",
   "execution_count": 4,
   "id": "19153b11-6eb8-4cd9-bed8-30de9e260c85",
   "metadata": {},
   "outputs": [],
   "source": [
    "l = [1,2,3,4,5]\n",
    "a = list(map(lambda a : a**2 , l))"
   ]
  },
  {
   "cell_type": "code",
   "execution_count": 5,
   "id": "a81d889d-7bcb-431d-98c3-5be0105e5ed8",
   "metadata": {},
   "outputs": [
    {
     "data": {
      "text/plain": [
       "[1, 4, 9, 16, 25]"
      ]
     },
     "execution_count": 5,
     "metadata": {},
     "output_type": "execute_result"
    }
   ],
   "source": [
    "a"
   ]
  },
  {
   "cell_type": "markdown",
   "id": "f47a6621-8823-4547-a641-d8c22368152e",
   "metadata": {},
   "source": [
    "3. How does the `filter()` function work in Python, and when would you use it?"
   ]
  },
  {
   "cell_type": "markdown",
   "id": "aede8be2-ecfb-4346-8f33-4983eff5daef",
   "metadata": {},
   "source": [
    "The filter() function in Python is used to filter elements from an iterable (e.g., a list, tuple, or other iterable) based on a given filtering criterion or condition. It takes two arguments: a function that defines the filtering condition and an iterable to be filtered. The function is applied to each element in the iterable, and only the elements that satisfy the condition are included in the output.\n",
    "\n"
   ]
  },
  {
   "cell_type": "code",
   "execution_count": 11,
   "id": "3007a45f-a9ca-4789-a7af-53d27ae3ff64",
   "metadata": {},
   "outputs": [],
   "source": [
    "l1 = [1,2,3,4,5,6,7,8,9]\n",
    "b = list(filter(lambda a :  a%2 == 0, l1))"
   ]
  },
  {
   "cell_type": "code",
   "execution_count": 12,
   "id": "0c7c8670-aa9f-4af8-86f7-792b63965807",
   "metadata": {},
   "outputs": [
    {
     "data": {
      "text/plain": [
       "[2, 4, 6, 8]"
      ]
     },
     "execution_count": 12,
     "metadata": {},
     "output_type": "execute_result"
    }
   ],
   "source": [
    "b"
   ]
  },
  {
   "cell_type": "markdown",
   "id": "1de4534a-ad26-4fd0-b68e-5f98ed72fcdc",
   "metadata": {},
   "source": [
    "4. Create a Python program that uses the `reduce()` function to find the product of all elements in\n",
    "a list."
   ]
  },
  {
   "cell_type": "code",
   "execution_count": 13,
   "id": "93d350f1-6eef-4052-99c6-d70234c7d05a",
   "metadata": {},
   "outputs": [
    {
     "data": {
      "text/plain": [
       "720"
      ]
     },
     "execution_count": 13,
     "metadata": {},
     "output_type": "execute_result"
    }
   ],
   "source": [
    "from functools import reduce\n",
    "l2 =[1,2,3,4,5,6]\n",
    "reduce(lambda a , b : a*b , l2)"
   ]
  },
  {
   "cell_type": "markdown",
   "id": "20ea0827-7959-4ec0-aa71-9407b147b4c1",
   "metadata": {},
   "source": [
    "Function Documentation and Best Practices:"
   ]
  },
  {
   "cell_type": "markdown",
   "id": "60f48c63-366b-4c08-85a9-4e5b302ba7d6",
   "metadata": {},
   "source": [
    "1. Explain the purpose of docstrings in Python functions and how to write them."
   ]
  },
  {
   "cell_type": "markdown",
   "id": "d35f43b3-409f-4e97-99ca-721e664015de",
   "metadata": {},
   "source": [
    "Docstrings (short for documentation strings) in Python are used to provide documentation and information about a function, module, class, or method. They serve as a form of inline documentation and help both developers and users understand the purpose, usage, and behavior of the code."
   ]
  },
  {
   "cell_type": "code",
   "execution_count": 15,
   "id": "c707f4f0-0346-4739-b0d3-6a14e29780e8",
   "metadata": {},
   "outputs": [],
   "source": [
    "def add(x, y):\n",
    "    '''\n",
    "    This function adds two numbers.\n",
    "\n",
    "    Args:\n",
    "        x (int): The first number to be added.\n",
    "        y (int): The second number to be added.\n",
    "\n",
    "    Returns:\n",
    "        int: The sum of the two input numbers.\n",
    "    '''\n",
    "    return x + y\n"
   ]
  },
  {
   "cell_type": "code",
   "execution_count": 16,
   "id": "9b0241b8-dcd5-4366-8597-da7dfcafbb15",
   "metadata": {},
   "outputs": [
    {
     "data": {
      "text/plain": [
       "8"
      ]
     },
     "execution_count": 16,
     "metadata": {},
     "output_type": "execute_result"
    }
   ],
   "source": [
    "add(3,5)"
   ]
  },
  {
   "cell_type": "code",
   "execution_count": null,
   "id": "43b79866-fd8a-42f6-9c5c-9964e5a09500",
   "metadata": {},
   "outputs": [],
   "source": []
  }
 ],
 "metadata": {
  "kernelspec": {
   "display_name": "Python 3 (ipykernel)",
   "language": "python",
   "name": "python3"
  },
  "language_info": {
   "codemirror_mode": {
    "name": "ipython",
    "version": 3
   },
   "file_extension": ".py",
   "mimetype": "text/x-python",
   "name": "python",
   "nbconvert_exporter": "python",
   "pygments_lexer": "ipython3",
   "version": "3.10.8"
  }
 },
 "nbformat": 4,
 "nbformat_minor": 5
}
