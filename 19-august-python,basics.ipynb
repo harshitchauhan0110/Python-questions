{
 "cells": [
  {
   "cell_type": "code",
   "execution_count": 1,
   "id": "b55433af-e533-44c1-bb8f-97e60e34265b",
   "metadata": {},
   "outputs": [],
   "source": [
    "#ANSWER NO. 1"
   ]
  },
  {
   "cell_type": "code",
   "execution_count": 2,
   "id": "392ab078-d6fc-4c5f-afb0-37a60020c9be",
   "metadata": {},
   "outputs": [],
   "source": [
    "x = 10 \n",
    "y = 5 \n",
    "\n",
    "x = x + y \n",
    "y = x - y \n",
    "x = x - y"
   ]
  },
  {
   "cell_type": "code",
   "execution_count": 3,
   "id": "a3042254-e74d-4555-92f6-3b1cd4b4b71d",
   "metadata": {},
   "outputs": [
    {
     "name": "stdout",
     "output_type": "stream",
     "text": [
      "5\n"
     ]
    }
   ],
   "source": [
    "print(x)"
   ]
  },
  {
   "cell_type": "code",
   "execution_count": 4,
   "id": "24274fa3-9c1e-4d78-aa9e-617e3be8ed00",
   "metadata": {},
   "outputs": [
    {
     "name": "stdout",
     "output_type": "stream",
     "text": [
      "10\n"
     ]
    }
   ],
   "source": [
    "print(y)"
   ]
  },
  {
   "cell_type": "code",
   "execution_count": 5,
   "id": "d642378f-7b6b-4c90-b013-b59dfe93935f",
   "metadata": {},
   "outputs": [],
   "source": [
    "#ANSWER NO 2"
   ]
  },
  {
   "cell_type": "code",
   "execution_count": null,
   "id": "2e1f4ae9-f147-410d-9111-88545d91bf75",
   "metadata": {},
   "outputs": [],
   "source": [
    "length = float(input(('enter the length of rectangle here')))\n",
    "breadth = float(input(('enter the breadth of rectangle here')))\n",
    "\n",
    "#formula of area of rectangle \n",
    "area = length*breadth\n",
    "\n",
    "print(int(area))"
   ]
  },
  {
   "cell_type": "code",
   "execution_count": 23,
   "id": "3eb9b834-a299-4e0f-9a15-cc8ffab44967",
   "metadata": {},
   "outputs": [],
   "source": [
    "#ANSWER NO 3 "
   ]
  },
  {
   "cell_type": "code",
   "execution_count": 26,
   "id": "1bc61d01-4827-4c34-bcb4-7fe5bf305cfe",
   "metadata": {},
   "outputs": [
    {
     "name": "stdin",
     "output_type": "stream",
     "text": [
      "enter the temperature in celcius 122\n"
     ]
    }
   ],
   "source": [
    "celcius = float(input('enter the temperature in celcius'))"
   ]
  },
  {
   "cell_type": "code",
   "execution_count": 39,
   "id": "7ec85296-aafd-4303-a50c-2ae0d60d8f57",
   "metadata": {},
   "outputs": [
    {
     "name": "stdout",
     "output_type": "stream",
     "text": [
      "temprature in farenhite : 251.6\n"
     ]
    }
   ],
   "source": [
    "farenhite = celcius*9/5+ 32\n",
    "\n",
    "print('temprature in farenhite :', farenhite)"
   ]
  },
  {
   "cell_type": "code",
   "execution_count": 41,
   "id": "52650781-6040-4dc3-b3cb-4ccb4c222738",
   "metadata": {},
   "outputs": [],
   "source": [
    "#TOPIC STRING BASED ANSWERS"
   ]
  },
  {
   "cell_type": "code",
   "execution_count": 42,
   "id": "1653c704-b6fd-4280-af36-de21142d6b5a",
   "metadata": {},
   "outputs": [],
   "source": [
    "#ANSWER NO 1"
   ]
  },
  {
   "cell_type": "code",
   "execution_count": 50,
   "id": "4e48f0b6-518a-455d-8cf9-53a91a6bc70c",
   "metadata": {},
   "outputs": [
    {
     "name": "stdin",
     "output_type": "stream",
     "text": [
      "enter the string :  mood\n"
     ]
    }
   ],
   "source": [
    "string = input('enter the string : ')\n"
   ]
  },
  {
   "cell_type": "code",
   "execution_count": 51,
   "id": "7e0ff31a-a3e7-4e90-909a-82064bb120b9",
   "metadata": {},
   "outputs": [
    {
     "name": "stdout",
     "output_type": "stream",
     "text": [
      "4\n"
     ]
    }
   ],
   "source": [
    "string_length = len(string)\n",
    "\n",
    "print(string_length)"
   ]
  },
  {
   "cell_type": "code",
   "execution_count": 1,
   "id": "844f7eb4-4ee1-4e2a-aaa8-c09c939ddb01",
   "metadata": {},
   "outputs": [],
   "source": [
    "#ANSWER NO. 2"
   ]
  },
  {
   "cell_type": "code",
   "execution_count": 49,
   "id": "0c47bf06-07b3-44a9-8068-3cc8ff04b0bc",
   "metadata": {},
   "outputs": [
    {
     "name": "stdin",
     "output_type": "stream",
     "text": [
      "enter the sentence : my name is harshit chauhan\n"
     ]
    },
    {
     "name": "stdout",
     "output_type": "stream",
     "text": [
      "my name is harshit chauhan\n",
      "number of vowel in given sentence is: 8\n"
     ]
    }
   ],
   "source": [
    "sentence = input('enter the sentence :')\n",
    "string = sentence.lower()\n",
    "print(string)\n",
    "count = 0 \n",
    "l= ['a','e','i','o','u']\n",
    "for i in string :\n",
    "    if i in l:\n",
    "        count = count+1\n",
    "print('number of vowel in given sentence is:',count)\n",
    "    \n",
    "    \n"
   ]
  },
  {
   "cell_type": "code",
   "execution_count": 26,
   "id": "c8896092-f386-4615-a583-19821b05fe76",
   "metadata": {},
   "outputs": [],
   "source": [
    "#ANSWER 3 "
   ]
  },
  {
   "cell_type": "code",
   "execution_count": 48,
   "id": "b27f43a8-df26-48ee-b0a7-ca13762b9024",
   "metadata": {},
   "outputs": [
    {
     "name": "stdin",
     "output_type": "stream",
     "text": [
      "enter the string:  harshit\n"
     ]
    },
    {
     "name": "stdout",
     "output_type": "stream",
     "text": [
      "reversed string : tihsrah\n"
     ]
    }
   ],
   "source": [
    "s = input('enter the string: ')\n",
    "print('reversed string :', s[-1::-1])"
   ]
  },
  {
   "cell_type": "code",
   "execution_count": 37,
   "id": "f31e6c6e-f679-4a92-927a-e2b547622d5a",
   "metadata": {},
   "outputs": [],
   "source": [
    "#ANSWER NO. 4 "
   ]
  },
  {
   "cell_type": "code",
   "execution_count": 47,
   "id": "a720f705-1486-4cc7-ab0f-09aac718e709",
   "metadata": {},
   "outputs": [
    {
     "name": "stdin",
     "output_type": "stream",
     "text": [
      "enter the value : madam\n"
     ]
    },
    {
     "name": "stdout",
     "output_type": "stream",
     "text": [
      "yes it is palindrome\n"
     ]
    }
   ],
   "source": [
    "p = input('enter the value :')\n",
    "reverse =p[::-1]\n",
    "if p == reverse :\n",
    "    print('yes it is palindrome')\n",
    "else :\n",
    "    print('no it is not palindrome')\n",
    "        \n"
   ]
  },
  {
   "cell_type": "code",
   "execution_count": 42,
   "id": "5f21d834-6027-47f1-95a4-a0d5791c7b05",
   "metadata": {},
   "outputs": [],
   "source": [
    "#ANSWER NO 5 "
   ]
  },
  {
   "cell_type": "code",
   "execution_count": 46,
   "id": "d4fc03fc-3536-4d30-af9a-c812a4c81651",
   "metadata": {},
   "outputs": [
    {
     "name": "stdin",
     "output_type": "stream",
     "text": [
      "enter the string : i am a student from du\n"
     ]
    },
    {
     "name": "stdout",
     "output_type": "stream",
     "text": [
      "iamastudentfromdu\n"
     ]
    }
   ],
   "source": [
    "s1 = input('enter the string :')\n",
    "\n",
    "s2 = s1.replace(' ', '')\n",
    "print(s2)"
   ]
  },
  {
   "cell_type": "code",
   "execution_count": null,
   "id": "544dcac2-7c20-4116-9a54-84abca8b684d",
   "metadata": {},
   "outputs": [],
   "source": []
  }
 ],
 "metadata": {
  "kernelspec": {
   "display_name": "Python 3 (ipykernel)",
   "language": "python",
   "name": "python3"
  },
  "language_info": {
   "codemirror_mode": {
    "name": "ipython",
    "version": 3
   },
   "file_extension": ".py",
   "mimetype": "text/x-python",
   "name": "python",
   "nbconvert_exporter": "python",
   "pygments_lexer": "ipython3",
   "version": "3.10.8"
  }
 },
 "nbformat": 4,
 "nbformat_minor": 5
}
